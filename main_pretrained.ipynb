{
 "cells": [
  {
   "cell_type": "markdown",
   "id": "7b789858-6ff6-464b-812c-87f2700a945b",
   "metadata": {},
   "source": [
    "# Identify Handwritten Symbols with a Convolutional Neural Network \n",
    "\n",
    "## Modules"
   ]
  },
  {
   "cell_type": "code",
   "execution_count": 1,
   "id": "5f47879b-cef4-47d3-bee8-1d5ec818115d",
   "metadata": {},
   "outputs": [],
   "source": [
    "import random\n",
    "import numpy as np\n",
    "import tensorflow as tf\n",
    "import tensorflow_datasets as tfds\n",
    "import matplotlib.pyplot as plt\n",
    "import seaborn as sns\n",
    "\n",
    "from sklearn.metrics import precision_score, recall_score, confusion_matrix"
   ]
  },
  {
   "cell_type": "markdown",
   "id": "f0328f08-6d0b-429b-89fc-838e25c0138e",
   "metadata": {},
   "source": [
    "## Config"
   ]
  },
  {
   "cell_type": "code",
   "execution_count": 2,
   "id": "22e8e854-1fbc-4618-9394-97df3a7b3c43",
   "metadata": {},
   "outputs": [],
   "source": [
    "SEED = 123\n",
    "random.seed(SEED)\n",
    "np.random.seed(SEED)\n",
    "tf.random.set_seed(SEED)\n",
    "tf.keras.utils.set_random_seed(SEED)\n",
    "\n",
    "TRAIN_DATA_DIR = \"./digits_mirror/train\"\n",
    "TEST_DATA_DIR = \"./digits_mirror/test\"\n",
    "PRETRAIN = True\n",
    "BATCH_SIZE = 32"
   ]
  },
  {
   "cell_type": "markdown",
   "id": "e9477e45-bbf0-4b22-8a54-b1cf83f6022e",
   "metadata": {},
   "source": [
    "## Utilities"
   ]
  },
  {
   "cell_type": "code",
   "execution_count": 3,
   "id": "b027cba2-67e3-47ab-8522-46c6afbb9985",
   "metadata": {},
   "outputs": [],
   "source": [
    "def plot_learning_curve(history, indicator=None):\n",
    "    fig, ax = plt.subplots(figsize=(12, 6))\n",
    "\n",
    "    ax.set_title(f\"Learning Curve ({indicator.upper()})\")\n",
    "    ax.plot(history.history[indicator], label=\"train\")\n",
    "    ax.plot(history.history[f\"val_{indicator}\"], label=\"val\")\n",
    "\n",
    "    plt.legend()\n",
    "    plt.show()"
   ]
  },
  {
   "cell_type": "markdown",
   "id": "a2d90399-f1f7-4e60-af8b-3feea5f58249",
   "metadata": {},
   "source": [
    "## Read Own-Dataset"
   ]
  },
  {
   "cell_type": "code",
   "execution_count": 4,
   "id": "3cfbb252-a0b3-4d6e-bf5b-25e033675720",
   "metadata": {},
   "outputs": [
    {
     "name": "stdout",
     "output_type": "stream",
     "text": [
      "train\n",
      "Found 509 files belonging to 10 classes.\n",
      "Using 408 files for training.\n",
      "val\n",
      "Found 509 files belonging to 10 classes.\n",
      "Using 101 files for validation.\n",
      "test\n",
      "Found 109 files belonging to 10 classes.\n"
     ]
    },
    {
     "name": "stderr",
     "output_type": "stream",
     "text": [
      "2022-08-21 10:26:38.182458: I tensorflow/core/platform/cpu_feature_guard.cc:193] This TensorFlow binary is optimized with oneAPI Deep Neural Network Library (oneDNN) to use the following CPU instructions in performance-critical operations:  AVX2 FMA\n",
      "To enable them in other operations, rebuild TensorFlow with the appropriate compiler flags.\n"
     ]
    }
   ],
   "source": [
    "SPLIT      = 0.2\n",
    "IMAGE_SIZE = 28\n",
    "\n",
    "print(\"train\")\n",
    "train = tf.keras.utils.image_dataset_from_directory(\n",
    "    TRAIN_DATA_DIR,\n",
    "    validation_split=SPLIT,\n",
    "    seed=42,\n",
    "    color_mode=\"grayscale\",\n",
    "    subset=\"training\",\n",
    "    image_size=(IMAGE_SIZE, IMAGE_SIZE),\n",
    "    batch_size=BATCH_SIZE,\n",
    ")\n",
    "\n",
    "print(\"val\")\n",
    "val = tf.keras.utils.image_dataset_from_directory(\n",
    "    TRAIN_DATA_DIR,\n",
    "    validation_split=SPLIT,\n",
    "    seed=42,\n",
    "    color_mode=\"grayscale\",\n",
    "    subset=\"validation\",\n",
    "    image_size=(IMAGE_SIZE, IMAGE_SIZE),\n",
    "    batch_size=BATCH_SIZE,\n",
    ")\n",
    "\n",
    "print(\"test\")\n",
    "test = tf.keras.utils.image_dataset_from_directory(\n",
    "    TEST_DATA_DIR,\n",
    "    seed=42,\n",
    "    shuffle=True,\n",
    "    color_mode=\"grayscale\",\n",
    "    image_size=(IMAGE_SIZE, IMAGE_SIZE),\n",
    "    batch_size=1000,\n",
    ")"
   ]
  },
  {
   "cell_type": "markdown",
   "id": "3d202214-f6ab-45e2-b814-740277ecc351",
   "metadata": {},
   "source": [
    "## Read MNIST-Dataset"
   ]
  },
  {
   "cell_type": "code",
   "execution_count": 5,
   "id": "ec5ea9de-f969-4800-9cb5-1dda11eb148e",
   "metadata": {},
   "outputs": [],
   "source": [
    "(mnist_train, mnist_val), ds_info = tfds.load(\n",
    "    'mnist',\n",
    "    split=['train', 'test'],\n",
    "    shuffle_files=True,\n",
    "    as_supervised=True,\n",
    "    with_info=True,\n",
    "    batch_size=BATCH_SIZE\n",
    ")"
   ]
  },
  {
   "cell_type": "markdown",
   "id": "5ff2d1eb-57ba-4755-a4f1-273a184700da",
   "metadata": {},
   "source": [
    "## Create Model"
   ]
  },
  {
   "cell_type": "code",
   "execution_count": 6,
   "id": "b2cf8203-0406-4423-a012-5b48cafd0738",
   "metadata": {},
   "outputs": [
    {
     "name": "stdout",
     "output_type": "stream",
     "text": [
      "WARNING:tensorflow:Using a while_loop for converting RngReadAndSkip\n"
     ]
    },
    {
     "name": "stderr",
     "output_type": "stream",
     "text": [
      "WARNING:tensorflow:Using a while_loop for converting RngReadAndSkip\n"
     ]
    },
    {
     "name": "stdout",
     "output_type": "stream",
     "text": [
      "WARNING:tensorflow:Using a while_loop for converting Bitcast\n"
     ]
    },
    {
     "name": "stderr",
     "output_type": "stream",
     "text": [
      "WARNING:tensorflow:Using a while_loop for converting Bitcast\n"
     ]
    },
    {
     "name": "stdout",
     "output_type": "stream",
     "text": [
      "WARNING:tensorflow:Using a while_loop for converting Bitcast\n"
     ]
    },
    {
     "name": "stderr",
     "output_type": "stream",
     "text": [
      "WARNING:tensorflow:Using a while_loop for converting Bitcast\n"
     ]
    },
    {
     "name": "stdout",
     "output_type": "stream",
     "text": [
      "WARNING:tensorflow:Using a while_loop for converting StatelessRandomUniformFullIntV2\n"
     ]
    },
    {
     "name": "stderr",
     "output_type": "stream",
     "text": [
      "WARNING:tensorflow:Using a while_loop for converting StatelessRandomUniformFullIntV2\n"
     ]
    },
    {
     "name": "stdout",
     "output_type": "stream",
     "text": [
      "WARNING:tensorflow:Using a while_loop for converting StatelessRandomGetKeyCounter\n"
     ]
    },
    {
     "name": "stderr",
     "output_type": "stream",
     "text": [
      "WARNING:tensorflow:Using a while_loop for converting StatelessRandomGetKeyCounter\n"
     ]
    },
    {
     "name": "stdout",
     "output_type": "stream",
     "text": [
      "WARNING:tensorflow:Using a while_loop for converting StatelessRandomUniformV2\n"
     ]
    },
    {
     "name": "stderr",
     "output_type": "stream",
     "text": [
      "WARNING:tensorflow:Using a while_loop for converting StatelessRandomUniformV2\n"
     ]
    },
    {
     "name": "stdout",
     "output_type": "stream",
     "text": [
      "WARNING:tensorflow:Using a while_loop for converting AdjustContrastv2\n"
     ]
    },
    {
     "name": "stderr",
     "output_type": "stream",
     "text": [
      "WARNING:tensorflow:Using a while_loop for converting AdjustContrastv2\n"
     ]
    },
    {
     "name": "stdout",
     "output_type": "stream",
     "text": [
      "WARNING:tensorflow:Using a while_loop for converting RngReadAndSkip\n"
     ]
    },
    {
     "name": "stderr",
     "output_type": "stream",
     "text": [
      "WARNING:tensorflow:Using a while_loop for converting RngReadAndSkip\n"
     ]
    },
    {
     "name": "stdout",
     "output_type": "stream",
     "text": [
      "WARNING:tensorflow:Using a while_loop for converting Bitcast\n"
     ]
    },
    {
     "name": "stderr",
     "output_type": "stream",
     "text": [
      "WARNING:tensorflow:Using a while_loop for converting Bitcast\n"
     ]
    },
    {
     "name": "stdout",
     "output_type": "stream",
     "text": [
      "WARNING:tensorflow:Using a while_loop for converting Bitcast\n"
     ]
    },
    {
     "name": "stderr",
     "output_type": "stream",
     "text": [
      "WARNING:tensorflow:Using a while_loop for converting Bitcast\n"
     ]
    },
    {
     "name": "stdout",
     "output_type": "stream",
     "text": [
      "WARNING:tensorflow:Using a while_loop for converting StatelessRandomUniformV2\n"
     ]
    },
    {
     "name": "stderr",
     "output_type": "stream",
     "text": [
      "WARNING:tensorflow:Using a while_loop for converting StatelessRandomUniformV2\n"
     ]
    },
    {
     "name": "stdout",
     "output_type": "stream",
     "text": [
      "Model: \"sequential\"\n",
      "_________________________________________________________________\n",
      " Layer (type)                Output Shape              Param #   \n",
      "=================================================================\n",
      " random_rotation (RandomRota  (None, 28, 28, 1)        0         \n",
      " tion)                                                           \n",
      "                                                                 \n",
      " random_zoom (RandomZoom)    (None, 28, 28, 1)         0         \n",
      "                                                                 \n",
      " random_contrast (RandomCont  (None, 28, 28, 1)        0         \n",
      " rast)                                                           \n",
      "                                                                 \n",
      " random_brightness (RandomBr  (None, 28, 28, 1)        0         \n",
      " ightness)                                                       \n",
      "                                                                 \n",
      " rescaling (Rescaling)       (None, 28, 28, 1)         0         \n",
      "                                                                 \n",
      " conv2d (Conv2D)             (None, 26, 26, 32)        320       \n",
      "                                                                 \n",
      " dropout (Dropout)           (None, 26, 26, 32)        0         \n",
      "                                                                 \n",
      " max_pooling2d (MaxPooling2D  (None, 13, 13, 32)       0         \n",
      " )                                                               \n",
      "                                                                 \n",
      " conv2d_1 (Conv2D)           (None, 11, 11, 32)        9248      \n",
      "                                                                 \n",
      " dropout_1 (Dropout)         (None, 11, 11, 32)        0         \n",
      "                                                                 \n",
      " max_pooling2d_1 (MaxPooling  (None, 5, 5, 32)         0         \n",
      " 2D)                                                             \n",
      "                                                                 \n",
      " flatten (Flatten)           (None, 800)               0         \n",
      "                                                                 \n",
      " dense (Dense)               (None, 10)                8010      \n",
      "                                                                 \n",
      "=================================================================\n",
      "Total params: 17,578\n",
      "Trainable params: 17,578\n",
      "Non-trainable params: 0\n",
      "_________________________________________________________________\n"
     ]
    }
   ],
   "source": [
    "model = tf.keras.Sequential()\n",
    "dropout = 0.1\n",
    "channel = 32\n",
    "\n",
    "model.add(tf.keras.layers.RandomRotation(0.1, input_shape=(IMAGE_SIZE, IMAGE_SIZE, 1)))\n",
    "model.add(tf.keras.layers.RandomZoom(0.1))\n",
    "model.add(tf.keras.layers.RandomContrast(0.1))\n",
    "model.add(tf.keras.layers.RandomBrightness(0.1))\n",
    "model.add(tf.keras.layers.Rescaling(1./255))\n",
    "model.add(tf.keras.layers.Conv2D(channel, 3, activation=\"relu\"))\n",
    "model.add(tf.keras.layers.Dropout(dropout))\n",
    "model.add(tf.keras.layers.MaxPooling2D())\n",
    "model.add(tf.keras.layers.Conv2D(channel, 3, activation=\"relu\"))\n",
    "model.add(tf.keras.layers.Dropout(dropout))\n",
    "model.add(tf.keras.layers.MaxPooling2D())\n",
    "model.add(tf.keras.layers.Flatten())\n",
    "model.add(tf.keras.layers.Dense(10, activation=\"softmax\"))\n",
    "\n",
    "optimizer = tf.keras.optimizers.Adam(learning_rate=0.001)\n",
    "model.compile(\n",
    "    optimizer=optimizer,\n",
    "    loss=tf.keras.losses.SparseCategoricalCrossentropy(),\n",
    "    metrics=['accuracy']\n",
    ")\n",
    "model.summary()"
   ]
  },
  {
   "cell_type": "markdown",
   "id": "53c1e000-b4cf-4ba4-be53-a50f6b4a2536",
   "metadata": {},
   "source": [
    "## Train model on MNIST-Dataset"
   ]
  },
  {
   "cell_type": "code",
   "execution_count": 7,
   "id": "f49ca28d-86db-401b-9f6c-7c21787caa0a",
   "metadata": {},
   "outputs": [
    {
     "name": "stdout",
     "output_type": "stream",
     "text": [
      "Epoch 1/10\n",
      "WARNING:tensorflow:Using a while_loop for converting RngReadAndSkip\n"
     ]
    },
    {
     "name": "stderr",
     "output_type": "stream",
     "text": [
      "WARNING:tensorflow:Using a while_loop for converting RngReadAndSkip\n"
     ]
    },
    {
     "name": "stdout",
     "output_type": "stream",
     "text": [
      "WARNING:tensorflow:Using a while_loop for converting Bitcast\n"
     ]
    },
    {
     "name": "stderr",
     "output_type": "stream",
     "text": [
      "WARNING:tensorflow:Using a while_loop for converting Bitcast\n"
     ]
    },
    {
     "name": "stdout",
     "output_type": "stream",
     "text": [
      "WARNING:tensorflow:Using a while_loop for converting Bitcast\n"
     ]
    },
    {
     "name": "stderr",
     "output_type": "stream",
     "text": [
      "WARNING:tensorflow:Using a while_loop for converting Bitcast\n"
     ]
    },
    {
     "name": "stdout",
     "output_type": "stream",
     "text": [
      "WARNING:tensorflow:Using a while_loop for converting StatelessRandomUniformFullIntV2\n"
     ]
    },
    {
     "name": "stderr",
     "output_type": "stream",
     "text": [
      "WARNING:tensorflow:Using a while_loop for converting StatelessRandomUniformFullIntV2\n"
     ]
    },
    {
     "name": "stdout",
     "output_type": "stream",
     "text": [
      "WARNING:tensorflow:Using a while_loop for converting StatelessRandomGetKeyCounter\n"
     ]
    },
    {
     "name": "stderr",
     "output_type": "stream",
     "text": [
      "WARNING:tensorflow:Using a while_loop for converting StatelessRandomGetKeyCounter\n"
     ]
    },
    {
     "name": "stdout",
     "output_type": "stream",
     "text": [
      "WARNING:tensorflow:Using a while_loop for converting StatelessRandomUniformV2\n"
     ]
    },
    {
     "name": "stderr",
     "output_type": "stream",
     "text": [
      "WARNING:tensorflow:Using a while_loop for converting StatelessRandomUniformV2\n"
     ]
    },
    {
     "name": "stdout",
     "output_type": "stream",
     "text": [
      "WARNING:tensorflow:Using a while_loop for converting AdjustContrastv2\n"
     ]
    },
    {
     "name": "stderr",
     "output_type": "stream",
     "text": [
      "WARNING:tensorflow:Using a while_loop for converting AdjustContrastv2\n"
     ]
    },
    {
     "name": "stdout",
     "output_type": "stream",
     "text": [
      "WARNING:tensorflow:Using a while_loop for converting RngReadAndSkip\n"
     ]
    },
    {
     "name": "stderr",
     "output_type": "stream",
     "text": [
      "WARNING:tensorflow:Using a while_loop for converting RngReadAndSkip\n"
     ]
    },
    {
     "name": "stdout",
     "output_type": "stream",
     "text": [
      "WARNING:tensorflow:Using a while_loop for converting Bitcast\n"
     ]
    },
    {
     "name": "stderr",
     "output_type": "stream",
     "text": [
      "WARNING:tensorflow:Using a while_loop for converting Bitcast\n"
     ]
    },
    {
     "name": "stdout",
     "output_type": "stream",
     "text": [
      "WARNING:tensorflow:Using a while_loop for converting Bitcast\n"
     ]
    },
    {
     "name": "stderr",
     "output_type": "stream",
     "text": [
      "WARNING:tensorflow:Using a while_loop for converting Bitcast\n"
     ]
    },
    {
     "name": "stdout",
     "output_type": "stream",
     "text": [
      "WARNING:tensorflow:Using a while_loop for converting StatelessRandomUniformV2\n"
     ]
    },
    {
     "name": "stderr",
     "output_type": "stream",
     "text": [
      "WARNING:tensorflow:Using a while_loop for converting StatelessRandomUniformV2\n"
     ]
    },
    {
     "name": "stdout",
     "output_type": "stream",
     "text": [
      "WARNING:tensorflow:Using a while_loop for converting RngReadAndSkip\n"
     ]
    },
    {
     "name": "stderr",
     "output_type": "stream",
     "text": [
      "WARNING:tensorflow:Using a while_loop for converting RngReadAndSkip\n"
     ]
    },
    {
     "name": "stdout",
     "output_type": "stream",
     "text": [
      "WARNING:tensorflow:Using a while_loop for converting Bitcast\n"
     ]
    },
    {
     "name": "stderr",
     "output_type": "stream",
     "text": [
      "WARNING:tensorflow:Using a while_loop for converting Bitcast\n"
     ]
    },
    {
     "name": "stdout",
     "output_type": "stream",
     "text": [
      "WARNING:tensorflow:Using a while_loop for converting Bitcast\n"
     ]
    },
    {
     "name": "stderr",
     "output_type": "stream",
     "text": [
      "WARNING:tensorflow:Using a while_loop for converting Bitcast\n"
     ]
    },
    {
     "name": "stdout",
     "output_type": "stream",
     "text": [
      "WARNING:tensorflow:Using a while_loop for converting StatelessRandomUniformFullIntV2\n"
     ]
    },
    {
     "name": "stderr",
     "output_type": "stream",
     "text": [
      "WARNING:tensorflow:Using a while_loop for converting StatelessRandomUniformFullIntV2\n"
     ]
    },
    {
     "name": "stdout",
     "output_type": "stream",
     "text": [
      "WARNING:tensorflow:Using a while_loop for converting StatelessRandomGetKeyCounter\n"
     ]
    },
    {
     "name": "stderr",
     "output_type": "stream",
     "text": [
      "WARNING:tensorflow:Using a while_loop for converting StatelessRandomGetKeyCounter\n"
     ]
    },
    {
     "name": "stdout",
     "output_type": "stream",
     "text": [
      "WARNING:tensorflow:Using a while_loop for converting StatelessRandomUniformV2\n"
     ]
    },
    {
     "name": "stderr",
     "output_type": "stream",
     "text": [
      "WARNING:tensorflow:Using a while_loop for converting StatelessRandomUniformV2\n"
     ]
    },
    {
     "name": "stdout",
     "output_type": "stream",
     "text": [
      "WARNING:tensorflow:Using a while_loop for converting AdjustContrastv2\n"
     ]
    },
    {
     "name": "stderr",
     "output_type": "stream",
     "text": [
      "WARNING:tensorflow:Using a while_loop for converting AdjustContrastv2\n"
     ]
    },
    {
     "name": "stdout",
     "output_type": "stream",
     "text": [
      "WARNING:tensorflow:Using a while_loop for converting RngReadAndSkip\n"
     ]
    },
    {
     "name": "stderr",
     "output_type": "stream",
     "text": [
      "WARNING:tensorflow:Using a while_loop for converting RngReadAndSkip\n"
     ]
    },
    {
     "name": "stdout",
     "output_type": "stream",
     "text": [
      "WARNING:tensorflow:Using a while_loop for converting Bitcast\n"
     ]
    },
    {
     "name": "stderr",
     "output_type": "stream",
     "text": [
      "WARNING:tensorflow:Using a while_loop for converting Bitcast\n"
     ]
    },
    {
     "name": "stdout",
     "output_type": "stream",
     "text": [
      "WARNING:tensorflow:Using a while_loop for converting Bitcast\n"
     ]
    },
    {
     "name": "stderr",
     "output_type": "stream",
     "text": [
      "WARNING:tensorflow:Using a while_loop for converting Bitcast\n"
     ]
    },
    {
     "name": "stdout",
     "output_type": "stream",
     "text": [
      "WARNING:tensorflow:Using a while_loop for converting StatelessRandomUniformV2\n"
     ]
    },
    {
     "name": "stderr",
     "output_type": "stream",
     "text": [
      "WARNING:tensorflow:Using a while_loop for converting StatelessRandomUniformV2\n"
     ]
    },
    {
     "name": "stdout",
     "output_type": "stream",
     "text": [
      "1875/1875 [==============================] - 172s 89ms/step - loss: 0.3113 - accuracy: 0.9031 - val_loss: 0.1001 - val_accuracy: 0.9705\n",
      "Epoch 2/10\n",
      "1875/1875 [==============================] - 162s 86ms/step - loss: 0.1329 - accuracy: 0.9598 - val_loss: 0.0752 - val_accuracy: 0.9761\n",
      "Epoch 3/10\n",
      "1875/1875 [==============================] - 103s 55ms/step - loss: 0.1052 - accuracy: 0.9677 - val_loss: 0.0620 - val_accuracy: 0.9799\n",
      "Epoch 4/10\n",
      "1875/1875 [==============================] - 85s 45ms/step - loss: 0.0910 - accuracy: 0.9722 - val_loss: 0.0574 - val_accuracy: 0.9818\n",
      "Epoch 5/10\n",
      "1875/1875 [==============================] - 94s 50ms/step - loss: 0.0821 - accuracy: 0.9750 - val_loss: 0.0447 - val_accuracy: 0.9848\n",
      "Epoch 6/10\n",
      "1875/1875 [==============================] - 75s 40ms/step - loss: 0.0754 - accuracy: 0.9770 - val_loss: 0.0482 - val_accuracy: 0.9838\n",
      "Epoch 7/10\n",
      "1875/1875 [==============================] - 76s 41ms/step - loss: 0.0701 - accuracy: 0.9782 - val_loss: 0.0435 - val_accuracy: 0.9862\n",
      "Epoch 8/10\n",
      "1875/1875 [==============================] - 77s 41ms/step - loss: 0.0664 - accuracy: 0.9795 - val_loss: 0.0422 - val_accuracy: 0.9859\n",
      "Epoch 9/10\n",
      "1875/1875 [==============================] - 75s 40ms/step - loss: 0.0623 - accuracy: 0.9804 - val_loss: 0.0379 - val_accuracy: 0.9892\n",
      "Epoch 10/10\n",
      "1875/1875 [==============================] - 94s 50ms/step - loss: 0.0601 - accuracy: 0.9809 - val_loss: 0.0407 - val_accuracy: 0.9869\n"
     ]
    }
   ],
   "source": [
    "if PRETRAIN:\n",
    "    history = model.fit(mnist_train, validation_data=mnist_val, epochs=10)"
   ]
  },
  {
   "cell_type": "markdown",
   "id": "00b204de-fed3-42a8-8df0-bed2bf41bfa7",
   "metadata": {},
   "source": [
    "### Debug training"
   ]
  },
  {
   "cell_type": "code",
   "execution_count": 8,
   "id": "8764b3d2-951a-4ee1-b653-f63808826ecb",
   "metadata": {},
   "outputs": [
    {
     "data": {
      "image/png": "[encoded data removed]",
      "text/plain": [
       "<Figure size 864x432 with 1 Axes>"
      ]
     },
     "metadata": {
      "needs_background": "light"
     },
     "output_type": "display_data"
    }
   ],
   "source": [
    "if PRETRAIN:\n",
    "    plot_learning_curve(history, indicator=\"loss\")"
   ]
  },
  {
   "cell_type": "code",
   "execution_count": 9,
   "id": "11a7ead4-f6d0-438d-a23a-31f1bdb508da",
   "metadata": {},
   "outputs": [
    {
     "data": {
      "image/png": "[encoded data removed]",
      "text/plain": [
       "<Figure size 864x432 with 1 Axes>"
      ]
     },
     "metadata": {
      "needs_background": "light"
     },
     "output_type": "display_data"
    }
   ],
   "source": [
    "if PRETRAIN:\n",
    "    plot_learning_curve(history, indicator=\"accuracy\")"
   ]
  },
  {
   "cell_type": "markdown",
   "id": "a2ccb9dc-8263-48d3-849f-0c151af4def5",
   "metadata": {},
   "source": [
    "## Train model on OWN-Dataset"
   ]
  },
  {
   "cell_type": "code",
   "execution_count": 10,
   "id": "acd0b0fa-266f-4dde-9169-2b9ca080ecfb",
   "metadata": {},
   "outputs": [
    {
     "name": "stdout",
     "output_type": "stream",
     "text": [
      "Epoch 1/100\n",
      "WARNING:tensorflow:Using a while_loop for converting RngReadAndSkip\n"
     ]
    },
    {
     "name": "stderr",
     "output_type": "stream",
     "text": [
      "WARNING:tensorflow:Using a while_loop for converting RngReadAndSkip\n"
     ]
    },
    {
     "name": "stdout",
     "output_type": "stream",
     "text": [
      "WARNING:tensorflow:Using a while_loop for converting Bitcast\n"
     ]
    },
    {
     "name": "stderr",
     "output_type": "stream",
     "text": [
      "WARNING:tensorflow:Using a while_loop for converting Bitcast\n"
     ]
    },
    {
     "name": "stdout",
     "output_type": "stream",
     "text": [
      "WARNING:tensorflow:Using a while_loop for converting Bitcast\n"
     ]
    },
    {
     "name": "stderr",
     "output_type": "stream",
     "text": [
      "WARNING:tensorflow:Using a while_loop for converting Bitcast\n"
     ]
    },
    {
     "name": "stdout",
     "output_type": "stream",
     "text": [
      "WARNING:tensorflow:Using a while_loop for converting StatelessRandomUniformFullIntV2\n"
     ]
    },
    {
     "name": "stderr",
     "output_type": "stream",
     "text": [
      "WARNING:tensorflow:Using a while_loop for converting StatelessRandomUniformFullIntV2\n"
     ]
    },
    {
     "name": "stdout",
     "output_type": "stream",
     "text": [
      "WARNING:tensorflow:Using a while_loop for converting StatelessRandomGetKeyCounter\n"
     ]
    },
    {
     "name": "stderr",
     "output_type": "stream",
     "text": [
      "WARNING:tensorflow:Using a while_loop for converting StatelessRandomGetKeyCounter\n"
     ]
    },
    {
     "name": "stdout",
     "output_type": "stream",
     "text": [
      "WARNING:tensorflow:Using a while_loop for converting StatelessRandomUniformV2\n"
     ]
    },
    {
     "name": "stderr",
     "output_type": "stream",
     "text": [
      "WARNING:tensorflow:Using a while_loop for converting StatelessRandomUniformV2\n"
     ]
    },
    {
     "name": "stdout",
     "output_type": "stream",
     "text": [
      "WARNING:tensorflow:Using a while_loop for converting AdjustContrastv2\n"
     ]
    },
    {
     "name": "stderr",
     "output_type": "stream",
     "text": [
      "WARNING:tensorflow:Using a while_loop for converting AdjustContrastv2\n"
     ]
    },
    {
     "name": "stdout",
     "output_type": "stream",
     "text": [
      "WARNING:tensorflow:Using a while_loop for converting RngReadAndSkip\n"
     ]
    },
    {
     "name": "stderr",
     "output_type": "stream",
     "text": [
      "WARNING:tensorflow:Using a while_loop for converting RngReadAndSkip\n"
     ]
    },
    {
     "name": "stdout",
     "output_type": "stream",
     "text": [
      "WARNING:tensorflow:Using a while_loop for converting Bitcast\n"
     ]
    },
    {
     "name": "stderr",
     "output_type": "stream",
     "text": [
      "WARNING:tensorflow:Using a while_loop for converting Bitcast\n"
     ]
    },
    {
     "name": "stdout",
     "output_type": "stream",
     "text": [
      "WARNING:tensorflow:Using a while_loop for converting Bitcast\n"
     ]
    },
    {
     "name": "stderr",
     "output_type": "stream",
     "text": [
      "WARNING:tensorflow:Using a while_loop for converting Bitcast\n"
     ]
    },
    {
     "name": "stdout",
     "output_type": "stream",
     "text": [
      "WARNING:tensorflow:Using a while_loop for converting StatelessRandomUniformV2\n"
     ]
    },
    {
     "name": "stderr",
     "output_type": "stream",
     "text": [
      "WARNING:tensorflow:Using a while_loop for converting StatelessRandomUniformV2\n"
     ]
    },
    {
     "name": "stdout",
     "output_type": "stream",
     "text": [
      "13/13 [==============================] - 8s 129ms/step - loss: 2.7814 - accuracy: 0.1765 - val_loss: 2.1511 - val_accuracy: 0.2970\n",
      "Epoch 2/100\n",
      "13/13 [==============================] - 1s 85ms/step - loss: 2.0284 - accuracy: 0.3039 - val_loss: 1.7179 - val_accuracy: 0.3564\n",
      "Epoch 3/100\n",
      "13/13 [==============================] - 1s 95ms/step - loss: 1.8598 - accuracy: 0.3578 - val_loss: 1.4445 - val_accuracy: 0.4950\n",
      "Epoch 4/100\n",
      "13/13 [==============================] - 1s 95ms/step - loss: 1.6150 - accuracy: 0.4657 - val_loss: 1.2025 - val_accuracy: 0.5644\n",
      "Epoch 5/100\n",
      "13/13 [==============================] - 1s 89ms/step - loss: 1.4815 - accuracy: 0.5270 - val_loss: 0.9922 - val_accuracy: 0.6733\n",
      "Epoch 6/100\n",
      "13/13 [==============================] - 1s 89ms/step - loss: 1.3335 - accuracy: 0.5711 - val_loss: 0.8573 - val_accuracy: 0.7228\n",
      "Epoch 7/100\n",
      "13/13 [==============================] - 1s 89ms/step - loss: 1.1259 - accuracy: 0.6201 - val_loss: 0.7316 - val_accuracy: 0.7921\n",
      "Epoch 8/100\n",
      "13/13 [==============================] - 1s 69ms/step - loss: 1.0176 - accuracy: 0.6985 - val_loss: 0.6583 - val_accuracy: 0.8119\n",
      "Epoch 9/100\n",
      "13/13 [==============================] - 1s 63ms/step - loss: 0.8907 - accuracy: 0.7328 - val_loss: 0.5818 - val_accuracy: 0.8416\n",
      "Epoch 10/100\n",
      "13/13 [==============================] - 1s 57ms/step - loss: 0.8584 - accuracy: 0.7549 - val_loss: 0.5442 - val_accuracy: 0.8515\n",
      "Epoch 11/100\n",
      "13/13 [==============================] - 1s 73ms/step - loss: 0.8023 - accuracy: 0.7500 - val_loss: 0.5182 - val_accuracy: 0.8515\n",
      "Epoch 12/100\n",
      "13/13 [==============================] - 1s 64ms/step - loss: 0.7852 - accuracy: 0.7500 - val_loss: 0.5154 - val_accuracy: 0.8416\n",
      "Epoch 13/100\n",
      "13/13 [==============================] - 1s 62ms/step - loss: 0.7058 - accuracy: 0.7917 - val_loss: 0.4751 - val_accuracy: 0.8218\n",
      "Epoch 14/100\n",
      "13/13 [==============================] - 1s 50ms/step - loss: 0.7394 - accuracy: 0.7819 - val_loss: 0.4478 - val_accuracy: 0.8515\n",
      "Epoch 15/100\n",
      "13/13 [==============================] - 1s 71ms/step - loss: 0.6445 - accuracy: 0.7941 - val_loss: 0.4459 - val_accuracy: 0.8614\n",
      "Epoch 16/100\n",
      "13/13 [==============================] - 1s 55ms/step - loss: 0.6363 - accuracy: 0.7966 - val_loss: 0.4511 - val_accuracy: 0.8614\n",
      "Epoch 17/100\n",
      "13/13 [==============================] - 1s 50ms/step - loss: 0.5297 - accuracy: 0.8284 - val_loss: 0.4178 - val_accuracy: 0.8713\n",
      "Epoch 18/100\n",
      "13/13 [==============================] - 1s 45ms/step - loss: 0.5429 - accuracy: 0.8407 - val_loss: 0.4028 - val_accuracy: 0.8713\n",
      "Epoch 19/100\n",
      "13/13 [==============================] - 1s 47ms/step - loss: 0.4987 - accuracy: 0.8554 - val_loss: 0.3857 - val_accuracy: 0.8911\n",
      "Epoch 20/100\n",
      "13/13 [==============================] - 1s 49ms/step - loss: 0.4843 - accuracy: 0.8480 - val_loss: 0.4568 - val_accuracy: 0.8614\n",
      "Epoch 21/100\n",
      "13/13 [==============================] - 1s 45ms/step - loss: 0.4963 - accuracy: 0.8578 - val_loss: 0.3781 - val_accuracy: 0.8911\n",
      "Epoch 22/100\n",
      "13/13 [==============================] - 1s 55ms/step - loss: 0.4757 - accuracy: 0.8529 - val_loss: 0.4612 - val_accuracy: 0.8713\n",
      "Epoch 23/100\n",
      "13/13 [==============================] - 1s 46ms/step - loss: 0.4399 - accuracy: 0.8922 - val_loss: 0.4160 - val_accuracy: 0.8614\n",
      "Epoch 24/100\n",
      "13/13 [==============================] - 1s 49ms/step - loss: 0.4672 - accuracy: 0.8603 - val_loss: 0.3547 - val_accuracy: 0.8911\n",
      "Epoch 25/100\n",
      "13/13 [==============================] - 1s 45ms/step - loss: 0.4193 - accuracy: 0.8676 - val_loss: 0.3638 - val_accuracy: 0.9109\n",
      "Epoch 26/100\n",
      "13/13 [==============================] - 1s 46ms/step - loss: 0.4235 - accuracy: 0.8603 - val_loss: 0.4012 - val_accuracy: 0.8812\n",
      "Epoch 27/100\n",
      "13/13 [==============================] - 1s 44ms/step - loss: 0.4042 - accuracy: 0.8676 - val_loss: 0.3750 - val_accuracy: 0.9010\n",
      "Epoch 28/100\n",
      "13/13 [==============================] - 1s 44ms/step - loss: 0.3668 - accuracy: 0.8701 - val_loss: 0.3854 - val_accuracy: 0.9010\n",
      "Epoch 29/100\n",
      "13/13 [==============================] - 1s 42ms/step - loss: 0.3081 - accuracy: 0.8922 - val_loss: 0.3394 - val_accuracy: 0.9109\n",
      "Epoch 30/100\n",
      "13/13 [==============================] - 1s 53ms/step - loss: 0.3851 - accuracy: 0.8824 - val_loss: 0.4128 - val_accuracy: 0.8812\n",
      "Epoch 31/100\n",
      "13/13 [==============================] - 1s 46ms/step - loss: 0.3880 - accuracy: 0.8725 - val_loss: 0.3445 - val_accuracy: 0.9109\n",
      "Epoch 32/100\n",
      "13/13 [==============================] - 1s 44ms/step - loss: 0.3140 - accuracy: 0.9020 - val_loss: 0.3718 - val_accuracy: 0.9208\n",
      "Epoch 33/100\n",
      "13/13 [==============================] - 1s 45ms/step - loss: 0.3277 - accuracy: 0.9069 - val_loss: 0.3292 - val_accuracy: 0.9208\n",
      "Epoch 34/100\n",
      "13/13 [==============================] - 1s 47ms/step - loss: 0.2930 - accuracy: 0.9118 - val_loss: 0.3450 - val_accuracy: 0.9208\n",
      "Epoch 35/100\n",
      "13/13 [==============================] - 1s 48ms/step - loss: 0.3184 - accuracy: 0.8995 - val_loss: 0.3446 - val_accuracy: 0.9109\n",
      "Epoch 36/100\n",
      "13/13 [==============================] - 1s 42ms/step - loss: 0.3170 - accuracy: 0.8946 - val_loss: 0.3257 - val_accuracy: 0.9109\n",
      "Epoch 37/100\n",
      "13/13 [==============================] - 1s 43ms/step - loss: 0.2633 - accuracy: 0.9240 - val_loss: 0.3523 - val_accuracy: 0.9010\n",
      "Epoch 38/100\n",
      "13/13 [==============================] - 1s 46ms/step - loss: 0.2713 - accuracy: 0.9289 - val_loss: 0.3505 - val_accuracy: 0.8812\n",
      "Epoch 39/100\n",
      "13/13 [==============================] - 1s 45ms/step - loss: 0.3042 - accuracy: 0.9118 - val_loss: 0.3754 - val_accuracy: 0.9109\n",
      "Epoch 40/100\n",
      "13/13 [==============================] - 1s 45ms/step - loss: 0.3273 - accuracy: 0.9069 - val_loss: 0.3739 - val_accuracy: 0.9010\n",
      "Epoch 41/100\n",
      "13/13 [==============================] - 1s 48ms/step - loss: 0.2760 - accuracy: 0.9118 - val_loss: 0.3809 - val_accuracy: 0.8911\n",
      "Epoch 42/100\n",
      "13/13 [==============================] - 1s 48ms/step - loss: 0.2550 - accuracy: 0.9289 - val_loss: 0.3739 - val_accuracy: 0.9010\n",
      "Epoch 43/100\n",
      "13/13 [==============================] - 1s 42ms/step - loss: 0.2596 - accuracy: 0.9363 - val_loss: 0.3456 - val_accuracy: 0.8911\n",
      "Epoch 44/100\n",
      "13/13 [==============================] - 1s 46ms/step - loss: 0.2845 - accuracy: 0.9118 - val_loss: 0.3339 - val_accuracy: 0.9109\n",
      "Epoch 45/100\n",
      "13/13 [==============================] - 1s 40ms/step - loss: 0.2165 - accuracy: 0.9338 - val_loss: 0.3509 - val_accuracy: 0.8911\n",
      "Epoch 46/100\n",
      "13/13 [==============================] - 0s 37ms/step - loss: 0.2457 - accuracy: 0.9142 - val_loss: 0.3400 - val_accuracy: 0.9208\n",
      "Epoch 47/100\n",
      "13/13 [==============================] - 1s 42ms/step - loss: 0.2101 - accuracy: 0.9363 - val_loss: 0.3252 - val_accuracy: 0.9010\n",
      "Epoch 48/100\n",
      "13/13 [==============================] - 1s 38ms/step - loss: 0.2003 - accuracy: 0.9461 - val_loss: 0.3733 - val_accuracy: 0.9109\n",
      "Epoch 49/100\n",
      "13/13 [==============================] - 1s 42ms/step - loss: 0.2293 - accuracy: 0.9338 - val_loss: 0.3286 - val_accuracy: 0.9010\n",
      "Epoch 50/100\n",
      "13/13 [==============================] - 1s 40ms/step - loss: 0.2071 - accuracy: 0.9363 - val_loss: 0.3796 - val_accuracy: 0.8911\n",
      "Epoch 51/100\n",
      "13/13 [==============================] - 1s 50ms/step - loss: 0.2122 - accuracy: 0.9338 - val_loss: 0.3170 - val_accuracy: 0.9208\n",
      "Epoch 52/100\n",
      "13/13 [==============================] - 1s 49ms/step - loss: 0.2041 - accuracy: 0.9510 - val_loss: 0.2801 - val_accuracy: 0.9208\n",
      "Epoch 53/100\n",
      "13/13 [==============================] - 1s 48ms/step - loss: 0.1978 - accuracy: 0.9436 - val_loss: 0.3449 - val_accuracy: 0.9109\n",
      "Epoch 54/100\n",
      "13/13 [==============================] - 1s 41ms/step - loss: 0.1752 - accuracy: 0.9436 - val_loss: 0.3304 - val_accuracy: 0.8911\n",
      "Epoch 55/100\n",
      "13/13 [==============================] - 1s 45ms/step - loss: 0.1988 - accuracy: 0.9559 - val_loss: 0.3150 - val_accuracy: 0.9109\n",
      "Epoch 56/100\n",
      "13/13 [==============================] - 1s 38ms/step - loss: 0.1508 - accuracy: 0.9559 - val_loss: 0.3599 - val_accuracy: 0.9010\n",
      "Epoch 57/100\n",
      "13/13 [==============================] - 1s 38ms/step - loss: 0.1949 - accuracy: 0.9559 - val_loss: 0.3321 - val_accuracy: 0.9307\n",
      "Epoch 58/100\n",
      "13/13 [==============================] - 1s 44ms/step - loss: 0.1524 - accuracy: 0.9608 - val_loss: 0.3406 - val_accuracy: 0.9109\n",
      "Epoch 59/100\n",
      "13/13 [==============================] - 1s 49ms/step - loss: 0.1337 - accuracy: 0.9706 - val_loss: 0.3488 - val_accuracy: 0.9010\n",
      "Epoch 60/100\n",
      "13/13 [==============================] - 1s 46ms/step - loss: 0.1509 - accuracy: 0.9657 - val_loss: 0.3445 - val_accuracy: 0.9307\n",
      "Epoch 61/100\n",
      "13/13 [==============================] - 1s 42ms/step - loss: 0.1647 - accuracy: 0.9534 - val_loss: 0.3484 - val_accuracy: 0.9109\n",
      "Epoch 62/100\n",
      "13/13 [==============================] - 1s 43ms/step - loss: 0.1725 - accuracy: 0.9412 - val_loss: 0.3077 - val_accuracy: 0.9109\n",
      "Epoch 63/100\n",
      "13/13 [==============================] - 1s 48ms/step - loss: 0.1713 - accuracy: 0.9510 - val_loss: 0.3485 - val_accuracy: 0.9109\n",
      "Epoch 64/100\n",
      "13/13 [==============================] - 1s 48ms/step - loss: 0.2291 - accuracy: 0.9363 - val_loss: 0.3725 - val_accuracy: 0.9010\n",
      "Epoch 65/100\n",
      "13/13 [==============================] - 1s 49ms/step - loss: 0.1583 - accuracy: 0.9681 - val_loss: 0.3263 - val_accuracy: 0.8911\n",
      "Epoch 66/100\n",
      "13/13 [==============================] - 1s 53ms/step - loss: 0.1678 - accuracy: 0.9534 - val_loss: 0.3293 - val_accuracy: 0.8911\n",
      "Epoch 67/100\n",
      "13/13 [==============================] - 1s 54ms/step - loss: 0.1324 - accuracy: 0.9657 - val_loss: 0.3111 - val_accuracy: 0.8911\n",
      "Epoch 68/100\n",
      "13/13 [==============================] - 1s 51ms/step - loss: 0.1749 - accuracy: 0.9510 - val_loss: 0.3591 - val_accuracy: 0.8911\n",
      "Epoch 69/100\n",
      "13/13 [==============================] - 1s 45ms/step - loss: 0.1645 - accuracy: 0.9436 - val_loss: 0.3501 - val_accuracy: 0.9010\n",
      "Epoch 70/100\n",
      "13/13 [==============================] - 1s 47ms/step - loss: 0.1586 - accuracy: 0.9485 - val_loss: 0.3234 - val_accuracy: 0.9010\n",
      "Epoch 71/100\n",
      "13/13 [==============================] - 1s 66ms/step - loss: 0.1662 - accuracy: 0.9559 - val_loss: 0.3131 - val_accuracy: 0.9109\n",
      "Epoch 72/100\n",
      "13/13 [==============================] - 1s 51ms/step - loss: 0.1445 - accuracy: 0.9510 - val_loss: 0.3524 - val_accuracy: 0.9109\n",
      "Epoch 73/100\n",
      "13/13 [==============================] - 1s 47ms/step - loss: 0.1398 - accuracy: 0.9608 - val_loss: 0.2832 - val_accuracy: 0.9109\n",
      "Epoch 74/100\n",
      "13/13 [==============================] - 1s 44ms/step - loss: 0.1361 - accuracy: 0.9534 - val_loss: 0.3503 - val_accuracy: 0.9010\n",
      "Epoch 75/100\n",
      "13/13 [==============================] - 1s 48ms/step - loss: 0.1610 - accuracy: 0.9583 - val_loss: 0.3563 - val_accuracy: 0.9109\n",
      "Epoch 76/100\n",
      "13/13 [==============================] - 1s 50ms/step - loss: 0.1524 - accuracy: 0.9583 - val_loss: 0.3271 - val_accuracy: 0.9109\n",
      "Epoch 77/100\n",
      "13/13 [==============================] - 1s 105ms/step - loss: 0.1243 - accuracy: 0.9681 - val_loss: 0.3215 - val_accuracy: 0.9109\n",
      "Epoch 78/100\n",
      "13/13 [==============================] - 1s 76ms/step - loss: 0.1103 - accuracy: 0.9779 - val_loss: 0.3429 - val_accuracy: 0.8911\n",
      "Epoch 79/100\n",
      "13/13 [==============================] - 1s 63ms/step - loss: 0.1527 - accuracy: 0.9632 - val_loss: 0.3165 - val_accuracy: 0.9010\n",
      "Epoch 80/100\n",
      "13/13 [==============================] - 1s 72ms/step - loss: 0.1180 - accuracy: 0.9632 - val_loss: 0.3959 - val_accuracy: 0.9010\n",
      "Epoch 81/100\n",
      "13/13 [==============================] - 1s 90ms/step - loss: 0.1158 - accuracy: 0.9657 - val_loss: 0.2934 - val_accuracy: 0.9208\n",
      "Epoch 82/100\n",
      "13/13 [==============================] - 1s 72ms/step - loss: 0.1271 - accuracy: 0.9681 - val_loss: 0.3798 - val_accuracy: 0.8911\n",
      "Epoch 83/100\n",
      "13/13 [==============================] - 1s 82ms/step - loss: 0.1134 - accuracy: 0.9755 - val_loss: 0.3517 - val_accuracy: 0.9010\n",
      "Epoch 84/100\n",
      "13/13 [==============================] - 1s 87ms/step - loss: 0.1107 - accuracy: 0.9779 - val_loss: 0.3511 - val_accuracy: 0.9208\n",
      "Epoch 85/100\n",
      "13/13 [==============================] - 1s 94ms/step - loss: 0.0806 - accuracy: 0.9902 - val_loss: 0.3460 - val_accuracy: 0.9010\n",
      "Epoch 86/100\n",
      "13/13 [==============================] - 1s 88ms/step - loss: 0.1206 - accuracy: 0.9681 - val_loss: 0.3286 - val_accuracy: 0.9010\n",
      "Epoch 87/100\n",
      "13/13 [==============================] - 1s 81ms/step - loss: 0.1006 - accuracy: 0.9706 - val_loss: 0.3430 - val_accuracy: 0.8911\n",
      "Epoch 88/100\n",
      "13/13 [==============================] - 1s 85ms/step - loss: 0.1043 - accuracy: 0.9779 - val_loss: 0.3330 - val_accuracy: 0.9109\n",
      "Epoch 89/100\n",
      "13/13 [==============================] - 1s 99ms/step - loss: 0.1173 - accuracy: 0.9681 - val_loss: 0.3713 - val_accuracy: 0.8911\n",
      "Epoch 90/100\n",
      "13/13 [==============================] - 1s 95ms/step - loss: 0.0965 - accuracy: 0.9657 - val_loss: 0.3074 - val_accuracy: 0.9208\n",
      "Epoch 91/100\n",
      "13/13 [==============================] - 1s 104ms/step - loss: 0.1168 - accuracy: 0.9632 - val_loss: 0.2898 - val_accuracy: 0.9208\n",
      "Epoch 92/100\n",
      "13/13 [==============================] - 1s 108ms/step - loss: 0.1076 - accuracy: 0.9730 - val_loss: 0.3235 - val_accuracy: 0.9109\n",
      "Epoch 93/100\n",
      "13/13 [==============================] - 1s 108ms/step - loss: 0.0791 - accuracy: 0.9877 - val_loss: 0.3131 - val_accuracy: 0.9010\n",
      "Epoch 94/100\n",
      "13/13 [==============================] - 2s 115ms/step - loss: 0.1285 - accuracy: 0.9608 - val_loss: 0.3422 - val_accuracy: 0.8911\n",
      "Epoch 95/100\n",
      "13/13 [==============================] - 1s 99ms/step - loss: 0.1106 - accuracy: 0.9730 - val_loss: 0.3330 - val_accuracy: 0.9010\n",
      "Epoch 96/100\n",
      "13/13 [==============================] - 1s 97ms/step - loss: 0.1135 - accuracy: 0.9583 - val_loss: 0.3694 - val_accuracy: 0.8812\n",
      "Epoch 97/100\n",
      "13/13 [==============================] - 1s 106ms/step - loss: 0.0928 - accuracy: 0.9779 - val_loss: 0.3755 - val_accuracy: 0.9010\n",
      "Epoch 98/100\n",
      "13/13 [==============================] - 1s 100ms/step - loss: 0.0838 - accuracy: 0.9779 - val_loss: 0.3328 - val_accuracy: 0.9109\n",
      "Epoch 99/100\n",
      "13/13 [==============================] - 1s 114ms/step - loss: 0.0942 - accuracy: 0.9828 - val_loss: 0.3257 - val_accuracy: 0.9109\n",
      "Epoch 100/100\n",
      "13/13 [==============================] - 1s 96ms/step - loss: 0.0846 - accuracy: 0.9804 - val_loss: 0.3084 - val_accuracy: 0.9307\n"
     ]
    }
   ],
   "source": [
    "history = model.fit(train, validation_data=val, epochs=100)"
   ]
  },
  {
   "cell_type": "markdown",
   "id": "b37fab1c-9e0a-4a17-8ae7-c9e2c31b7dad",
   "metadata": {},
   "source": [
    "### Debug training"
   ]
  },
  {
   "cell_type": "code",
   "execution_count": 11,
   "id": "24f6dd3d-3473-4c52-95e1-cba48f3d848e",
   "metadata": {},
   "outputs": [
    {
     "data": {
      "image/png": "[encoded data removed]",
      "text/plain": [
       "<Figure size 864x432 with 1 Axes>"
      ]
     },
     "metadata": {
      "needs_background": "light"
     },
     "output_type": "display_data"
    }
   ],
   "source": [
    "plot_learning_curve(history, indicator=\"loss\")"
   ]
  },
  {
   "cell_type": "code",
   "execution_count": 12,
   "id": "5654fecf-2c42-4ee4-9c2c-68cf02786ef8",
   "metadata": {},
   "outputs": [
    {
     "data": {
      "image/png": "[encoded data removed]",
      "text/plain": [
       "<Figure size 864x432 with 1 Axes>"
      ]
     },
     "metadata": {
      "needs_background": "light"
     },
     "output_type": "display_data"
    }
   ],
   "source": [
    "plot_learning_curve(history, indicator=\"accuracy\")"
   ]
  },
  {
   "cell_type": "markdown",
   "id": "6e8cdb92-81d9-4b6e-af5f-99e2f33a10c3",
   "metadata": {},
   "source": [
    "## Evaluate Model"
   ]
  },
  {
   "cell_type": "code",
   "execution_count": 13,
   "id": "5d9ad20c-eb89-4c0b-9949-ae1fd9a7ed97",
   "metadata": {},
   "outputs": [
    {
     "name": "stdout",
     "output_type": "stream",
     "text": [
      "4/4 [==============================] - 1s 13ms/step\n"
     ]
    },
    {
     "data": {
      "text/plain": [
       "array([2, 3, 3, 1, 7, 1, 0, 1, 3, 5, 4, 2, 4, 3, 9, 0, 4, 6, 7, 6, 6, 6,\n",
       "       3, 0, 4, 7, 5, 2, 5, 0, 5, 9, 9, 0, 6, 6, 1, 1, 5, 5, 7, 2, 2, 9,\n",
       "       7, 9, 6, 2, 7, 2, 3, 7, 5, 9, 0, 6, 5, 4, 4, 3, 8, 3, 0, 2, 8, 2,\n",
       "       1, 0, 6, 1, 3, 1, 1, 0, 0, 9, 3, 5, 8, 0, 0, 7, 2, 7, 4, 8, 7, 8,\n",
       "       2, 0, 9, 8, 8, 8, 6, 9, 9, 4, 8, 1, 2, 0, 5, 7, 4, 0, 8, 6, 0])"
      ]
     },
     "execution_count": 13,
     "metadata": {},
     "output_type": "execute_result"
    }
   ],
   "source": [
    "test_data = list(test)\n",
    "x_test = test_data[0][0].numpy()\n",
    "y_test = test_data[0][1].numpy()\n",
    "\n",
    "y_pred = model.predict(x_test)\n",
    "y_pred = np.argmax(y_pred, axis=1)\n",
    "y_pred"
   ]
  },
  {
   "cell_type": "markdown",
   "id": "51b1ac90-34bd-4632-a37e-83a01d61dc05",
   "metadata": {},
   "source": [
    "### Precision"
   ]
  },
  {
   "cell_type": "code",
   "execution_count": 14,
   "id": "3626826f-daa8-49d6-b422-7f8f5df647fc",
   "metadata": {},
   "outputs": [
    {
     "data": {
      "text/plain": [
       "array([2, 3, 3, 1, 7, 1, 0, 1, 3, 5, 4, 2, 4, 3, 9, 0, 4, 6, 7, 6, 6, 6,\n",
       "       3, 0, 4, 7, 5, 2, 5, 0, 5, 9, 9, 0, 6, 6, 1, 1, 5, 5, 7, 2, 2, 9,\n",
       "       7, 9, 6, 2, 7, 2, 3, 7, 5, 9, 0, 6, 5, 4, 4, 3, 8, 3, 0, 2, 8, 2,\n",
       "       1, 0, 6, 1, 3, 1, 1, 0, 0, 9, 3, 5, 8, 0, 0, 7, 2, 7, 4, 8, 7, 8,\n",
       "       2, 0, 9, 8, 8, 8, 6, 9, 9, 4, 8, 1, 2, 0, 5, 7, 4, 0, 8, 6, 0])"
      ]
     },
     "execution_count": 14,
     "metadata": {},
     "output_type": "execute_result"
    }
   ],
   "source": [
    "y_pred"
   ]
  },
  {
   "cell_type": "code",
   "execution_count": 15,
   "id": "88346034-c76a-48af-9d73-71fc59d6876b",
   "metadata": {},
   "outputs": [
    {
     "data": {
      "text/plain": [
       "array([2, 3, 3, 1, 7, 1, 0, 1, 3, 5, 4, 2, 4, 3, 9, 0, 4, 6, 7, 6, 6, 6,\n",
       "       3, 0, 4, 7, 5, 2, 5, 0, 5, 9, 9, 0, 6, 6, 1, 1, 5, 5, 7, 2, 2, 9,\n",
       "       7, 9, 6, 2, 7, 5, 3, 7, 5, 9, 0, 6, 5, 4, 4, 3, 8, 3, 0, 2, 8, 2,\n",
       "       1, 0, 6, 1, 3, 1, 1, 0, 0, 9, 3, 5, 8, 0, 0, 2, 2, 7, 4, 8, 7, 8,\n",
       "       5, 0, 9, 8, 8, 8, 6, 9, 9, 4, 8, 1, 2, 0, 5, 7, 4, 0, 8, 4, 0],\n",
       "      dtype=int32)"
      ]
     },
     "execution_count": 15,
     "metadata": {},
     "output_type": "execute_result"
    }
   ],
   "source": [
    "y_test"
   ]
  },
  {
   "cell_type": "code",
   "execution_count": 16,
   "id": "8adbba95-5fd3-4684-9ea3-859634353335",
   "metadata": {},
   "outputs": [
    {
     "data": {
      "text/plain": [
       "0.963302752293578"
      ]
     },
     "execution_count": 16,
     "metadata": {},
     "output_type": "execute_result"
    }
   ],
   "source": [
    "from sklearn.metrics import accuracy_score\n",
    "\n",
    "accuracy_score(y_test, y_pred)"
   ]
  },
  {
   "cell_type": "code",
   "execution_count": 17,
   "id": "71499aea-c93f-4439-bf90-19aac3c535e5",
   "metadata": {},
   "outputs": [
    {
     "data": {
      "text/plain": [
       "array([1.        , 1.        , 0.83333333, 1.        , 1.        ,\n",
       "       1.        , 0.90909091, 0.90909091, 1.        , 1.        ])"
      ]
     },
     "execution_count": 17,
     "metadata": {},
     "output_type": "execute_result"
    }
   ],
   "source": [
    "precision_score(y_test, y_pred, labels=[i for i in range(10)], average=None)"
   ]
  },
  {
   "cell_type": "markdown",
   "id": "67a7c593-fc74-4265-9709-4d85c0b0fb36",
   "metadata": {},
   "source": [
    "### Recall"
   ]
  },
  {
   "cell_type": "code",
   "execution_count": 18,
   "id": "fe3969e0-24d9-4cbf-b160-cc4a2cb3da6d",
   "metadata": {},
   "outputs": [
    {
     "data": {
      "text/plain": [
       "array([1.        , 1.        , 0.90909091, 1.        , 0.9       ,\n",
       "       0.83333333, 1.        , 1.        , 1.        , 1.        ])"
      ]
     },
     "execution_count": 18,
     "metadata": {},
     "output_type": "execute_result"
    }
   ],
   "source": [
    "recall_score(y_test, y_pred, labels=[i for i in range(10)], average=None)"
   ]
  },
  {
   "cell_type": "markdown",
   "id": "7242f47a-cb81-44c7-98e4-294e68611f03",
   "metadata": {},
   "source": [
    "### Confusion Matrix"
   ]
  },
  {
   "cell_type": "code",
   "execution_count": 19,
   "id": "9d7c958e-fa48-4f35-a7f3-ffe37da6cf81",
   "metadata": {},
   "outputs": [
    {
     "data": {
      "image/png": "[encoded data removed]",
      "text/plain": [
       "<Figure size 720x576 with 2 Axes>"
      ]
     },
     "metadata": {
      "needs_background": "light"
     },
     "output_type": "display_data"
    }
   ],
   "source": [
    "cm = confusion_matrix(y_test, y_pred)\n",
    "\n",
    "fig, ax = plt.subplots(figsize=(10, 8))\n",
    "s = sns.heatmap(cm, annot=True, ax=ax)\n",
    "# TODO: check proper ordering y_pred-y_test y_axis-x_axis\n",
    "s.set(xlabel='y_pred', ylabel='y_test', title=\"Confusion Matrix\")\n",
    "plt.show()"
   ]
  },
  {
   "cell_type": "markdown",
   "id": "b47f60b5-205d-4b4b-a7ec-309f04f1d418",
   "metadata": {},
   "source": [
    "## Save Model"
   ]
  },
  {
   "cell_type": "code",
   "execution_count": 20,
   "id": "a60cc1be-be9c-4006-9b07-3942fe2ca4a1",
   "metadata": {},
   "outputs": [
    {
     "name": "stdout",
     "output_type": "stream",
     "text": [
      "WARNING:tensorflow:Using a while_loop for converting RngReadAndSkip\n"
     ]
    },
    {
     "name": "stderr",
     "output_type": "stream",
     "text": [
      "WARNING:tensorflow:Using a while_loop for converting RngReadAndSkip\n"
     ]
    },
    {
     "name": "stdout",
     "output_type": "stream",
     "text": [
      "WARNING:tensorflow:Using a while_loop for converting Bitcast\n"
     ]
    },
    {
     "name": "stderr",
     "output_type": "stream",
     "text": [
      "WARNING:tensorflow:Using a while_loop for converting Bitcast\n"
     ]
    },
    {
     "name": "stdout",
     "output_type": "stream",
     "text": [
      "WARNING:tensorflow:Using a while_loop for converting Bitcast\n"
     ]
    },
    {
     "name": "stderr",
     "output_type": "stream",
     "text": [
      "WARNING:tensorflow:Using a while_loop for converting Bitcast\n"
     ]
    },
    {
     "name": "stdout",
     "output_type": "stream",
     "text": [
      "WARNING:tensorflow:Using a while_loop for converting StatelessRandomUniformV2\n"
     ]
    },
    {
     "name": "stderr",
     "output_type": "stream",
     "text": [
      "WARNING:tensorflow:Using a while_loop for converting StatelessRandomUniformV2\n"
     ]
    },
    {
     "name": "stdout",
     "output_type": "stream",
     "text": [
      "WARNING:tensorflow:Using a while_loop for converting RngReadAndSkip\n"
     ]
    },
    {
     "name": "stderr",
     "output_type": "stream",
     "text": [
      "WARNING:tensorflow:Using a while_loop for converting RngReadAndSkip\n"
     ]
    },
    {
     "name": "stdout",
     "output_type": "stream",
     "text": [
      "WARNING:tensorflow:Using a while_loop for converting Bitcast\n"
     ]
    },
    {
     "name": "stderr",
     "output_type": "stream",
     "text": [
      "WARNING:tensorflow:Using a while_loop for converting Bitcast\n"
     ]
    },
    {
     "name": "stdout",
     "output_type": "stream",
     "text": [
      "WARNING:tensorflow:Using a while_loop for converting Bitcast\n"
     ]
    },
    {
     "name": "stderr",
     "output_type": "stream",
     "text": [
      "WARNING:tensorflow:Using a while_loop for converting Bitcast\n"
     ]
    },
    {
     "name": "stdout",
     "output_type": "stream",
     "text": [
      "WARNING:tensorflow:Using a while_loop for converting StatelessRandomUniformFullIntV2\n"
     ]
    },
    {
     "name": "stderr",
     "output_type": "stream",
     "text": [
      "WARNING:tensorflow:Using a while_loop for converting StatelessRandomUniformFullIntV2\n"
     ]
    },
    {
     "name": "stdout",
     "output_type": "stream",
     "text": [
      "WARNING:tensorflow:Using a while_loop for converting StatelessRandomGetKeyCounter\n"
     ]
    },
    {
     "name": "stderr",
     "output_type": "stream",
     "text": [
      "WARNING:tensorflow:Using a while_loop for converting StatelessRandomGetKeyCounter\n"
     ]
    },
    {
     "name": "stdout",
     "output_type": "stream",
     "text": [
      "WARNING:tensorflow:Using a while_loop for converting StatelessRandomUniformV2\n"
     ]
    },
    {
     "name": "stderr",
     "output_type": "stream",
     "text": [
      "WARNING:tensorflow:Using a while_loop for converting StatelessRandomUniformV2\n"
     ]
    },
    {
     "name": "stdout",
     "output_type": "stream",
     "text": [
      "WARNING:tensorflow:Using a while_loop for converting AdjustContrastv2\n"
     ]
    },
    {
     "name": "stderr",
     "output_type": "stream",
     "text": [
      "WARNING:tensorflow:Using a while_loop for converting AdjustContrastv2\n"
     ]
    },
    {
     "name": "stdout",
     "output_type": "stream",
     "text": [
      "WARNING:tensorflow:Using a while_loop for converting RngReadAndSkip\n"
     ]
    },
    {
     "name": "stderr",
     "output_type": "stream",
     "text": [
      "WARNING:tensorflow:Using a while_loop for converting RngReadAndSkip\n"
     ]
    },
    {
     "name": "stdout",
     "output_type": "stream",
     "text": [
      "WARNING:tensorflow:Using a while_loop for converting Bitcast\n"
     ]
    },
    {
     "name": "stderr",
     "output_type": "stream",
     "text": [
      "WARNING:tensorflow:Using a while_loop for converting Bitcast\n"
     ]
    },
    {
     "name": "stdout",
     "output_type": "stream",
     "text": [
      "WARNING:tensorflow:Using a while_loop for converting Bitcast\n"
     ]
    },
    {
     "name": "stderr",
     "output_type": "stream",
     "text": [
      "WARNING:tensorflow:Using a while_loop for converting Bitcast\n"
     ]
    },
    {
     "name": "stdout",
     "output_type": "stream",
     "text": [
      "WARNING:tensorflow:Using a while_loop for converting StatelessRandomUniformFullIntV2\n"
     ]
    },
    {
     "name": "stderr",
     "output_type": "stream",
     "text": [
      "WARNING:tensorflow:Using a while_loop for converting StatelessRandomUniformFullIntV2\n"
     ]
    },
    {
     "name": "stdout",
     "output_type": "stream",
     "text": [
      "WARNING:tensorflow:Using a while_loop for converting StatelessRandomGetKeyCounter\n"
     ]
    },
    {
     "name": "stderr",
     "output_type": "stream",
     "text": [
      "WARNING:tensorflow:Using a while_loop for converting StatelessRandomGetKeyCounter\n"
     ]
    },
    {
     "name": "stdout",
     "output_type": "stream",
     "text": [
      "WARNING:tensorflow:Using a while_loop for converting StatelessRandomUniformV2\n"
     ]
    },
    {
     "name": "stderr",
     "output_type": "stream",
     "text": [
      "WARNING:tensorflow:Using a while_loop for converting StatelessRandomUniformV2\n"
     ]
    },
    {
     "name": "stdout",
     "output_type": "stream",
     "text": [
      "WARNING:tensorflow:Using a while_loop for converting AdjustContrastv2\n"
     ]
    },
    {
     "name": "stderr",
     "output_type": "stream",
     "text": [
      "WARNING:tensorflow:Using a while_loop for converting AdjustContrastv2\n"
     ]
    },
    {
     "name": "stdout",
     "output_type": "stream",
     "text": [
      "WARNING:tensorflow:Using a while_loop for converting RngReadAndSkip\n"
     ]
    },
    {
     "name": "stderr",
     "output_type": "stream",
     "text": [
      "WARNING:tensorflow:Using a while_loop for converting RngReadAndSkip\n"
     ]
    },
    {
     "name": "stdout",
     "output_type": "stream",
     "text": [
      "WARNING:tensorflow:Using a while_loop for converting Bitcast\n"
     ]
    },
    {
     "name": "stderr",
     "output_type": "stream",
     "text": [
      "WARNING:tensorflow:Using a while_loop for converting Bitcast\n"
     ]
    },
    {
     "name": "stdout",
     "output_type": "stream",
     "text": [
      "WARNING:tensorflow:Using a while_loop for converting Bitcast\n"
     ]
    },
    {
     "name": "stderr",
     "output_type": "stream",
     "text": [
      "WARNING:tensorflow:Using a while_loop for converting Bitcast\n"
     ]
    },
    {
     "name": "stdout",
     "output_type": "stream",
     "text": [
      "WARNING:tensorflow:Using a while_loop for converting StatelessRandomUniformV2\n"
     ]
    },
    {
     "name": "stderr",
     "output_type": "stream",
     "text": [
      "WARNING:tensorflow:Using a while_loop for converting StatelessRandomUniformV2\n"
     ]
    },
    {
     "name": "stdout",
     "output_type": "stream",
     "text": [
      "WARNING:tensorflow:Using a while_loop for converting RngReadAndSkip\n"
     ]
    },
    {
     "name": "stderr",
     "output_type": "stream",
     "text": [
      "WARNING:tensorflow:Using a while_loop for converting RngReadAndSkip\n"
     ]
    },
    {
     "name": "stdout",
     "output_type": "stream",
     "text": [
      "WARNING:tensorflow:Using a while_loop for converting Bitcast\n"
     ]
    },
    {
     "name": "stderr",
     "output_type": "stream",
     "text": [
      "WARNING:tensorflow:Using a while_loop for converting Bitcast\n"
     ]
    },
    {
     "name": "stdout",
     "output_type": "stream",
     "text": [
      "WARNING:tensorflow:Using a while_loop for converting Bitcast\n"
     ]
    },
    {
     "name": "stderr",
     "output_type": "stream",
     "text": [
      "WARNING:tensorflow:Using a while_loop for converting Bitcast\n"
     ]
    },
    {
     "name": "stdout",
     "output_type": "stream",
     "text": [
      "WARNING:tensorflow:Using a while_loop for converting StatelessRandomUniformFullIntV2\n"
     ]
    },
    {
     "name": "stderr",
     "output_type": "stream",
     "text": [
      "WARNING:tensorflow:Using a while_loop for converting StatelessRandomUniformFullIntV2\n"
     ]
    },
    {
     "name": "stdout",
     "output_type": "stream",
     "text": [
      "WARNING:tensorflow:Using a while_loop for converting StatelessRandomGetKeyCounter\n"
     ]
    },
    {
     "name": "stderr",
     "output_type": "stream",
     "text": [
      "WARNING:tensorflow:Using a while_loop for converting StatelessRandomGetKeyCounter\n"
     ]
    },
    {
     "name": "stdout",
     "output_type": "stream",
     "text": [
      "WARNING:tensorflow:Using a while_loop for converting StatelessRandomUniformV2\n"
     ]
    },
    {
     "name": "stderr",
     "output_type": "stream",
     "text": [
      "WARNING:tensorflow:Using a while_loop for converting StatelessRandomUniformV2\n"
     ]
    },
    {
     "name": "stdout",
     "output_type": "stream",
     "text": [
      "WARNING:tensorflow:Using a while_loop for converting AdjustContrastv2\n"
     ]
    },
    {
     "name": "stderr",
     "output_type": "stream",
     "text": [
      "WARNING:tensorflow:Using a while_loop for converting AdjustContrastv2\n"
     ]
    },
    {
     "name": "stdout",
     "output_type": "stream",
     "text": [
      "WARNING:tensorflow:Using a while_loop for converting RngReadAndSkip\n"
     ]
    },
    {
     "name": "stderr",
     "output_type": "stream",
     "text": [
      "WARNING:tensorflow:Using a while_loop for converting RngReadAndSkip\n"
     ]
    },
    {
     "name": "stdout",
     "output_type": "stream",
     "text": [
      "WARNING:tensorflow:Using a while_loop for converting Bitcast\n"
     ]
    },
    {
     "name": "stderr",
     "output_type": "stream",
     "text": [
      "WARNING:tensorflow:Using a while_loop for converting Bitcast\n"
     ]
    },
    {
     "name": "stdout",
     "output_type": "stream",
     "text": [
      "WARNING:tensorflow:Using a while_loop for converting Bitcast\n"
     ]
    },
    {
     "name": "stderr",
     "output_type": "stream",
     "text": [
      "WARNING:tensorflow:Using a while_loop for converting Bitcast\n"
     ]
    },
    {
     "name": "stdout",
     "output_type": "stream",
     "text": [
      "WARNING:tensorflow:Using a while_loop for converting StatelessRandomUniformV2\n"
     ]
    },
    {
     "name": "stderr",
     "output_type": "stream",
     "text": [
      "WARNING:tensorflow:Using a while_loop for converting StatelessRandomUniformV2\n",
      "WARNING:absl:Found untraced functions such as _jit_compiled_convolution_op, _jit_compiled_convolution_op while saving (showing 2 of 2). These functions will not be directly callable after loading.\n"
     ]
    },
    {
     "name": "stdout",
     "output_type": "stream",
     "text": [
      "INFO:tensorflow:Assets written to: model/assets\n"
     ]
    },
    {
     "name": "stderr",
     "output_type": "stream",
     "text": [
      "INFO:tensorflow:Assets written to: model/assets\n"
     ]
    }
   ],
   "source": [
    "model.save(\"model\")"
   ]
  },
  {
   "cell_type": "code",
   "execution_count": null,
   "id": "0c5e5787-289a-420d-84d1-65466d10f041",
   "metadata": {},
   "outputs": [],
   "source": []
  }
 ],
 "metadata": {
  "kernelspec": {
   "display_name": "Python 3 (ipykernel)",
   "language": "python",
   "name": "python3"
  },
  "language_info": {
   "codemirror_mode": {
    "name": "ipython",
    "version": 3
   },
   "file_extension": ".py",
   "mimetype": "text/x-python",
   "name": "python",
   "nbconvert_exporter": "python",
   "pygments_lexer": "ipython3",
   "version": "3.9.12"
  }
 },
 "nbformat": 4,
 "nbformat_minor": 5
}
