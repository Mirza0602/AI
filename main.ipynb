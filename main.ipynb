{
 "cells": [
  {
   "cell_type": "markdown",
   "id": "7b789858-6ff6-464b-812c-87f2700a945b",
   "metadata": {},
   "source": [
    "# Identify Handwritten Symbols with a Convolutional Neural Network \n",
    "\n",
    "## Modules"
   ]
  },
  {
   "cell_type": "code",
   "execution_count": 1,
   "id": "5f47879b-cef4-47d3-bee8-1d5ec818115d",
   "metadata": {},
   "outputs": [],
   "source": [
    "import random\n",
    "import numpy as np\n",
    "import tensorflow as tf\n",
    "import tensorflow_datasets as tfds\n",
    "import matplotlib.pyplot as plt\n",
    "import seaborn as sns\n",
    "\n",
    "from sklearn.metrics import precision_score, recall_score, confusion_matrix"
   ]
  },
  {
   "cell_type": "markdown",
   "id": "f0328f08-6d0b-429b-89fc-838e25c0138e",
   "metadata": {},
   "source": [
    "## Config"
   ]
  },
  {
   "cell_type": "code",
   "execution_count": 2,
   "id": "22e8e854-1fbc-4618-9394-97df3a7b3c43",
   "metadata": {},
   "outputs": [],
   "source": [
    "# Seed setzen damit die Zufalls-Funktionen reproduzierbar sind\n",
    "SEED = 123\n",
    "random.seed(SEED)\n",
    "np.random.seed(SEED)\n",
    "tf.random.set_seed(SEED)\n",
    "tf.keras.utils.set_random_seed(SEED)\n",
    "\n",
    "# Konstanten für weiteren Programm-Ablauf festlegen\n",
    "TRAIN_DATA_DIR = \"./digits_mirror/train\"\n",
    "TEST_DATA_DIR = \"./digits_mirror/test\"\n",
    "PRETRAIN = True\n",
    "BATCH_SIZE = 32"
   ]
  },
  {
   "cell_type": "markdown",
   "id": "e9477e45-bbf0-4b22-8a54-b1cf83f6022e",
   "metadata": {},
   "source": [
    "## Utilities"
   ]
  },
  {
   "cell_type": "code",
   "execution_count": 3,
   "id": "b027cba2-67e3-47ab-8522-46c6afbb9985",
   "metadata": {},
   "outputs": [],
   "source": [
    "def plot_learning_curve(history, indicator=None):\n",
    "    # Funktion um die Lernkurve entweder generisch nach Acc oder nach Loss zu visualisieren\n",
    "    fig, ax = plt.subplots(figsize=(12, 6))\n",
    "\n",
    "    # Titel des Plots\n",
    "    ax.set_title(f\"Learning Curve ({indicator.upper()})\")\n",
    "    \n",
    "    # Achsen mit Daten befüllen und beschriften\n",
    "    ax.plot(history.history[indicator], label=\"train\")\n",
    "    ax.plot(history.history[f\"val_{indicator}\"], label=\"val\")\n",
    "\n",
    "    plt.legend()\n",
    "    plt.show()"
   ]
  },
  {
   "cell_type": "markdown",
   "id": "a2d90399-f1f7-4e60-af8b-3feea5f58249",
   "metadata": {},
   "source": [
    "## Read Own-Dataset"
   ]
  },
  {
   "cell_type": "code",
   "execution_count": 4,
   "id": "3cfbb252-a0b3-4d6e-bf5b-25e033675720",
   "metadata": {},
   "outputs": [
    {
     "name": "stdout",
     "output_type": "stream",
     "text": [
      "train\n",
      "Found 509 files belonging to 10 classes.\n",
      "Using 408 files for training.\n",
      "val\n",
      "Found 509 files belonging to 10 classes.\n",
      "Using 101 files for validation.\n",
      "test\n",
      "Found 109 files belonging to 10 classes.\n"
     ]
    },
    {
     "name": "stderr",
     "output_type": "stream",
     "text": [
      "2022-08-21 09:22:50.649705: I tensorflow/core/platform/cpu_feature_guard.cc:193] This TensorFlow binary is optimized with oneAPI Deep Neural Network Library (oneDNN) to use the following CPU instructions in performance-critical operations:  AVX2 FMA\n",
      "To enable them in other operations, rebuild TensorFlow with the appropriate compiler flags.\n"
     ]
    }
   ],
   "source": [
    "SPLIT      = 0.2\n",
    "IMAGE_SIZE = 28\n",
    "\n",
    "# Datensätze werden mit Tensorflow geladen und die Labels durch die Ordnerstruktur der Daten abgeleitet\n",
    "print(\"train\")\n",
    "train = tf.keras.utils.image_dataset_from_directory(\n",
    "    TRAIN_DATA_DIR,\n",
    "    validation_split=SPLIT, # Anteil des Validation-Set am Gesamten\n",
    "    seed=42,\n",
    "    color_mode=\"grayscale\",\n",
    "    subset=\"training\",\n",
    "    image_size=(IMAGE_SIZE, IMAGE_SIZE),\n",
    "    batch_size=BATCH_SIZE, # Batch-Size gibt an, wie groß die Gruppen sind, in denen die Samples geladen werden\n",
    ")\n",
    "\n",
    "print(\"val\")\n",
    "val = tf.keras.utils.image_dataset_from_directory(\n",
    "    TRAIN_DATA_DIR,\n",
    "    validation_split=SPLIT,\n",
    "    seed=42,\n",
    "    color_mode=\"grayscale\",\n",
    "    subset=\"validation\",\n",
    "    image_size=(IMAGE_SIZE, IMAGE_SIZE),\n",
    "    batch_size=BATCH_SIZE,\n",
    ")\n",
    "\n",
    "print(\"test\")\n",
    "test = tf.keras.utils.image_dataset_from_directory(\n",
    "    TEST_DATA_DIR,\n",
    "    seed=42,\n",
    "    shuffle=True,\n",
    "    color_mode=\"grayscale\",\n",
    "    image_size=(IMAGE_SIZE, IMAGE_SIZE),\n",
    "    batch_size=1000,\n",
    ")"
   ]
  },
  {
   "cell_type": "markdown",
   "id": "3d202214-f6ab-45e2-b814-740277ecc351",
   "metadata": {},
   "source": [
    "## Read MNIST-Dataset"
   ]
  },
  {
   "cell_type": "code",
   "execution_count": 5,
   "id": "ec5ea9de-f969-4800-9cb5-1dda11eb148e",
   "metadata": {},
   "outputs": [],
   "source": [
    "(mnist_train, mnist_val), ds_info = tfds.load(\n",
    "    'mnist',\n",
    "    split=['train', 'test'],\n",
    "    shuffle_files=True,\n",
    "    as_supervised=True, # Datensatz wird mit Labels geladen\n",
    "    with_info=True,\n",
    "    batch_size=BATCH_SIZE\n",
    ")"
   ]
  },
  {
   "cell_type": "markdown",
   "id": "5ff2d1eb-57ba-4755-a4f1-273a184700da",
   "metadata": {},
   "source": [
    "## Create Model"
   ]
  },
  {
   "cell_type": "code",
   "execution_count": 6,
   "id": "b2cf8203-0406-4423-a012-5b48cafd0738",
   "metadata": {},
   "outputs": [
    {
     "name": "stdout",
     "output_type": "stream",
     "text": [
      "WARNING:tensorflow:Using a while_loop for converting RngReadAndSkip\n"
     ]
    },
    {
     "name": "stderr",
     "output_type": "stream",
     "text": [
      "WARNING:tensorflow:Using a while_loop for converting RngReadAndSkip\n"
     ]
    },
    {
     "name": "stdout",
     "output_type": "stream",
     "text": [
      "WARNING:tensorflow:Using a while_loop for converting Bitcast\n"
     ]
    },
    {
     "name": "stderr",
     "output_type": "stream",
     "text": [
      "WARNING:tensorflow:Using a while_loop for converting Bitcast\n"
     ]
    },
    {
     "name": "stdout",
     "output_type": "stream",
     "text": [
      "WARNING:tensorflow:Using a while_loop for converting Bitcast\n"
     ]
    },
    {
     "name": "stderr",
     "output_type": "stream",
     "text": [
      "WARNING:tensorflow:Using a while_loop for converting Bitcast\n"
     ]
    },
    {
     "name": "stdout",
     "output_type": "stream",
     "text": [
      "WARNING:tensorflow:Using a while_loop for converting StatelessRandomUniformFullIntV2\n"
     ]
    },
    {
     "name": "stderr",
     "output_type": "stream",
     "text": [
      "WARNING:tensorflow:Using a while_loop for converting StatelessRandomUniformFullIntV2\n"
     ]
    },
    {
     "name": "stdout",
     "output_type": "stream",
     "text": [
      "WARNING:tensorflow:Using a while_loop for converting StatelessRandomGetKeyCounter\n"
     ]
    },
    {
     "name": "stderr",
     "output_type": "stream",
     "text": [
      "WARNING:tensorflow:Using a while_loop for converting StatelessRandomGetKeyCounter\n"
     ]
    },
    {
     "name": "stdout",
     "output_type": "stream",
     "text": [
      "WARNING:tensorflow:Using a while_loop for converting StatelessRandomUniformV2\n"
     ]
    },
    {
     "name": "stderr",
     "output_type": "stream",
     "text": [
      "WARNING:tensorflow:Using a while_loop for converting StatelessRandomUniformV2\n"
     ]
    },
    {
     "name": "stdout",
     "output_type": "stream",
     "text": [
      "WARNING:tensorflow:Using a while_loop for converting AdjustContrastv2\n"
     ]
    },
    {
     "name": "stderr",
     "output_type": "stream",
     "text": [
      "WARNING:tensorflow:Using a while_loop for converting AdjustContrastv2\n"
     ]
    },
    {
     "name": "stdout",
     "output_type": "stream",
     "text": [
      "WARNING:tensorflow:Using a while_loop for converting RngReadAndSkip\n"
     ]
    },
    {
     "name": "stderr",
     "output_type": "stream",
     "text": [
      "WARNING:tensorflow:Using a while_loop for converting RngReadAndSkip\n"
     ]
    },
    {
     "name": "stdout",
     "output_type": "stream",
     "text": [
      "WARNING:tensorflow:Using a while_loop for converting Bitcast\n"
     ]
    },
    {
     "name": "stderr",
     "output_type": "stream",
     "text": [
      "WARNING:tensorflow:Using a while_loop for converting Bitcast\n"
     ]
    },
    {
     "name": "stdout",
     "output_type": "stream",
     "text": [
      "WARNING:tensorflow:Using a while_loop for converting Bitcast\n"
     ]
    },
    {
     "name": "stderr",
     "output_type": "stream",
     "text": [
      "WARNING:tensorflow:Using a while_loop for converting Bitcast\n"
     ]
    },
    {
     "name": "stdout",
     "output_type": "stream",
     "text": [
      "WARNING:tensorflow:Using a while_loop for converting StatelessRandomUniformV2\n"
     ]
    },
    {
     "name": "stderr",
     "output_type": "stream",
     "text": [
      "WARNING:tensorflow:Using a while_loop for converting StatelessRandomUniformV2\n"
     ]
    },
    {
     "name": "stdout",
     "output_type": "stream",
     "text": [
      "Model: \"sequential\"\n",
      "_________________________________________________________________\n",
      " Layer (type)                Output Shape              Param #   \n",
      "=================================================================\n",
      " random_rotation (RandomRota  (None, 28, 28, 1)        0         \n",
      " tion)                                                           \n",
      "                                                                 \n",
      " random_zoom (RandomZoom)    (None, 28, 28, 1)         0         \n",
      "                                                                 \n",
      " random_contrast (RandomCont  (None, 28, 28, 1)        0         \n",
      " rast)                                                           \n",
      "                                                                 \n",
      " random_brightness (RandomBr  (None, 28, 28, 1)        0         \n",
      " ightness)                                                       \n",
      "                                                                 \n",
      " rescaling (Rescaling)       (None, 28, 28, 1)         0         \n",
      "                                                                 \n",
      " conv2d (Conv2D)             (None, 26, 26, 16)        160       \n",
      "                                                                 \n",
      " dropout (Dropout)           (None, 26, 26, 16)        0         \n",
      "                                                                 \n",
      " max_pooling2d (MaxPooling2D  (None, 13, 13, 16)       0         \n",
      " )                                                               \n",
      "                                                                 \n",
      " conv2d_1 (Conv2D)           (None, 11, 11, 16)        2320      \n",
      "                                                                 \n",
      " dropout_1 (Dropout)         (None, 11, 11, 16)        0         \n",
      "                                                                 \n",
      " max_pooling2d_1 (MaxPooling  (None, 5, 5, 16)         0         \n",
      " 2D)                                                             \n",
      "                                                                 \n",
      " flatten (Flatten)           (None, 400)               0         \n",
      "                                                                 \n",
      " dense (Dense)               (None, 10)                4010      \n",
      "                                                                 \n",
      "=================================================================\n",
      "Total params: 6,490\n",
      "Trainable params: 6,490\n",
      "Non-trainable params: 0\n",
      "_________________________________________________________________\n"
     ]
    }
   ],
   "source": [
    "# Initialisierung einer Sequential Modells um im späteren Verlauf\n",
    "# die jeweiligen Layers über die add Funktion anzuhängen\n",
    "model = tf.keras.Sequential()\n",
    "\n",
    "# Festlegung des Grad der Regularisierung\n",
    "dropout = 0.1\n",
    "\n",
    "# Festlegung Anzahl der Channel in de Conv-Layers\n",
    "channel = 32\n",
    "\n",
    "# Anhängen der Image-Augmentation Layers\n",
    "model.add(tf.keras.layers.RandomRotation(0.1, input_shape=(IMAGE_SIZE, IMAGE_SIZE, 1)))\n",
    "model.add(tf.keras.layers.RandomZoom(0.1))\n",
    "model.add(tf.keras.layers.RandomContrast(0.1))\n",
    "model.add(tf.keras.layers.RandomBrightness(0.1))\n",
    "\n",
    "# Anhängen der Normalisierungs Layer\n",
    "model.add(tf.keras.layers.Rescaling(1./255))\n",
    "\n",
    "# Aufbau des CNN\n",
    "model.add(tf.keras.layers.Conv2D(channel, 3, activation=\"relu\"))\n",
    "model.add(tf.keras.layers.Dropout(dropout))\n",
    "model.add(tf.keras.layers.MaxPooling2D())\n",
    "model.add(tf.keras.layers.Conv2D(channel, 3, activation=\"relu\"))\n",
    "model.add(tf.keras.layers.Dropout(dropout))\n",
    "model.add(tf.keras.layers.MaxPooling2D())\n",
    "\n",
    "# Dimensions-Reduktion mit der Flatten Layer\n",
    "model.add(tf.keras.layers.Flatten())\n",
    "\n",
    "# Anhängen der Outputlayer\n",
    "model.add(tf.keras.layers.Dense(10, activation=\"softmax\"))\n",
    "\n",
    "# Festlegen des Standard-Optimizer Adam für die Optimierung des Modells mit einer Learning Rate von 0.001\n",
    "optimizer = tf.keras.optimizers.Adam(learning_rate=0.001)\n",
    "\n",
    "# Kompilierung des Modells\n",
    "model.compile(\n",
    "    optimizer=optimizer,\n",
    "    loss=tf.keras.losses.SparseCategoricalCrossentropy(), # Festlegen der Loss-Funktion für die Multiclass-Classification\n",
    "    metrics=['accuracy'] # Festlegen der jeweiligen Metrik, die während des Training berechnet und angezeigt werden soll\n",
    ")\n",
    "model.summary() # Ausgabe des Modells"
   ]
  },
  {
   "cell_type": "markdown",
   "id": "53c1e000-b4cf-4ba4-be53-a50f6b4a2536",
   "metadata": {},
   "source": [
    "## Train model on MNIST-Dataset"
   ]
  },
  {
   "cell_type": "code",
   "execution_count": 7,
   "id": "f49ca28d-86db-401b-9f6c-7c21787caa0a",
   "metadata": {},
   "outputs": [
    {
     "name": "stdout",
     "output_type": "stream",
     "text": [
      "Epoch 1/10\n",
      "WARNING:tensorflow:Using a while_loop for converting RngReadAndSkip\n"
     ]
    },
    {
     "name": "stderr",
     "output_type": "stream",
     "text": [
      "WARNING:tensorflow:Using a while_loop for converting RngReadAndSkip\n"
     ]
    },
    {
     "name": "stdout",
     "output_type": "stream",
     "text": [
      "WARNING:tensorflow:Using a while_loop for converting Bitcast\n"
     ]
    },
    {
     "name": "stderr",
     "output_type": "stream",
     "text": [
      "WARNING:tensorflow:Using a while_loop for converting Bitcast\n"
     ]
    },
    {
     "name": "stdout",
     "output_type": "stream",
     "text": [
      "WARNING:tensorflow:Using a while_loop for converting Bitcast\n"
     ]
    },
    {
     "name": "stderr",
     "output_type": "stream",
     "text": [
      "WARNING:tensorflow:Using a while_loop for converting Bitcast\n"
     ]
    },
    {
     "name": "stdout",
     "output_type": "stream",
     "text": [
      "WARNING:tensorflow:Using a while_loop for converting StatelessRandomUniformFullIntV2\n"
     ]
    },
    {
     "name": "stderr",
     "output_type": "stream",
     "text": [
      "WARNING:tensorflow:Using a while_loop for converting StatelessRandomUniformFullIntV2\n"
     ]
    },
    {
     "name": "stdout",
     "output_type": "stream",
     "text": [
      "WARNING:tensorflow:Using a while_loop for converting StatelessRandomGetKeyCounter\n"
     ]
    },
    {
     "name": "stderr",
     "output_type": "stream",
     "text": [
      "WARNING:tensorflow:Using a while_loop for converting StatelessRandomGetKeyCounter\n"
     ]
    },
    {
     "name": "stdout",
     "output_type": "stream",
     "text": [
      "WARNING:tensorflow:Using a while_loop for converting StatelessRandomUniformV2\n"
     ]
    },
    {
     "name": "stderr",
     "output_type": "stream",
     "text": [
      "WARNING:tensorflow:Using a while_loop for converting StatelessRandomUniformV2\n"
     ]
    },
    {
     "name": "stdout",
     "output_type": "stream",
     "text": [
      "WARNING:tensorflow:Using a while_loop for converting AdjustContrastv2\n"
     ]
    },
    {
     "name": "stderr",
     "output_type": "stream",
     "text": [
      "WARNING:tensorflow:Using a while_loop for converting AdjustContrastv2\n"
     ]
    },
    {
     "name": "stdout",
     "output_type": "stream",
     "text": [
      "WARNING:tensorflow:Using a while_loop for converting RngReadAndSkip\n"
     ]
    },
    {
     "name": "stderr",
     "output_type": "stream",
     "text": [
      "WARNING:tensorflow:Using a while_loop for converting RngReadAndSkip\n"
     ]
    },
    {
     "name": "stdout",
     "output_type": "stream",
     "text": [
      "WARNING:tensorflow:Using a while_loop for converting Bitcast\n"
     ]
    },
    {
     "name": "stderr",
     "output_type": "stream",
     "text": [
      "WARNING:tensorflow:Using a while_loop for converting Bitcast\n"
     ]
    },
    {
     "name": "stdout",
     "output_type": "stream",
     "text": [
      "WARNING:tensorflow:Using a while_loop for converting Bitcast\n"
     ]
    },
    {
     "name": "stderr",
     "output_type": "stream",
     "text": [
      "WARNING:tensorflow:Using a while_loop for converting Bitcast\n"
     ]
    },
    {
     "name": "stdout",
     "output_type": "stream",
     "text": [
      "WARNING:tensorflow:Using a while_loop for converting StatelessRandomUniformV2\n"
     ]
    },
    {
     "name": "stderr",
     "output_type": "stream",
     "text": [
      "WARNING:tensorflow:Using a while_loop for converting StatelessRandomUniformV2\n"
     ]
    },
    {
     "name": "stdout",
     "output_type": "stream",
     "text": [
      "WARNING:tensorflow:Using a while_loop for converting RngReadAndSkip\n"
     ]
    },
    {
     "name": "stderr",
     "output_type": "stream",
     "text": [
      "WARNING:tensorflow:Using a while_loop for converting RngReadAndSkip\n"
     ]
    },
    {
     "name": "stdout",
     "output_type": "stream",
     "text": [
      "WARNING:tensorflow:Using a while_loop for converting Bitcast\n"
     ]
    },
    {
     "name": "stderr",
     "output_type": "stream",
     "text": [
      "WARNING:tensorflow:Using a while_loop for converting Bitcast\n"
     ]
    },
    {
     "name": "stdout",
     "output_type": "stream",
     "text": [
      "WARNING:tensorflow:Using a while_loop for converting Bitcast\n"
     ]
    },
    {
     "name": "stderr",
     "output_type": "stream",
     "text": [
      "WARNING:tensorflow:Using a while_loop for converting Bitcast\n"
     ]
    },
    {
     "name": "stdout",
     "output_type": "stream",
     "text": [
      "WARNING:tensorflow:Using a while_loop for converting StatelessRandomUniformFullIntV2\n"
     ]
    },
    {
     "name": "stderr",
     "output_type": "stream",
     "text": [
      "WARNING:tensorflow:Using a while_loop for converting StatelessRandomUniformFullIntV2\n"
     ]
    },
    {
     "name": "stdout",
     "output_type": "stream",
     "text": [
      "WARNING:tensorflow:Using a while_loop for converting StatelessRandomGetKeyCounter\n"
     ]
    },
    {
     "name": "stderr",
     "output_type": "stream",
     "text": [
      "WARNING:tensorflow:Using a while_loop for converting StatelessRandomGetKeyCounter\n"
     ]
    },
    {
     "name": "stdout",
     "output_type": "stream",
     "text": [
      "WARNING:tensorflow:Using a while_loop for converting StatelessRandomUniformV2\n"
     ]
    },
    {
     "name": "stderr",
     "output_type": "stream",
     "text": [
      "WARNING:tensorflow:Using a while_loop for converting StatelessRandomUniformV2\n"
     ]
    },
    {
     "name": "stdout",
     "output_type": "stream",
     "text": [
      "WARNING:tensorflow:Using a while_loop for converting AdjustContrastv2\n"
     ]
    },
    {
     "name": "stderr",
     "output_type": "stream",
     "text": [
      "WARNING:tensorflow:Using a while_loop for converting AdjustContrastv2\n"
     ]
    },
    {
     "name": "stdout",
     "output_type": "stream",
     "text": [
      "WARNING:tensorflow:Using a while_loop for converting RngReadAndSkip\n"
     ]
    },
    {
     "name": "stderr",
     "output_type": "stream",
     "text": [
      "WARNING:tensorflow:Using a while_loop for converting RngReadAndSkip\n"
     ]
    },
    {
     "name": "stdout",
     "output_type": "stream",
     "text": [
      "WARNING:tensorflow:Using a while_loop for converting Bitcast\n"
     ]
    },
    {
     "name": "stderr",
     "output_type": "stream",
     "text": [
      "WARNING:tensorflow:Using a while_loop for converting Bitcast\n"
     ]
    },
    {
     "name": "stdout",
     "output_type": "stream",
     "text": [
      "WARNING:tensorflow:Using a while_loop for converting Bitcast\n"
     ]
    },
    {
     "name": "stderr",
     "output_type": "stream",
     "text": [
      "WARNING:tensorflow:Using a while_loop for converting Bitcast\n"
     ]
    },
    {
     "name": "stdout",
     "output_type": "stream",
     "text": [
      "WARNING:tensorflow:Using a while_loop for converting StatelessRandomUniformV2\n"
     ]
    },
    {
     "name": "stderr",
     "output_type": "stream",
     "text": [
      "WARNING:tensorflow:Using a while_loop for converting StatelessRandomUniformV2\n"
     ]
    },
    {
     "name": "stdout",
     "output_type": "stream",
     "text": [
      "1875/1875 [==============================] - 50s 24ms/step - loss: 0.4001 - accuracy: 0.8770 - val_loss: 0.1194 - val_accuracy: 0.9653\n",
      "Epoch 2/10\n",
      "1875/1875 [==============================] - 42s 22ms/step - loss: 0.1696 - accuracy: 0.9473 - val_loss: 0.1077 - val_accuracy: 0.9670\n",
      "Epoch 3/10\n",
      "1875/1875 [==============================] - 43s 23ms/step - loss: 0.1437 - accuracy: 0.9561 - val_loss: 0.0754 - val_accuracy: 0.9767\n",
      "Epoch 4/10\n",
      "1875/1875 [==============================] - 52s 28ms/step - loss: 0.1252 - accuracy: 0.9611 - val_loss: 0.0684 - val_accuracy: 0.9797\n",
      "Epoch 5/10\n",
      "1875/1875 [==============================] - 45s 24ms/step - loss: 0.1144 - accuracy: 0.9650 - val_loss: 0.0618 - val_accuracy: 0.9807\n",
      "Epoch 6/10\n",
      "1875/1875 [==============================] - 45s 24ms/step - loss: 0.1057 - accuracy: 0.9671 - val_loss: 0.0681 - val_accuracy: 0.9781\n",
      "Epoch 7/10\n",
      "1875/1875 [==============================] - 46s 25ms/step - loss: 0.0998 - accuracy: 0.9693 - val_loss: 0.0595 - val_accuracy: 0.9821\n",
      "Epoch 8/10\n",
      "1875/1875 [==============================] - 44s 23ms/step - loss: 0.0935 - accuracy: 0.9711 - val_loss: 0.0527 - val_accuracy: 0.9838\n",
      "Epoch 9/10\n",
      "1875/1875 [==============================] - 44s 24ms/step - loss: 0.0902 - accuracy: 0.9726 - val_loss: 0.0523 - val_accuracy: 0.9832\n",
      "Epoch 10/10\n",
      "1875/1875 [==============================] - 42s 22ms/step - loss: 0.0866 - accuracy: 0.9735 - val_loss: 0.0515 - val_accuracy: 0.9834\n"
     ]
    }
   ],
   "source": [
    "# Das pretraining wird nur durchgeführt, wenn die Konstante PRETRAIN auf True steht\n",
    "if PRETRAIN:\n",
    "    # Pretraining ist ausschließlich am MNIST-Datensatz\n",
    "    history = model.fit(mnist_train, validation_data=mnist_val, epochs=10)"
   ]
  },
  {
   "cell_type": "markdown",
   "id": "00b204de-fed3-42a8-8df0-bed2bf41bfa7",
   "metadata": {},
   "source": [
    "### Debug training"
   ]
  },
  {
   "cell_type": "code",
   "execution_count": 8,
   "id": "8764b3d2-951a-4ee1-b653-f63808826ecb",
   "metadata": {},
   "outputs": [
    {
     "data": {
      "image/png": "[encoded data removed]",
      "text/plain": [
       "<Figure size 864x432 with 1 Axes>"
      ]
     },
     "metadata": {
      "needs_background": "light"
     },
     "output_type": "display_data"
    }
   ],
   "source": [
    "if PRETRAIN:\n",
    "    # Visualisierung der Lernkurve gegen den Loss\n",
    "    plot_learning_curve(history, indicator=\"loss\")"
   ]
  },
  {
   "cell_type": "code",
   "execution_count": 9,
   "id": "11a7ead4-f6d0-438d-a23a-31f1bdb508da",
   "metadata": {},
   "outputs": [
    {
     "data": {
      "image/png": "[encoded data removed]",
      "text/plain": [
       "<Figure size 864x432 with 1 Axes>"
      ]
     },
     "metadata": {
      "needs_background": "light"
     },
     "output_type": "display_data"
    }
   ],
   "source": [
    "if PRETRAIN:\n",
    "    # Visualisierung der Lernkurve gegen die Accuracy\n",
    "    plot_learning_curve(history, indicator=\"accuracy\")"
   ]
  },
  {
   "cell_type": "markdown",
   "id": "a2ccb9dc-8263-48d3-849f-0c151af4def5",
   "metadata": {},
   "source": [
    "## Train model on OWN-Dataset"
   ]
  },
  {
   "cell_type": "code",
   "execution_count": 10,
   "id": "acd0b0fa-266f-4dde-9169-2b9ca080ecfb",
   "metadata": {},
   "outputs": [
    {
     "name": "stdout",
     "output_type": "stream",
     "text": [
      "Epoch 1/100\n",
      "WARNING:tensorflow:Using a while_loop for converting RngReadAndSkip\n"
     ]
    },
    {
     "name": "stderr",
     "output_type": "stream",
     "text": [
      "WARNING:tensorflow:Using a while_loop for converting RngReadAndSkip\n"
     ]
    },
    {
     "name": "stdout",
     "output_type": "stream",
     "text": [
      "WARNING:tensorflow:Using a while_loop for converting Bitcast\n"
     ]
    },
    {
     "name": "stderr",
     "output_type": "stream",
     "text": [
      "WARNING:tensorflow:Using a while_loop for converting Bitcast\n"
     ]
    },
    {
     "name": "stdout",
     "output_type": "stream",
     "text": [
      "WARNING:tensorflow:Using a while_loop for converting Bitcast\n"
     ]
    },
    {
     "name": "stderr",
     "output_type": "stream",
     "text": [
      "WARNING:tensorflow:Using a while_loop for converting Bitcast\n"
     ]
    },
    {
     "name": "stdout",
     "output_type": "stream",
     "text": [
      "WARNING:tensorflow:Using a while_loop for converting StatelessRandomUniformFullIntV2\n"
     ]
    },
    {
     "name": "stderr",
     "output_type": "stream",
     "text": [
      "WARNING:tensorflow:Using a while_loop for converting StatelessRandomUniformFullIntV2\n"
     ]
    },
    {
     "name": "stdout",
     "output_type": "stream",
     "text": [
      "WARNING:tensorflow:Using a while_loop for converting StatelessRandomGetKeyCounter\n"
     ]
    },
    {
     "name": "stderr",
     "output_type": "stream",
     "text": [
      "WARNING:tensorflow:Using a while_loop for converting StatelessRandomGetKeyCounter\n"
     ]
    },
    {
     "name": "stdout",
     "output_type": "stream",
     "text": [
      "WARNING:tensorflow:Using a while_loop for converting StatelessRandomUniformV2\n"
     ]
    },
    {
     "name": "stderr",
     "output_type": "stream",
     "text": [
      "WARNING:tensorflow:Using a while_loop for converting StatelessRandomUniformV2\n"
     ]
    },
    {
     "name": "stdout",
     "output_type": "stream",
     "text": [
      "WARNING:tensorflow:Using a while_loop for converting AdjustContrastv2\n"
     ]
    },
    {
     "name": "stderr",
     "output_type": "stream",
     "text": [
      "WARNING:tensorflow:Using a while_loop for converting AdjustContrastv2\n"
     ]
    },
    {
     "name": "stdout",
     "output_type": "stream",
     "text": [
      "WARNING:tensorflow:Using a while_loop for converting RngReadAndSkip\n"
     ]
    },
    {
     "name": "stderr",
     "output_type": "stream",
     "text": [
      "WARNING:tensorflow:Using a while_loop for converting RngReadAndSkip\n"
     ]
    },
    {
     "name": "stdout",
     "output_type": "stream",
     "text": [
      "WARNING:tensorflow:Using a while_loop for converting Bitcast\n"
     ]
    },
    {
     "name": "stderr",
     "output_type": "stream",
     "text": [
      "WARNING:tensorflow:Using a while_loop for converting Bitcast\n"
     ]
    },
    {
     "name": "stdout",
     "output_type": "stream",
     "text": [
      "WARNING:tensorflow:Using a while_loop for converting Bitcast\n"
     ]
    },
    {
     "name": "stderr",
     "output_type": "stream",
     "text": [
      "WARNING:tensorflow:Using a while_loop for converting Bitcast\n"
     ]
    },
    {
     "name": "stdout",
     "output_type": "stream",
     "text": [
      "WARNING:tensorflow:Using a while_loop for converting StatelessRandomUniformV2\n"
     ]
    },
    {
     "name": "stderr",
     "output_type": "stream",
     "text": [
      "WARNING:tensorflow:Using a while_loop for converting StatelessRandomUniformV2\n"
     ]
    },
    {
     "name": "stdout",
     "output_type": "stream",
     "text": [
      "13/13 [==============================] - 3s 43ms/step - loss: 2.6784 - accuracy: 0.1985 - val_loss: 2.2493 - val_accuracy: 0.1584\n",
      "Epoch 2/100\n",
      "13/13 [==============================] - 0s 26ms/step - loss: 2.0740 - accuracy: 0.2083 - val_loss: 1.8972 - val_accuracy: 0.3069\n",
      "Epoch 3/100\n",
      "13/13 [==============================] - 0s 26ms/step - loss: 1.9655 - accuracy: 0.3064 - val_loss: 1.8888 - val_accuracy: 0.4059\n",
      "Epoch 4/100\n",
      "13/13 [==============================] - 0s 26ms/step - loss: 1.7357 - accuracy: 0.4167 - val_loss: 1.6021 - val_accuracy: 0.5149\n",
      "Epoch 5/100\n",
      "13/13 [==============================] - 0s 27ms/step - loss: 1.6704 - accuracy: 0.4265 - val_loss: 1.4777 - val_accuracy: 0.5248\n",
      "Epoch 6/100\n",
      "13/13 [==============================] - 0s 34ms/step - loss: 1.5357 - accuracy: 0.4681 - val_loss: 1.3885 - val_accuracy: 0.5446\n",
      "Epoch 7/100\n",
      "13/13 [==============================] - 0s 29ms/step - loss: 1.4430 - accuracy: 0.5172 - val_loss: 1.3460 - val_accuracy: 0.5446\n",
      "Epoch 8/100\n",
      "13/13 [==============================] - 0s 26ms/step - loss: 1.3758 - accuracy: 0.5539 - val_loss: 1.2782 - val_accuracy: 0.5644\n",
      "Epoch 9/100\n",
      "13/13 [==============================] - 0s 26ms/step - loss: 1.2803 - accuracy: 0.5686 - val_loss: 1.1797 - val_accuracy: 0.5941\n",
      "Epoch 10/100\n",
      "13/13 [==============================] - 0s 31ms/step - loss: 1.2235 - accuracy: 0.5735 - val_loss: 0.9669 - val_accuracy: 0.6733\n",
      "Epoch 11/100\n",
      "13/13 [==============================] - 1s 65ms/step - loss: 1.1321 - accuracy: 0.6397 - val_loss: 0.9189 - val_accuracy: 0.6634\n",
      "Epoch 12/100\n",
      "13/13 [==============================] - 1s 42ms/step - loss: 1.0992 - accuracy: 0.6250 - val_loss: 0.9618 - val_accuracy: 0.6535\n",
      "Epoch 13/100\n",
      "13/13 [==============================] - 0s 33ms/step - loss: 1.0904 - accuracy: 0.6569 - val_loss: 0.8995 - val_accuracy: 0.6832\n",
      "Epoch 14/100\n",
      "13/13 [==============================] - 1s 83ms/step - loss: 0.9855 - accuracy: 0.6765 - val_loss: 0.8174 - val_accuracy: 0.6931\n",
      "Epoch 15/100\n",
      "13/13 [==============================] - 1s 72ms/step - loss: 0.9601 - accuracy: 0.6912 - val_loss: 0.8217 - val_accuracy: 0.6832\n",
      "Epoch 16/100\n",
      "13/13 [==============================] - 1s 46ms/step - loss: 0.9698 - accuracy: 0.6691 - val_loss: 0.8354 - val_accuracy: 0.6832\n",
      "Epoch 17/100\n",
      "13/13 [==============================] - 0s 32ms/step - loss: 0.8634 - accuracy: 0.7034 - val_loss: 0.7023 - val_accuracy: 0.7624\n",
      "Epoch 18/100\n",
      "13/13 [==============================] - 0s 31ms/step - loss: 0.8694 - accuracy: 0.7353 - val_loss: 0.6825 - val_accuracy: 0.7624\n",
      "Epoch 19/100\n",
      "13/13 [==============================] - 0s 31ms/step - loss: 0.8152 - accuracy: 0.7549 - val_loss: 0.6550 - val_accuracy: 0.7723\n",
      "Epoch 20/100\n",
      "13/13 [==============================] - 0s 35ms/step - loss: 0.8318 - accuracy: 0.7255 - val_loss: 0.7222 - val_accuracy: 0.7426\n",
      "Epoch 21/100\n",
      "13/13 [==============================] - 0s 31ms/step - loss: 0.7497 - accuracy: 0.7304 - val_loss: 0.6374 - val_accuracy: 0.7624\n",
      "Epoch 22/100\n",
      "13/13 [==============================] - 0s 31ms/step - loss: 0.7332 - accuracy: 0.7500 - val_loss: 0.6618 - val_accuracy: 0.7921\n",
      "Epoch 23/100\n",
      "13/13 [==============================] - 1s 35ms/step - loss: 0.7288 - accuracy: 0.7598 - val_loss: 0.6794 - val_accuracy: 0.7822\n",
      "Epoch 24/100\n",
      "13/13 [==============================] - 0s 30ms/step - loss: 0.7898 - accuracy: 0.7353 - val_loss: 0.6031 - val_accuracy: 0.8119\n",
      "Epoch 25/100\n",
      "13/13 [==============================] - 1s 40ms/step - loss: 0.7429 - accuracy: 0.7696 - val_loss: 0.6421 - val_accuracy: 0.8020\n",
      "Epoch 26/100\n",
      "13/13 [==============================] - 0s 33ms/step - loss: 0.6950 - accuracy: 0.7794 - val_loss: 0.7266 - val_accuracy: 0.7822\n",
      "Epoch 27/100\n",
      "13/13 [==============================] - 0s 33ms/step - loss: 0.6819 - accuracy: 0.7819 - val_loss: 0.6190 - val_accuracy: 0.7921\n",
      "Epoch 28/100\n",
      "13/13 [==============================] - 0s 36ms/step - loss: 0.6475 - accuracy: 0.7868 - val_loss: 0.5911 - val_accuracy: 0.8416\n",
      "Epoch 29/100\n",
      "13/13 [==============================] - 1s 39ms/step - loss: 0.6360 - accuracy: 0.8015 - val_loss: 0.5878 - val_accuracy: 0.8218\n",
      "Epoch 30/100\n",
      "13/13 [==============================] - 0s 31ms/step - loss: 0.6653 - accuracy: 0.7819 - val_loss: 0.6336 - val_accuracy: 0.7822\n",
      "Epoch 31/100\n",
      "13/13 [==============================] - 0s 33ms/step - loss: 0.6393 - accuracy: 0.7770 - val_loss: 0.6120 - val_accuracy: 0.7921\n",
      "Epoch 32/100\n",
      "13/13 [==============================] - 0s 29ms/step - loss: 0.5696 - accuracy: 0.8235 - val_loss: 0.5697 - val_accuracy: 0.8416\n",
      "Epoch 33/100\n",
      "13/13 [==============================] - 0s 38ms/step - loss: 0.5772 - accuracy: 0.8088 - val_loss: 0.6013 - val_accuracy: 0.8218\n",
      "Epoch 34/100\n",
      "13/13 [==============================] - 1s 36ms/step - loss: 0.6416 - accuracy: 0.7770 - val_loss: 0.6316 - val_accuracy: 0.8020\n",
      "Epoch 35/100\n",
      "13/13 [==============================] - 0s 35ms/step - loss: 0.6438 - accuracy: 0.8039 - val_loss: 0.6498 - val_accuracy: 0.8020\n",
      "Epoch 36/100\n",
      "13/13 [==============================] - 0s 37ms/step - loss: 0.5903 - accuracy: 0.8309 - val_loss: 0.5333 - val_accuracy: 0.8218\n",
      "Epoch 37/100\n",
      "13/13 [==============================] - 1s 42ms/step - loss: 0.5085 - accuracy: 0.8407 - val_loss: 0.5648 - val_accuracy: 0.8317\n",
      "Epoch 38/100\n",
      "13/13 [==============================] - 0s 30ms/step - loss: 0.5835 - accuracy: 0.8211 - val_loss: 0.5640 - val_accuracy: 0.8119\n",
      "Epoch 39/100\n",
      "13/13 [==============================] - 0s 34ms/step - loss: 0.6076 - accuracy: 0.8186 - val_loss: 0.5572 - val_accuracy: 0.8317\n",
      "Epoch 40/100\n",
      "13/13 [==============================] - 0s 33ms/step - loss: 0.5667 - accuracy: 0.8407 - val_loss: 0.6179 - val_accuracy: 0.8020\n",
      "Epoch 41/100\n",
      "13/13 [==============================] - 0s 34ms/step - loss: 0.6172 - accuracy: 0.8186 - val_loss: 0.6418 - val_accuracy: 0.7921\n",
      "Epoch 42/100\n",
      "13/13 [==============================] - 0s 32ms/step - loss: 0.5540 - accuracy: 0.8260 - val_loss: 0.6083 - val_accuracy: 0.8020\n",
      "Epoch 43/100\n",
      "13/13 [==============================] - 0s 29ms/step - loss: 0.5032 - accuracy: 0.8554 - val_loss: 0.5798 - val_accuracy: 0.8119\n",
      "Epoch 44/100\n",
      "13/13 [==============================] - 0s 32ms/step - loss: 0.5104 - accuracy: 0.8260 - val_loss: 0.5367 - val_accuracy: 0.8119\n",
      "Epoch 45/100\n",
      "13/13 [==============================] - 0s 29ms/step - loss: 0.4500 - accuracy: 0.8456 - val_loss: 0.5628 - val_accuracy: 0.8119\n",
      "Epoch 46/100\n",
      "13/13 [==============================] - 0s 30ms/step - loss: 0.5548 - accuracy: 0.8211 - val_loss: 0.6051 - val_accuracy: 0.8020\n",
      "Epoch 47/100\n",
      "13/13 [==============================] - 1s 39ms/step - loss: 0.4900 - accuracy: 0.8431 - val_loss: 0.5673 - val_accuracy: 0.8218\n",
      "Epoch 48/100\n",
      "13/13 [==============================] - 1s 39ms/step - loss: 0.4856 - accuracy: 0.8529 - val_loss: 0.6033 - val_accuracy: 0.7921\n",
      "Epoch 49/100\n",
      "13/13 [==============================] - 0s 32ms/step - loss: 0.5011 - accuracy: 0.8456 - val_loss: 0.5463 - val_accuracy: 0.8119\n",
      "Epoch 50/100\n",
      "13/13 [==============================] - 0s 29ms/step - loss: 0.4525 - accuracy: 0.8554 - val_loss: 0.5679 - val_accuracy: 0.8020\n",
      "Epoch 51/100\n",
      "13/13 [==============================] - 0s 29ms/step - loss: 0.4845 - accuracy: 0.8333 - val_loss: 0.5948 - val_accuracy: 0.8119\n",
      "Epoch 52/100\n",
      "13/13 [==============================] - 0s 29ms/step - loss: 0.4683 - accuracy: 0.8284 - val_loss: 0.5134 - val_accuracy: 0.8218\n",
      "Epoch 53/100\n",
      "13/13 [==============================] - 0s 28ms/step - loss: 0.4713 - accuracy: 0.8480 - val_loss: 0.6120 - val_accuracy: 0.7822\n",
      "Epoch 54/100\n",
      "13/13 [==============================] - 0s 26ms/step - loss: 0.4415 - accuracy: 0.8554 - val_loss: 0.5646 - val_accuracy: 0.8020\n",
      "Epoch 55/100\n",
      "13/13 [==============================] - 0s 27ms/step - loss: 0.5214 - accuracy: 0.8627 - val_loss: 0.5546 - val_accuracy: 0.8119\n",
      "Epoch 56/100\n",
      "13/13 [==============================] - 0s 27ms/step - loss: 0.4249 - accuracy: 0.8578 - val_loss: 0.5631 - val_accuracy: 0.8119\n",
      "Epoch 57/100\n",
      "13/13 [==============================] - 0s 26ms/step - loss: 0.4748 - accuracy: 0.8627 - val_loss: 0.5199 - val_accuracy: 0.8218\n",
      "Epoch 58/100\n",
      "13/13 [==============================] - 0s 27ms/step - loss: 0.4356 - accuracy: 0.8578 - val_loss: 0.5537 - val_accuracy: 0.8020\n",
      "Epoch 59/100\n",
      "13/13 [==============================] - 0s 27ms/step - loss: 0.3778 - accuracy: 0.8873 - val_loss: 0.5654 - val_accuracy: 0.8119\n",
      "Epoch 60/100\n",
      "13/13 [==============================] - 1s 43ms/step - loss: 0.4070 - accuracy: 0.8701 - val_loss: 0.5238 - val_accuracy: 0.8119\n",
      "Epoch 61/100\n",
      "13/13 [==============================] - 0s 25ms/step - loss: 0.4509 - accuracy: 0.8701 - val_loss: 0.5134 - val_accuracy: 0.8317\n",
      "Epoch 62/100\n",
      "13/13 [==============================] - 0s 27ms/step - loss: 0.4574 - accuracy: 0.8603 - val_loss: 0.5820 - val_accuracy: 0.8218\n",
      "Epoch 63/100\n",
      "13/13 [==============================] - 0s 25ms/step - loss: 0.3811 - accuracy: 0.8775 - val_loss: 0.4904 - val_accuracy: 0.8218\n",
      "Epoch 64/100\n",
      "13/13 [==============================] - 0s 26ms/step - loss: 0.4859 - accuracy: 0.8529 - val_loss: 0.5346 - val_accuracy: 0.8218\n",
      "Epoch 65/100\n",
      "13/13 [==============================] - 0s 26ms/step - loss: 0.4207 - accuracy: 0.8701 - val_loss: 0.5613 - val_accuracy: 0.8416\n",
      "Epoch 66/100\n",
      "13/13 [==============================] - 0s 25ms/step - loss: 0.4281 - accuracy: 0.8627 - val_loss: 0.5176 - val_accuracy: 0.8218\n",
      "Epoch 67/100\n",
      "13/13 [==============================] - 0s 24ms/step - loss: 0.4099 - accuracy: 0.8701 - val_loss: 0.5148 - val_accuracy: 0.8119\n",
      "Epoch 68/100\n",
      "13/13 [==============================] - 0s 25ms/step - loss: 0.4031 - accuracy: 0.8603 - val_loss: 0.5465 - val_accuracy: 0.8119\n",
      "Epoch 69/100\n",
      "13/13 [==============================] - 0s 25ms/step - loss: 0.4217 - accuracy: 0.8824 - val_loss: 0.4930 - val_accuracy: 0.8218\n",
      "Epoch 70/100\n",
      "13/13 [==============================] - 0s 25ms/step - loss: 0.3675 - accuracy: 0.8750 - val_loss: 0.5549 - val_accuracy: 0.8119\n",
      "Epoch 71/100\n",
      "13/13 [==============================] - 0s 23ms/step - loss: 0.3685 - accuracy: 0.9118 - val_loss: 0.5048 - val_accuracy: 0.8218\n",
      "Epoch 72/100\n",
      "13/13 [==============================] - 0s 25ms/step - loss: 0.3629 - accuracy: 0.8873 - val_loss: 0.4877 - val_accuracy: 0.8515\n",
      "Epoch 73/100\n",
      "13/13 [==============================] - 0s 25ms/step - loss: 0.3536 - accuracy: 0.8971 - val_loss: 0.5156 - val_accuracy: 0.8119\n",
      "Epoch 74/100\n",
      "13/13 [==============================] - 0s 24ms/step - loss: 0.3937 - accuracy: 0.8750 - val_loss: 0.5416 - val_accuracy: 0.8119\n",
      "Epoch 75/100\n",
      "13/13 [==============================] - 0s 25ms/step - loss: 0.3763 - accuracy: 0.8627 - val_loss: 0.5277 - val_accuracy: 0.8119\n",
      "Epoch 76/100\n",
      "13/13 [==============================] - 0s 25ms/step - loss: 0.4032 - accuracy: 0.8775 - val_loss: 0.5230 - val_accuracy: 0.8020\n",
      "Epoch 77/100\n",
      "13/13 [==============================] - 0s 25ms/step - loss: 0.3042 - accuracy: 0.9167 - val_loss: 0.5292 - val_accuracy: 0.8119\n",
      "Epoch 78/100\n",
      "13/13 [==============================] - 0s 24ms/step - loss: 0.3840 - accuracy: 0.8701 - val_loss: 0.4925 - val_accuracy: 0.8317\n",
      "Epoch 79/100\n",
      "13/13 [==============================] - 0s 24ms/step - loss: 0.3879 - accuracy: 0.8652 - val_loss: 0.5121 - val_accuracy: 0.8119\n",
      "Epoch 80/100\n",
      "13/13 [==============================] - 0s 25ms/step - loss: 0.3393 - accuracy: 0.8922 - val_loss: 0.5170 - val_accuracy: 0.8218\n",
      "Epoch 81/100\n",
      "13/13 [==============================] - 0s 24ms/step - loss: 0.2973 - accuracy: 0.8922 - val_loss: 0.5343 - val_accuracy: 0.8218\n",
      "Epoch 82/100\n",
      "13/13 [==============================] - 0s 28ms/step - loss: 0.3732 - accuracy: 0.8824 - val_loss: 0.4989 - val_accuracy: 0.8416\n",
      "Epoch 83/100\n",
      "13/13 [==============================] - 0s 25ms/step - loss: 0.3170 - accuracy: 0.9020 - val_loss: 0.5599 - val_accuracy: 0.8020\n",
      "Epoch 84/100\n",
      "13/13 [==============================] - 0s 24ms/step - loss: 0.3899 - accuracy: 0.8775 - val_loss: 0.5518 - val_accuracy: 0.8218\n",
      "Epoch 85/100\n",
      "13/13 [==============================] - 0s 25ms/step - loss: 0.2604 - accuracy: 0.9191 - val_loss: 0.5209 - val_accuracy: 0.8218\n",
      "Epoch 86/100\n",
      "13/13 [==============================] - 0s 25ms/step - loss: 0.3212 - accuracy: 0.9020 - val_loss: 0.5592 - val_accuracy: 0.8020\n",
      "Epoch 87/100\n",
      "13/13 [==============================] - 0s 27ms/step - loss: 0.2851 - accuracy: 0.9069 - val_loss: 0.5628 - val_accuracy: 0.8020\n",
      "Epoch 88/100\n",
      "13/13 [==============================] - 0s 28ms/step - loss: 0.2965 - accuracy: 0.9069 - val_loss: 0.5351 - val_accuracy: 0.8119\n",
      "Epoch 89/100\n",
      "13/13 [==============================] - 0s 29ms/step - loss: 0.3616 - accuracy: 0.8799 - val_loss: 0.5529 - val_accuracy: 0.8119\n",
      "Epoch 90/100\n",
      "13/13 [==============================] - 0s 30ms/step - loss: 0.2885 - accuracy: 0.9093 - val_loss: 0.4965 - val_accuracy: 0.8416\n",
      "Epoch 91/100\n",
      "13/13 [==============================] - 0s 24ms/step - loss: 0.3126 - accuracy: 0.9020 - val_loss: 0.5311 - val_accuracy: 0.8119\n",
      "Epoch 92/100\n",
      "13/13 [==============================] - 0s 24ms/step - loss: 0.3255 - accuracy: 0.9069 - val_loss: 0.5056 - val_accuracy: 0.8317\n",
      "Epoch 93/100\n",
      "13/13 [==============================] - 0s 25ms/step - loss: 0.2820 - accuracy: 0.8971 - val_loss: 0.5408 - val_accuracy: 0.8119\n",
      "Epoch 94/100\n",
      "13/13 [==============================] - 0s 24ms/step - loss: 0.2994 - accuracy: 0.9069 - val_loss: 0.5045 - val_accuracy: 0.8416\n",
      "Epoch 95/100\n",
      "13/13 [==============================] - 0s 26ms/step - loss: 0.3414 - accuracy: 0.8971 - val_loss: 0.5527 - val_accuracy: 0.8020\n",
      "Epoch 96/100\n",
      "13/13 [==============================] - 0s 30ms/step - loss: 0.2857 - accuracy: 0.9191 - val_loss: 0.5170 - val_accuracy: 0.8119\n",
      "Epoch 97/100\n",
      "13/13 [==============================] - 0s 24ms/step - loss: 0.3302 - accuracy: 0.9167 - val_loss: 0.5317 - val_accuracy: 0.8218\n",
      "Epoch 98/100\n",
      "13/13 [==============================] - 0s 23ms/step - loss: 0.2644 - accuracy: 0.9338 - val_loss: 0.4816 - val_accuracy: 0.8614\n",
      "Epoch 99/100\n",
      "13/13 [==============================] - 0s 24ms/step - loss: 0.3073 - accuracy: 0.8848 - val_loss: 0.5042 - val_accuracy: 0.8614\n",
      "Epoch 100/100\n",
      "13/13 [==============================] - 0s 25ms/step - loss: 0.3020 - accuracy: 0.9044 - val_loss: 0.4707 - val_accuracy: 0.8713\n"
     ]
    }
   ],
   "source": [
    "# Traning am eigenen Datensatz für 100 Epochen\n",
    "history = model.fit(train, validation_data=val, epochs=100)"
   ]
  },
  {
   "cell_type": "markdown",
   "id": "b37fab1c-9e0a-4a17-8ae7-c9e2c31b7dad",
   "metadata": {},
   "source": [
    "### Debug training"
   ]
  },
  {
   "cell_type": "code",
   "execution_count": 11,
   "id": "24f6dd3d-3473-4c52-95e1-cba48f3d848e",
   "metadata": {},
   "outputs": [
    {
     "data": {
      "image/png": "[encoded data removed]",
      "text/plain": [
       "<Figure size 864x432 with 1 Axes>"
      ]
     },
     "metadata": {
      "needs_background": "light"
     },
     "output_type": "display_data"
    }
   ],
   "source": [
    "plot_learning_curve(history, indicator=\"loss\")"
   ]
  },
  {
   "cell_type": "code",
   "execution_count": 12,
   "id": "5654fecf-2c42-4ee4-9c2c-68cf02786ef8",
   "metadata": {},
   "outputs": [
    {
     "data": {
      "image/png": "[encoded data removed]",
      "text/plain": [
       "<Figure size 864x432 with 1 Axes>"
      ]
     },
     "metadata": {
      "needs_background": "light"
     },
     "output_type": "display_data"
    }
   ],
   "source": [
    "plot_learning_curve(history, indicator=\"accuracy\")"
   ]
  },
  {
   "cell_type": "markdown",
   "id": "6e8cdb92-81d9-4b6e-af5f-99e2f33a10c3",
   "metadata": {},
   "source": [
    "## Evaluate Model"
   ]
  },
  {
   "cell_type": "code",
   "execution_count": 13,
   "id": "5d9ad20c-eb89-4c0b-9949-ae1fd9a7ed97",
   "metadata": {},
   "outputs": [
    {
     "name": "stdout",
     "output_type": "stream",
     "text": [
      "4/4 [==============================] - 0s 3ms/step\n"
     ]
    },
    {
     "data": {
      "text/plain": [
       "array([2, 3, 3, 1, 3, 1, 0, 1, 3, 5, 4, 2, 4, 5, 9, 0, 4, 6, 7, 6, 6, 6,\n",
       "       3, 0, 4, 7, 5, 2, 5, 0, 5, 9, 9, 0, 6, 6, 1, 1, 5, 5, 7, 2, 2, 9,\n",
       "       7, 8, 6, 2, 5, 2, 3, 2, 5, 9, 0, 6, 5, 8, 4, 8, 8, 3, 0, 2, 8, 2,\n",
       "       1, 0, 6, 1, 3, 1, 1, 0, 0, 9, 3, 5, 8, 0, 0, 2, 2, 7, 4, 8, 7, 8,\n",
       "       2, 0, 9, 8, 8, 8, 6, 9, 9, 4, 8, 1, 2, 0, 5, 7, 4, 0, 8, 6, 0])"
      ]
     },
     "execution_count": 13,
     "metadata": {},
     "output_type": "execute_result"
    }
   ],
   "source": [
    "# Test Dataloader wird zu einer Python Liste geparsed\n",
    "# Damit einfacherer Umgang mit der vorliegenen Datensturktur\n",
    "test_data = list(test)\n",
    "\n",
    "# Auf der 1. Dimmension befindet sich der Input (x-Anteil)\n",
    "x_test = test_data[0][0].numpy()\n",
    "# Auf der 2. Dimmension befindet sich der Input (y-Anteil)\n",
    "y_test = test_data[0][1].numpy()\n",
    "\n",
    "# Der Test-Input wird in das bereits trainierte Modell zur Vorhersage gegeben\n",
    "y_pred = model.predict(x_test)\n",
    "\n",
    "# Output vom Modell besteht aus der 10 Elemente Wahrscheinlichkeit verteilung\n",
    "# Mit der argmax Funktion wird der Eintrag mit der höchsten Wahrscheinlichkeit gewählt\n",
    "# und der Index dieses Wertes als Label gespeichert\n",
    "# a =       [0.2, 0.4, 0.6, 0.1]\n",
    "# indices =   0   1     2    3\n",
    "# max(a)    = 0.6\n",
    "# argmax(a) = 2\n",
    "y_pred = np.argmax(y_pred, axis=1)\n",
    "y_pred"
   ]
  },
  {
   "cell_type": "markdown",
   "id": "51b1ac90-34bd-4632-a37e-83a01d61dc05",
   "metadata": {},
   "source": [
    "### Precision"
   ]
  },
  {
   "cell_type": "code",
   "execution_count": 14,
   "id": "3626826f-daa8-49d6-b422-7f8f5df647fc",
   "metadata": {},
   "outputs": [
    {
     "data": {
      "text/plain": [
       "array([2, 3, 3, 1, 3, 1, 0, 1, 3, 5, 4, 2, 4, 5, 9, 0, 4, 6, 7, 6, 6, 6,\n",
       "       3, 0, 4, 7, 5, 2, 5, 0, 5, 9, 9, 0, 6, 6, 1, 1, 5, 5, 7, 2, 2, 9,\n",
       "       7, 8, 6, 2, 5, 2, 3, 2, 5, 9, 0, 6, 5, 8, 4, 8, 8, 3, 0, 2, 8, 2,\n",
       "       1, 0, 6, 1, 3, 1, 1, 0, 0, 9, 3, 5, 8, 0, 0, 2, 2, 7, 4, 8, 7, 8,\n",
       "       2, 0, 9, 8, 8, 8, 6, 9, 9, 4, 8, 1, 2, 0, 5, 7, 4, 0, 8, 6, 0])"
      ]
     },
     "execution_count": 14,
     "metadata": {},
     "output_type": "execute_result"
    }
   ],
   "source": [
    "y_pred"
   ]
  },
  {
   "cell_type": "code",
   "execution_count": 15,
   "id": "88346034-c76a-48af-9d73-71fc59d6876b",
   "metadata": {},
   "outputs": [
    {
     "data": {
      "text/plain": [
       "array([2, 3, 3, 1, 7, 1, 0, 1, 3, 5, 4, 2, 4, 3, 9, 0, 4, 6, 7, 6, 6, 6,\n",
       "       3, 0, 4, 7, 5, 2, 5, 0, 5, 9, 9, 0, 6, 6, 1, 1, 5, 5, 7, 2, 2, 9,\n",
       "       7, 9, 6, 2, 7, 5, 3, 7, 5, 9, 0, 6, 5, 4, 4, 3, 8, 3, 0, 2, 8, 2,\n",
       "       1, 0, 6, 1, 3, 1, 1, 0, 0, 9, 3, 5, 8, 0, 0, 2, 2, 7, 4, 8, 7, 8,\n",
       "       5, 0, 9, 8, 8, 8, 6, 9, 9, 4, 8, 1, 2, 0, 5, 7, 4, 0, 8, 4, 0],\n",
       "      dtype=int32)"
      ]
     },
     "execution_count": 15,
     "metadata": {},
     "output_type": "execute_result"
    }
   ],
   "source": [
    "y_test"
   ]
  },
  {
   "cell_type": "code",
   "execution_count": 16,
   "id": "8adbba95-5fd3-4684-9ea3-859634353335",
   "metadata": {},
   "outputs": [
    {
     "data": {
      "text/plain": [
       "0.908256880733945"
      ]
     },
     "execution_count": 16,
     "metadata": {},
     "output_type": "execute_result"
    }
   ],
   "source": [
    "from sklearn.metrics import accuracy_score\n",
    "\n",
    "accuracy_score(y_test, y_pred)"
   ]
  },
  {
   "cell_type": "code",
   "execution_count": 17,
   "id": "71499aea-c93f-4439-bf90-19aac3c535e5",
   "metadata": {},
   "outputs": [
    {
     "data": {
      "text/plain": [
       "array([1.        , 1.        , 0.78571429, 0.88888889, 1.        ,\n",
       "       0.83333333, 0.90909091, 1.        , 0.76923077, 1.        ])"
      ]
     },
     "execution_count": 17,
     "metadata": {},
     "output_type": "execute_result"
    }
   ],
   "source": [
    "# Berechnung der Precision nach jeweils nach Label\n",
    "precision_score(y_test, y_pred, labels=[i for i in range(10)], average=None)"
   ]
  },
  {
   "cell_type": "markdown",
   "id": "67a7c593-fc74-4265-9709-4d85c0b0fb36",
   "metadata": {},
   "source": [
    "### Recall"
   ]
  },
  {
   "cell_type": "code",
   "execution_count": 18,
   "id": "fe3969e0-24d9-4cbf-b160-cc4a2cb3da6d",
   "metadata": {},
   "outputs": [
    {
     "data": {
      "text/plain": [
       "array([1.        , 1.        , 1.        , 0.8       , 0.8       ,\n",
       "       0.83333333, 1.        , 0.7       , 1.        , 0.9       ])"
      ]
     },
     "execution_count": 18,
     "metadata": {},
     "output_type": "execute_result"
    }
   ],
   "source": [
    "# Berechnung des Recall nach jeweils nach Label\n",
    "recall_score(y_test, y_pred, labels=[i for i in range(10)], average=None)"
   ]
  },
  {
   "cell_type": "markdown",
   "id": "7242f47a-cb81-44c7-98e4-294e68611f03",
   "metadata": {},
   "source": [
    "### Confusion Matrix"
   ]
  },
  {
   "cell_type": "code",
   "execution_count": 19,
   "id": "9d7c958e-fa48-4f35-a7f3-ffe37da6cf81",
   "metadata": {},
   "outputs": [
    {
     "data": {
      "image/png": "[encoded data removed]",
      "text/plain": [
       "<Figure size 720x576 with 2 Axes>"
      ]
     },
     "metadata": {
      "needs_background": "light"
     },
     "output_type": "display_data"
    }
   ],
   "source": [
    "cm = confusion_matrix(y_test, y_pred)\n",
    "\n",
    "# Confision matrix ist ein 2D np.array und wir mit der library seaborn als Heatmap visualisiert\n",
    "fig, ax = plt.subplots(figsize=(10, 8))\n",
    "s = sns.heatmap(cm, annot=True, ax=ax)\n",
    "# TODO: check proper ordering y_pred-y_test y_axis-x_axis\n",
    "s.set(xlabel='y_pred', ylabel='y_test', title=\"Confusion Matrix\")\n",
    "plt.show()"
   ]
  },
  {
   "cell_type": "markdown",
   "id": "b47f60b5-205d-4b4b-a7ec-309f04f1d418",
   "metadata": {},
   "source": [
    "## Save Model"
   ]
  },
  {
   "cell_type": "code",
   "execution_count": 20,
   "id": "a60cc1be-be9c-4006-9b07-3942fe2ca4a1",
   "metadata": {},
   "outputs": [
    {
     "name": "stdout",
     "output_type": "stream",
     "text": [
      "WARNING:tensorflow:Using a while_loop for converting RngReadAndSkip\n"
     ]
    },
    {
     "name": "stderr",
     "output_type": "stream",
     "text": [
      "WARNING:tensorflow:Using a while_loop for converting RngReadAndSkip\n"
     ]
    },
    {
     "name": "stdout",
     "output_type": "stream",
     "text": [
      "WARNING:tensorflow:Using a while_loop for converting Bitcast\n"
     ]
    },
    {
     "name": "stderr",
     "output_type": "stream",
     "text": [
      "WARNING:tensorflow:Using a while_loop for converting Bitcast\n"
     ]
    },
    {
     "name": "stdout",
     "output_type": "stream",
     "text": [
      "WARNING:tensorflow:Using a while_loop for converting Bitcast\n"
     ]
    },
    {
     "name": "stderr",
     "output_type": "stream",
     "text": [
      "WARNING:tensorflow:Using a while_loop for converting Bitcast\n"
     ]
    },
    {
     "name": "stdout",
     "output_type": "stream",
     "text": [
      "WARNING:tensorflow:Using a while_loop for converting StatelessRandomUniformV2\n"
     ]
    },
    {
     "name": "stderr",
     "output_type": "stream",
     "text": [
      "WARNING:tensorflow:Using a while_loop for converting StatelessRandomUniformV2\n"
     ]
    },
    {
     "name": "stdout",
     "output_type": "stream",
     "text": [
      "WARNING:tensorflow:Using a while_loop for converting RngReadAndSkip\n"
     ]
    },
    {
     "name": "stderr",
     "output_type": "stream",
     "text": [
      "WARNING:tensorflow:Using a while_loop for converting RngReadAndSkip\n"
     ]
    },
    {
     "name": "stdout",
     "output_type": "stream",
     "text": [
      "WARNING:tensorflow:Using a while_loop for converting Bitcast\n"
     ]
    },
    {
     "name": "stderr",
     "output_type": "stream",
     "text": [
      "WARNING:tensorflow:Using a while_loop for converting Bitcast\n"
     ]
    },
    {
     "name": "stdout",
     "output_type": "stream",
     "text": [
      "WARNING:tensorflow:Using a while_loop for converting Bitcast\n"
     ]
    },
    {
     "name": "stderr",
     "output_type": "stream",
     "text": [
      "WARNING:tensorflow:Using a while_loop for converting Bitcast\n"
     ]
    },
    {
     "name": "stdout",
     "output_type": "stream",
     "text": [
      "WARNING:tensorflow:Using a while_loop for converting StatelessRandomUniformFullIntV2\n"
     ]
    },
    {
     "name": "stderr",
     "output_type": "stream",
     "text": [
      "WARNING:tensorflow:Using a while_loop for converting StatelessRandomUniformFullIntV2\n"
     ]
    },
    {
     "name": "stdout",
     "output_type": "stream",
     "text": [
      "WARNING:tensorflow:Using a while_loop for converting StatelessRandomGetKeyCounter\n"
     ]
    },
    {
     "name": "stderr",
     "output_type": "stream",
     "text": [
      "WARNING:tensorflow:Using a while_loop for converting StatelessRandomGetKeyCounter\n"
     ]
    },
    {
     "name": "stdout",
     "output_type": "stream",
     "text": [
      "WARNING:tensorflow:Using a while_loop for converting StatelessRandomUniformV2\n"
     ]
    },
    {
     "name": "stderr",
     "output_type": "stream",
     "text": [
      "WARNING:tensorflow:Using a while_loop for converting StatelessRandomUniformV2\n"
     ]
    },
    {
     "name": "stdout",
     "output_type": "stream",
     "text": [
      "WARNING:tensorflow:Using a while_loop for converting AdjustContrastv2\n"
     ]
    },
    {
     "name": "stderr",
     "output_type": "stream",
     "text": [
      "WARNING:tensorflow:Using a while_loop for converting AdjustContrastv2\n"
     ]
    },
    {
     "name": "stdout",
     "output_type": "stream",
     "text": [
      "WARNING:tensorflow:Using a while_loop for converting RngReadAndSkip\n"
     ]
    },
    {
     "name": "stderr",
     "output_type": "stream",
     "text": [
      "WARNING:tensorflow:Using a while_loop for converting RngReadAndSkip\n"
     ]
    },
    {
     "name": "stdout",
     "output_type": "stream",
     "text": [
      "WARNING:tensorflow:Using a while_loop for converting Bitcast\n"
     ]
    },
    {
     "name": "stderr",
     "output_type": "stream",
     "text": [
      "WARNING:tensorflow:Using a while_loop for converting Bitcast\n"
     ]
    },
    {
     "name": "stdout",
     "output_type": "stream",
     "text": [
      "WARNING:tensorflow:Using a while_loop for converting Bitcast\n"
     ]
    },
    {
     "name": "stderr",
     "output_type": "stream",
     "text": [
      "WARNING:tensorflow:Using a while_loop for converting Bitcast\n"
     ]
    },
    {
     "name": "stdout",
     "output_type": "stream",
     "text": [
      "WARNING:tensorflow:Using a while_loop for converting StatelessRandomUniformFullIntV2\n"
     ]
    },
    {
     "name": "stderr",
     "output_type": "stream",
     "text": [
      "WARNING:tensorflow:Using a while_loop for converting StatelessRandomUniformFullIntV2\n"
     ]
    },
    {
     "name": "stdout",
     "output_type": "stream",
     "text": [
      "WARNING:tensorflow:Using a while_loop for converting StatelessRandomGetKeyCounter\n"
     ]
    },
    {
     "name": "stderr",
     "output_type": "stream",
     "text": [
      "WARNING:tensorflow:Using a while_loop for converting StatelessRandomGetKeyCounter\n"
     ]
    },
    {
     "name": "stdout",
     "output_type": "stream",
     "text": [
      "WARNING:tensorflow:Using a while_loop for converting StatelessRandomUniformV2\n"
     ]
    },
    {
     "name": "stderr",
     "output_type": "stream",
     "text": [
      "WARNING:tensorflow:Using a while_loop for converting StatelessRandomUniformV2\n"
     ]
    },
    {
     "name": "stdout",
     "output_type": "stream",
     "text": [
      "WARNING:tensorflow:Using a while_loop for converting AdjustContrastv2\n"
     ]
    },
    {
     "name": "stderr",
     "output_type": "stream",
     "text": [
      "WARNING:tensorflow:Using a while_loop for converting AdjustContrastv2\n"
     ]
    },
    {
     "name": "stdout",
     "output_type": "stream",
     "text": [
      "WARNING:tensorflow:Using a while_loop for converting RngReadAndSkip\n"
     ]
    },
    {
     "name": "stderr",
     "output_type": "stream",
     "text": [
      "WARNING:tensorflow:Using a while_loop for converting RngReadAndSkip\n"
     ]
    },
    {
     "name": "stdout",
     "output_type": "stream",
     "text": [
      "WARNING:tensorflow:Using a while_loop for converting Bitcast\n"
     ]
    },
    {
     "name": "stderr",
     "output_type": "stream",
     "text": [
      "WARNING:tensorflow:Using a while_loop for converting Bitcast\n"
     ]
    },
    {
     "name": "stdout",
     "output_type": "stream",
     "text": [
      "WARNING:tensorflow:Using a while_loop for converting Bitcast\n"
     ]
    },
    {
     "name": "stderr",
     "output_type": "stream",
     "text": [
      "WARNING:tensorflow:Using a while_loop for converting Bitcast\n"
     ]
    },
    {
     "name": "stdout",
     "output_type": "stream",
     "text": [
      "WARNING:tensorflow:Using a while_loop for converting StatelessRandomUniformV2\n"
     ]
    },
    {
     "name": "stderr",
     "output_type": "stream",
     "text": [
      "WARNING:tensorflow:Using a while_loop for converting StatelessRandomUniformV2\n"
     ]
    },
    {
     "name": "stdout",
     "output_type": "stream",
     "text": [
      "WARNING:tensorflow:Using a while_loop for converting RngReadAndSkip\n"
     ]
    },
    {
     "name": "stderr",
     "output_type": "stream",
     "text": [
      "WARNING:tensorflow:Using a while_loop for converting RngReadAndSkip\n"
     ]
    },
    {
     "name": "stdout",
     "output_type": "stream",
     "text": [
      "WARNING:tensorflow:Using a while_loop for converting Bitcast\n"
     ]
    },
    {
     "name": "stderr",
     "output_type": "stream",
     "text": [
      "WARNING:tensorflow:Using a while_loop for converting Bitcast\n"
     ]
    },
    {
     "name": "stdout",
     "output_type": "stream",
     "text": [
      "WARNING:tensorflow:Using a while_loop for converting Bitcast\n"
     ]
    },
    {
     "name": "stderr",
     "output_type": "stream",
     "text": [
      "WARNING:tensorflow:Using a while_loop for converting Bitcast\n"
     ]
    },
    {
     "name": "stdout",
     "output_type": "stream",
     "text": [
      "WARNING:tensorflow:Using a while_loop for converting StatelessRandomUniformFullIntV2\n"
     ]
    },
    {
     "name": "stderr",
     "output_type": "stream",
     "text": [
      "WARNING:tensorflow:Using a while_loop for converting StatelessRandomUniformFullIntV2\n"
     ]
    },
    {
     "name": "stdout",
     "output_type": "stream",
     "text": [
      "WARNING:tensorflow:Using a while_loop for converting StatelessRandomGetKeyCounter\n"
     ]
    },
    {
     "name": "stderr",
     "output_type": "stream",
     "text": [
      "WARNING:tensorflow:Using a while_loop for converting StatelessRandomGetKeyCounter\n"
     ]
    },
    {
     "name": "stdout",
     "output_type": "stream",
     "text": [
      "WARNING:tensorflow:Using a while_loop for converting StatelessRandomUniformV2\n"
     ]
    },
    {
     "name": "stderr",
     "output_type": "stream",
     "text": [
      "WARNING:tensorflow:Using a while_loop for converting StatelessRandomUniformV2\n"
     ]
    },
    {
     "name": "stdout",
     "output_type": "stream",
     "text": [
      "WARNING:tensorflow:Using a while_loop for converting AdjustContrastv2\n"
     ]
    },
    {
     "name": "stderr",
     "output_type": "stream",
     "text": [
      "WARNING:tensorflow:Using a while_loop for converting AdjustContrastv2\n"
     ]
    },
    {
     "name": "stdout",
     "output_type": "stream",
     "text": [
      "WARNING:tensorflow:Using a while_loop for converting RngReadAndSkip\n"
     ]
    },
    {
     "name": "stderr",
     "output_type": "stream",
     "text": [
      "WARNING:tensorflow:Using a while_loop for converting RngReadAndSkip\n"
     ]
    },
    {
     "name": "stdout",
     "output_type": "stream",
     "text": [
      "WARNING:tensorflow:Using a while_loop for converting Bitcast\n"
     ]
    },
    {
     "name": "stderr",
     "output_type": "stream",
     "text": [
      "WARNING:tensorflow:Using a while_loop for converting Bitcast\n"
     ]
    },
    {
     "name": "stdout",
     "output_type": "stream",
     "text": [
      "WARNING:tensorflow:Using a while_loop for converting Bitcast\n"
     ]
    },
    {
     "name": "stderr",
     "output_type": "stream",
     "text": [
      "WARNING:tensorflow:Using a while_loop for converting Bitcast\n"
     ]
    },
    {
     "name": "stdout",
     "output_type": "stream",
     "text": [
      "WARNING:tensorflow:Using a while_loop for converting StatelessRandomUniformV2\n"
     ]
    },
    {
     "name": "stderr",
     "output_type": "stream",
     "text": [
      "WARNING:tensorflow:Using a while_loop for converting StatelessRandomUniformV2\n",
      "WARNING:absl:Found untraced functions such as _jit_compiled_convolution_op, _jit_compiled_convolution_op while saving (showing 2 of 2). These functions will not be directly callable after loading.\n"
     ]
    },
    {
     "name": "stdout",
     "output_type": "stream",
     "text": [
      "INFO:tensorflow:Assets written to: model/assets\n"
     ]
    },
    {
     "name": "stderr",
     "output_type": "stream",
     "text": [
      "INFO:tensorflow:Assets written to: model/assets\n"
     ]
    }
   ],
   "source": [
    "model.save(\"model\")"
   ]
  },
  {
   "cell_type": "code",
   "execution_count": null,
   "id": "0c5e5787-289a-420d-84d1-65466d10f041",
   "metadata": {},
   "outputs": [],
   "source": []
  }
 ],
 "metadata": {
  "kernelspec": {
   "display_name": "Python 3.9.7 ('base')",
   "language": "python",
   "name": "python3"
  },
  "language_info": {
   "codemirror_mode": {
    "name": "ipython",
    "version": 3
   },
   "file_extension": ".py",
   "mimetype": "text/x-python",
   "name": "python",
   "nbconvert_exporter": "python",
   "pygments_lexer": "ipython3",
   "version": "3.9.7"
  },
  "vscode": {
   "interpreter": {
    "hash": "7eacf58b4f0b60d62889eca4940789ea0476362b2dce49acc6cf214ae056653e"
   }
  }
 },
 "nbformat": 4,
 "nbformat_minor": 5
}
