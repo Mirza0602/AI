{
 "cells": [
  {
   "cell_type": "markdown",
   "id": "7b789858-6ff6-464b-812c-87f2700a945b",
   "metadata": {},
   "source": [
    "# Identify Handwritten Symbols with a Convolutional Neural Network \n",
    "\n",
    "## Modules"
   ]
  },
  {
   "cell_type": "code",
   "execution_count": 1,
   "id": "5f47879b-cef4-47d3-bee8-1d5ec818115d",
   "metadata": {},
   "outputs": [],
   "source": [
    "import random\n",
    "import numpy as np\n",
    "import tensorflow as tf\n",
    "import tensorflow_datasets as tfds\n",
    "import matplotlib.pyplot as plt\n",
    "import seaborn as sns\n",
    "\n",
    "from sklearn.metrics import precision_score, recall_score, confusion_matrix"
   ]
  },
  {
   "cell_type": "markdown",
   "id": "f0328f08-6d0b-429b-89fc-838e25c0138e",
   "metadata": {},
   "source": [
    "## Config"
   ]
  },
  {
   "cell_type": "code",
   "execution_count": 2,
   "id": "22e8e854-1fbc-4618-9394-97df3a7b3c43",
   "metadata": {},
   "outputs": [],
   "source": [
    "SEED = 123\n",
    "random.seed(SEED)\n",
    "np.random.seed(SEED)\n",
    "tf.random.set_seed(SEED)\n",
    "tf.keras.utils.set_random_seed(SEED)\n",
    "\n",
    "TRAIN_DATA_DIR = \"./digits_mirror/train\"\n",
    "TEST_DATA_DIR = \"./digits_mirror/test\"\n",
    "PRETRAIN = False\n",
    "BATCH_SIZE = 32"
   ]
  },
  {
   "cell_type": "markdown",
   "id": "e9477e45-bbf0-4b22-8a54-b1cf83f6022e",
   "metadata": {},
   "source": [
    "## Utilities"
   ]
  },
  {
   "cell_type": "code",
   "execution_count": 3,
   "id": "b027cba2-67e3-47ab-8522-46c6afbb9985",
   "metadata": {},
   "outputs": [],
   "source": [
    "def plot_learning_curve(history, indicator=None):\n",
    "    fig, ax = plt.subplots(figsize=(12, 6))\n",
    "\n",
    "    ax.set_title(f\"Learning Curve ({indicator.upper()})\")\n",
    "    ax.plot(history.history[indicator], label=\"train\")\n",
    "    ax.plot(history.history[f\"val_{indicator}\"], label=\"val\")\n",
    "\n",
    "    plt.legend()\n",
    "    plt.show()"
   ]
  },
  {
   "cell_type": "markdown",
   "id": "a2d90399-f1f7-4e60-af8b-3feea5f58249",
   "metadata": {},
   "source": [
    "## Read Own-Dataset"
   ]
  },
  {
   "cell_type": "code",
   "execution_count": 4,
   "id": "3cfbb252-a0b3-4d6e-bf5b-25e033675720",
   "metadata": {},
   "outputs": [
    {
     "name": "stdout",
     "output_type": "stream",
     "text": [
      "train\n",
      "Found 509 files belonging to 10 classes.\n",
      "Using 408 files for training.\n",
      "val\n",
      "Found 509 files belonging to 10 classes.\n",
      "Using 101 files for validation.\n",
      "test\n",
      "Found 109 files belonging to 10 classes.\n"
     ]
    },
    {
     "name": "stderr",
     "output_type": "stream",
     "text": [
      "2022-08-21 10:13:23.396152: I tensorflow/core/platform/cpu_feature_guard.cc:193] This TensorFlow binary is optimized with oneAPI Deep Neural Network Library (oneDNN) to use the following CPU instructions in performance-critical operations:  AVX2 FMA\n",
      "To enable them in other operations, rebuild TensorFlow with the appropriate compiler flags.\n"
     ]
    }
   ],
   "source": [
    "SPLIT      = 0.2\n",
    "IMAGE_SIZE = 28\n",
    "\n",
    "print(\"train\")\n",
    "train = tf.keras.utils.image_dataset_from_directory(\n",
    "    TRAIN_DATA_DIR,\n",
    "    validation_split=SPLIT,\n",
    "    seed=42,\n",
    "    color_mode=\"grayscale\",\n",
    "    subset=\"training\",\n",
    "    image_size=(IMAGE_SIZE, IMAGE_SIZE),\n",
    "    batch_size=BATCH_SIZE,\n",
    ")\n",
    "\n",
    "print(\"val\")\n",
    "val = tf.keras.utils.image_dataset_from_directory(\n",
    "    TRAIN_DATA_DIR,\n",
    "    validation_split=SPLIT,\n",
    "    seed=42,\n",
    "    color_mode=\"grayscale\",\n",
    "    subset=\"validation\",\n",
    "    image_size=(IMAGE_SIZE, IMAGE_SIZE),\n",
    "    batch_size=BATCH_SIZE,\n",
    ")\n",
    "\n",
    "print(\"test\")\n",
    "test = tf.keras.utils.image_dataset_from_directory(\n",
    "    TEST_DATA_DIR,\n",
    "    seed=42,\n",
    "    shuffle=True,\n",
    "    color_mode=\"grayscale\",\n",
    "    image_size=(IMAGE_SIZE, IMAGE_SIZE),\n",
    "    batch_size=1000,\n",
    ")"
   ]
  },
  {
   "cell_type": "markdown",
   "id": "3d202214-f6ab-45e2-b814-740277ecc351",
   "metadata": {},
   "source": [
    "## Read MNIST-Dataset"
   ]
  },
  {
   "cell_type": "code",
   "execution_count": 5,
   "id": "ec5ea9de-f969-4800-9cb5-1dda11eb148e",
   "metadata": {},
   "outputs": [],
   "source": [
    "(mnist_train, mnist_val), ds_info = tfds.load(\n",
    "    'mnist',\n",
    "    split=['train', 'test'],\n",
    "    shuffle_files=True,\n",
    "    as_supervised=True,\n",
    "    with_info=True,\n",
    "    batch_size=BATCH_SIZE\n",
    ")"
   ]
  },
  {
   "cell_type": "markdown",
   "id": "5ff2d1eb-57ba-4755-a4f1-273a184700da",
   "metadata": {},
   "source": [
    "## Create Model"
   ]
  },
  {
   "cell_type": "code",
   "execution_count": 6,
   "id": "b2cf8203-0406-4423-a012-5b48cafd0738",
   "metadata": {},
   "outputs": [
    {
     "name": "stdout",
     "output_type": "stream",
     "text": [
      "WARNING:tensorflow:Using a while_loop for converting RngReadAndSkip\n"
     ]
    },
    {
     "name": "stderr",
     "output_type": "stream",
     "text": [
      "WARNING:tensorflow:Using a while_loop for converting RngReadAndSkip\n"
     ]
    },
    {
     "name": "stdout",
     "output_type": "stream",
     "text": [
      "WARNING:tensorflow:Using a while_loop for converting Bitcast\n"
     ]
    },
    {
     "name": "stderr",
     "output_type": "stream",
     "text": [
      "WARNING:tensorflow:Using a while_loop for converting Bitcast\n"
     ]
    },
    {
     "name": "stdout",
     "output_type": "stream",
     "text": [
      "WARNING:tensorflow:Using a while_loop for converting Bitcast\n"
     ]
    },
    {
     "name": "stderr",
     "output_type": "stream",
     "text": [
      "WARNING:tensorflow:Using a while_loop for converting Bitcast\n"
     ]
    },
    {
     "name": "stdout",
     "output_type": "stream",
     "text": [
      "WARNING:tensorflow:Using a while_loop for converting StatelessRandomUniformFullIntV2\n"
     ]
    },
    {
     "name": "stderr",
     "output_type": "stream",
     "text": [
      "WARNING:tensorflow:Using a while_loop for converting StatelessRandomUniformFullIntV2\n"
     ]
    },
    {
     "name": "stdout",
     "output_type": "stream",
     "text": [
      "WARNING:tensorflow:Using a while_loop for converting StatelessRandomGetKeyCounter\n"
     ]
    },
    {
     "name": "stderr",
     "output_type": "stream",
     "text": [
      "WARNING:tensorflow:Using a while_loop for converting StatelessRandomGetKeyCounter\n"
     ]
    },
    {
     "name": "stdout",
     "output_type": "stream",
     "text": [
      "WARNING:tensorflow:Using a while_loop for converting StatelessRandomUniformV2\n"
     ]
    },
    {
     "name": "stderr",
     "output_type": "stream",
     "text": [
      "WARNING:tensorflow:Using a while_loop for converting StatelessRandomUniformV2\n"
     ]
    },
    {
     "name": "stdout",
     "output_type": "stream",
     "text": [
      "WARNING:tensorflow:Using a while_loop for converting AdjustContrastv2\n"
     ]
    },
    {
     "name": "stderr",
     "output_type": "stream",
     "text": [
      "WARNING:tensorflow:Using a while_loop for converting AdjustContrastv2\n"
     ]
    },
    {
     "name": "stdout",
     "output_type": "stream",
     "text": [
      "WARNING:tensorflow:Using a while_loop for converting RngReadAndSkip\n"
     ]
    },
    {
     "name": "stderr",
     "output_type": "stream",
     "text": [
      "WARNING:tensorflow:Using a while_loop for converting RngReadAndSkip\n"
     ]
    },
    {
     "name": "stdout",
     "output_type": "stream",
     "text": [
      "WARNING:tensorflow:Using a while_loop for converting Bitcast\n"
     ]
    },
    {
     "name": "stderr",
     "output_type": "stream",
     "text": [
      "WARNING:tensorflow:Using a while_loop for converting Bitcast\n"
     ]
    },
    {
     "name": "stdout",
     "output_type": "stream",
     "text": [
      "WARNING:tensorflow:Using a while_loop for converting Bitcast\n"
     ]
    },
    {
     "name": "stderr",
     "output_type": "stream",
     "text": [
      "WARNING:tensorflow:Using a while_loop for converting Bitcast\n"
     ]
    },
    {
     "name": "stdout",
     "output_type": "stream",
     "text": [
      "WARNING:tensorflow:Using a while_loop for converting StatelessRandomUniformV2\n"
     ]
    },
    {
     "name": "stderr",
     "output_type": "stream",
     "text": [
      "WARNING:tensorflow:Using a while_loop for converting StatelessRandomUniformV2\n"
     ]
    },
    {
     "name": "stdout",
     "output_type": "stream",
     "text": [
      "Model: \"sequential\"\n",
      "_________________________________________________________________\n",
      " Layer (type)                Output Shape              Param #   \n",
      "=================================================================\n",
      " random_rotation (RandomRota  (None, 28, 28, 1)        0         \n",
      " tion)                                                           \n",
      "                                                                 \n",
      " random_zoom (RandomZoom)    (None, 28, 28, 1)         0         \n",
      "                                                                 \n",
      " random_contrast (RandomCont  (None, 28, 28, 1)        0         \n",
      " rast)                                                           \n",
      "                                                                 \n",
      " random_brightness (RandomBr  (None, 28, 28, 1)        0         \n",
      " ightness)                                                       \n",
      "                                                                 \n",
      " rescaling (Rescaling)       (None, 28, 28, 1)         0         \n",
      "                                                                 \n",
      " conv2d (Conv2D)             (None, 26, 26, 32)        320       \n",
      "                                                                 \n",
      " dropout (Dropout)           (None, 26, 26, 32)        0         \n",
      "                                                                 \n",
      " max_pooling2d (MaxPooling2D  (None, 13, 13, 32)       0         \n",
      " )                                                               \n",
      "                                                                 \n",
      " conv2d_1 (Conv2D)           (None, 11, 11, 32)        9248      \n",
      "                                                                 \n",
      " dropout_1 (Dropout)         (None, 11, 11, 32)        0         \n",
      "                                                                 \n",
      " max_pooling2d_1 (MaxPooling  (None, 5, 5, 32)         0         \n",
      " 2D)                                                             \n",
      "                                                                 \n",
      " flatten (Flatten)           (None, 800)               0         \n",
      "                                                                 \n",
      " dense (Dense)               (None, 10)                8010      \n",
      "                                                                 \n",
      "=================================================================\n",
      "Total params: 17,578\n",
      "Trainable params: 17,578\n",
      "Non-trainable params: 0\n",
      "_________________________________________________________________\n"
     ]
    }
   ],
   "source": [
    "model = tf.keras.Sequential()\n",
    "dropout = 0.1\n",
    "channel = 32\n",
    "\n",
    "model.add(tf.keras.layers.RandomRotation(0.1, input_shape=(IMAGE_SIZE, IMAGE_SIZE, 1)))\n",
    "model.add(tf.keras.layers.RandomZoom(0.1))\n",
    "model.add(tf.keras.layers.RandomContrast(0.1))\n",
    "model.add(tf.keras.layers.RandomBrightness(0.1))\n",
    "model.add(tf.keras.layers.Rescaling(1./255))\n",
    "model.add(tf.keras.layers.Conv2D(channel, 3, activation=\"relu\"))\n",
    "model.add(tf.keras.layers.Dropout(dropout))\n",
    "model.add(tf.keras.layers.MaxPooling2D())\n",
    "model.add(tf.keras.layers.Conv2D(channel, 3, activation=\"relu\"))\n",
    "model.add(tf.keras.layers.Dropout(dropout))\n",
    "model.add(tf.keras.layers.MaxPooling2D())\n",
    "model.add(tf.keras.layers.Flatten())\n",
    "model.add(tf.keras.layers.Dense(10, activation=\"softmax\"))\n",
    "\n",
    "optimizer = tf.keras.optimizers.Adam(learning_rate=0.001)\n",
    "model.compile(\n",
    "    optimizer=optimizer,\n",
    "    loss=tf.keras.losses.SparseCategoricalCrossentropy(),\n",
    "    metrics=['accuracy']\n",
    ")\n",
    "model.summary()"
   ]
  },
  {
   "cell_type": "markdown",
   "id": "53c1e000-b4cf-4ba4-be53-a50f6b4a2536",
   "metadata": {},
   "source": [
    "## Train model on MNIST-Dataset"
   ]
  },
  {
   "cell_type": "code",
   "execution_count": 7,
   "id": "f49ca28d-86db-401b-9f6c-7c21787caa0a",
   "metadata": {},
   "outputs": [],
   "source": [
    "if PRETRAIN:\n",
    "    history = model.fit(mnist_train, validation_data=mnist_val, epochs=10)"
   ]
  },
  {
   "cell_type": "markdown",
   "id": "00b204de-fed3-42a8-8df0-bed2bf41bfa7",
   "metadata": {},
   "source": [
    "### Debug training"
   ]
  },
  {
   "cell_type": "code",
   "execution_count": 8,
   "id": "8764b3d2-951a-4ee1-b653-f63808826ecb",
   "metadata": {},
   "outputs": [],
   "source": [
    "if PRETRAIN:\n",
    "    plot_learning_curve(history, indicator=\"loss\")"
   ]
  },
  {
   "cell_type": "code",
   "execution_count": 9,
   "id": "11a7ead4-f6d0-438d-a23a-31f1bdb508da",
   "metadata": {},
   "outputs": [],
   "source": [
    "if PRETRAIN:\n",
    "    plot_learning_curve(history, indicator=\"accuracy\")"
   ]
  },
  {
   "cell_type": "markdown",
   "id": "a2ccb9dc-8263-48d3-849f-0c151af4def5",
   "metadata": {},
   "source": [
    "## Train model on OWN-Dataset"
   ]
  },
  {
   "cell_type": "code",
   "execution_count": 10,
   "id": "acd0b0fa-266f-4dde-9169-2b9ca080ecfb",
   "metadata": {},
   "outputs": [
    {
     "name": "stdout",
     "output_type": "stream",
     "text": [
      "Epoch 1/100\n",
      "WARNING:tensorflow:Using a while_loop for converting RngReadAndSkip\n"
     ]
    },
    {
     "name": "stderr",
     "output_type": "stream",
     "text": [
      "WARNING:tensorflow:Using a while_loop for converting RngReadAndSkip\n"
     ]
    },
    {
     "name": "stdout",
     "output_type": "stream",
     "text": [
      "WARNING:tensorflow:Using a while_loop for converting Bitcast\n"
     ]
    },
    {
     "name": "stderr",
     "output_type": "stream",
     "text": [
      "WARNING:tensorflow:Using a while_loop for converting Bitcast\n"
     ]
    },
    {
     "name": "stdout",
     "output_type": "stream",
     "text": [
      "WARNING:tensorflow:Using a while_loop for converting Bitcast\n"
     ]
    },
    {
     "name": "stderr",
     "output_type": "stream",
     "text": [
      "WARNING:tensorflow:Using a while_loop for converting Bitcast\n"
     ]
    },
    {
     "name": "stdout",
     "output_type": "stream",
     "text": [
      "WARNING:tensorflow:Using a while_loop for converting StatelessRandomUniformFullIntV2\n"
     ]
    },
    {
     "name": "stderr",
     "output_type": "stream",
     "text": [
      "WARNING:tensorflow:Using a while_loop for converting StatelessRandomUniformFullIntV2\n"
     ]
    },
    {
     "name": "stdout",
     "output_type": "stream",
     "text": [
      "WARNING:tensorflow:Using a while_loop for converting StatelessRandomGetKeyCounter\n"
     ]
    },
    {
     "name": "stderr",
     "output_type": "stream",
     "text": [
      "WARNING:tensorflow:Using a while_loop for converting StatelessRandomGetKeyCounter\n"
     ]
    },
    {
     "name": "stdout",
     "output_type": "stream",
     "text": [
      "WARNING:tensorflow:Using a while_loop for converting StatelessRandomUniformV2\n"
     ]
    },
    {
     "name": "stderr",
     "output_type": "stream",
     "text": [
      "WARNING:tensorflow:Using a while_loop for converting StatelessRandomUniformV2\n"
     ]
    },
    {
     "name": "stdout",
     "output_type": "stream",
     "text": [
      "WARNING:tensorflow:Using a while_loop for converting AdjustContrastv2\n"
     ]
    },
    {
     "name": "stderr",
     "output_type": "stream",
     "text": [
      "WARNING:tensorflow:Using a while_loop for converting AdjustContrastv2\n"
     ]
    },
    {
     "name": "stdout",
     "output_type": "stream",
     "text": [
      "WARNING:tensorflow:Using a while_loop for converting RngReadAndSkip\n"
     ]
    },
    {
     "name": "stderr",
     "output_type": "stream",
     "text": [
      "WARNING:tensorflow:Using a while_loop for converting RngReadAndSkip\n"
     ]
    },
    {
     "name": "stdout",
     "output_type": "stream",
     "text": [
      "WARNING:tensorflow:Using a while_loop for converting Bitcast\n"
     ]
    },
    {
     "name": "stderr",
     "output_type": "stream",
     "text": [
      "WARNING:tensorflow:Using a while_loop for converting Bitcast\n"
     ]
    },
    {
     "name": "stdout",
     "output_type": "stream",
     "text": [
      "WARNING:tensorflow:Using a while_loop for converting Bitcast\n"
     ]
    },
    {
     "name": "stderr",
     "output_type": "stream",
     "text": [
      "WARNING:tensorflow:Using a while_loop for converting Bitcast\n"
     ]
    },
    {
     "name": "stdout",
     "output_type": "stream",
     "text": [
      "WARNING:tensorflow:Using a while_loop for converting StatelessRandomUniformV2\n"
     ]
    },
    {
     "name": "stderr",
     "output_type": "stream",
     "text": [
      "WARNING:tensorflow:Using a while_loop for converting StatelessRandomUniformV2\n"
     ]
    },
    {
     "name": "stdout",
     "output_type": "stream",
     "text": [
      "WARNING:tensorflow:Using a while_loop for converting RngReadAndSkip\n"
     ]
    },
    {
     "name": "stderr",
     "output_type": "stream",
     "text": [
      "WARNING:tensorflow:Using a while_loop for converting RngReadAndSkip\n"
     ]
    },
    {
     "name": "stdout",
     "output_type": "stream",
     "text": [
      "WARNING:tensorflow:Using a while_loop for converting Bitcast\n"
     ]
    },
    {
     "name": "stderr",
     "output_type": "stream",
     "text": [
      "WARNING:tensorflow:Using a while_loop for converting Bitcast\n"
     ]
    },
    {
     "name": "stdout",
     "output_type": "stream",
     "text": [
      "WARNING:tensorflow:Using a while_loop for converting Bitcast\n"
     ]
    },
    {
     "name": "stderr",
     "output_type": "stream",
     "text": [
      "WARNING:tensorflow:Using a while_loop for converting Bitcast\n"
     ]
    },
    {
     "name": "stdout",
     "output_type": "stream",
     "text": [
      "WARNING:tensorflow:Using a while_loop for converting StatelessRandomUniformFullIntV2\n"
     ]
    },
    {
     "name": "stderr",
     "output_type": "stream",
     "text": [
      "WARNING:tensorflow:Using a while_loop for converting StatelessRandomUniformFullIntV2\n"
     ]
    },
    {
     "name": "stdout",
     "output_type": "stream",
     "text": [
      "WARNING:tensorflow:Using a while_loop for converting StatelessRandomGetKeyCounter\n"
     ]
    },
    {
     "name": "stderr",
     "output_type": "stream",
     "text": [
      "WARNING:tensorflow:Using a while_loop for converting StatelessRandomGetKeyCounter\n"
     ]
    },
    {
     "name": "stdout",
     "output_type": "stream",
     "text": [
      "WARNING:tensorflow:Using a while_loop for converting StatelessRandomUniformV2\n"
     ]
    },
    {
     "name": "stderr",
     "output_type": "stream",
     "text": [
      "WARNING:tensorflow:Using a while_loop for converting StatelessRandomUniformV2\n"
     ]
    },
    {
     "name": "stdout",
     "output_type": "stream",
     "text": [
      "WARNING:tensorflow:Using a while_loop for converting AdjustContrastv2\n"
     ]
    },
    {
     "name": "stderr",
     "output_type": "stream",
     "text": [
      "WARNING:tensorflow:Using a while_loop for converting AdjustContrastv2\n"
     ]
    },
    {
     "name": "stdout",
     "output_type": "stream",
     "text": [
      "WARNING:tensorflow:Using a while_loop for converting RngReadAndSkip\n"
     ]
    },
    {
     "name": "stderr",
     "output_type": "stream",
     "text": [
      "WARNING:tensorflow:Using a while_loop for converting RngReadAndSkip\n"
     ]
    },
    {
     "name": "stdout",
     "output_type": "stream",
     "text": [
      "WARNING:tensorflow:Using a while_loop for converting Bitcast\n"
     ]
    },
    {
     "name": "stderr",
     "output_type": "stream",
     "text": [
      "WARNING:tensorflow:Using a while_loop for converting Bitcast\n"
     ]
    },
    {
     "name": "stdout",
     "output_type": "stream",
     "text": [
      "WARNING:tensorflow:Using a while_loop for converting Bitcast\n"
     ]
    },
    {
     "name": "stderr",
     "output_type": "stream",
     "text": [
      "WARNING:tensorflow:Using a while_loop for converting Bitcast\n"
     ]
    },
    {
     "name": "stdout",
     "output_type": "stream",
     "text": [
      "WARNING:tensorflow:Using a while_loop for converting StatelessRandomUniformV2\n"
     ]
    },
    {
     "name": "stderr",
     "output_type": "stream",
     "text": [
      "WARNING:tensorflow:Using a while_loop for converting StatelessRandomUniformV2\n"
     ]
    },
    {
     "name": "stdout",
     "output_type": "stream",
     "text": [
      "13/13 [==============================] - 5s 60ms/step - loss: 2.3250 - accuracy: 0.0931 - val_loss: 2.2942 - val_accuracy: 0.1386\n",
      "Epoch 2/100\n",
      "13/13 [==============================] - 1s 41ms/step - loss: 2.2969 - accuracy: 0.1397 - val_loss: 2.2791 - val_accuracy: 0.1980\n",
      "Epoch 3/100\n",
      "13/13 [==============================] - 1s 42ms/step - loss: 2.2883 - accuracy: 0.1422 - val_loss: 2.2658 - val_accuracy: 0.2178\n",
      "Epoch 4/100\n",
      "13/13 [==============================] - 1s 40ms/step - loss: 2.2680 - accuracy: 0.1618 - val_loss: 2.2340 - val_accuracy: 0.1683\n",
      "Epoch 5/100\n",
      "13/13 [==============================] - 1s 42ms/step - loss: 2.2418 - accuracy: 0.2010 - val_loss: 2.1776 - val_accuracy: 0.2178\n",
      "Epoch 6/100\n",
      "13/13 [==============================] - 1s 39ms/step - loss: 2.1870 - accuracy: 0.2941 - val_loss: 2.0981 - val_accuracy: 0.2079\n",
      "Epoch 7/100\n",
      "13/13 [==============================] - 1s 39ms/step - loss: 2.1242 - accuracy: 0.3039 - val_loss: 1.9928 - val_accuracy: 0.2376\n",
      "Epoch 8/100\n",
      "13/13 [==============================] - 1s 38ms/step - loss: 2.0244 - accuracy: 0.3995 - val_loss: 1.8705 - val_accuracy: 0.2871\n",
      "Epoch 9/100\n",
      "13/13 [==============================] - 1s 43ms/step - loss: 1.9686 - accuracy: 0.3873 - val_loss: 1.7708 - val_accuracy: 0.3465\n",
      "Epoch 10/100\n",
      "13/13 [==============================] - 1s 50ms/step - loss: 1.8568 - accuracy: 0.4265 - val_loss: 1.6086 - val_accuracy: 0.4653\n",
      "Epoch 11/100\n",
      "13/13 [==============================] - 1s 50ms/step - loss: 1.7307 - accuracy: 0.4706 - val_loss: 1.6221 - val_accuracy: 0.3465\n",
      "Epoch 12/100\n",
      "13/13 [==============================] - 1s 44ms/step - loss: 1.7039 - accuracy: 0.4804 - val_loss: 1.5154 - val_accuracy: 0.4455\n",
      "Epoch 13/100\n",
      "13/13 [==============================] - 1s 43ms/step - loss: 1.5711 - accuracy: 0.5049 - val_loss: 1.5339 - val_accuracy: 0.4059\n",
      "Epoch 14/100\n",
      "13/13 [==============================] - 1s 44ms/step - loss: 1.4964 - accuracy: 0.5539 - val_loss: 1.3727 - val_accuracy: 0.4851\n",
      "Epoch 15/100\n",
      "13/13 [==============================] - 1s 43ms/step - loss: 1.4246 - accuracy: 0.5662 - val_loss: 1.2911 - val_accuracy: 0.5149\n",
      "Epoch 16/100\n",
      "13/13 [==============================] - 1s 71ms/step - loss: 1.4022 - accuracy: 0.5735 - val_loss: 1.3075 - val_accuracy: 0.5050\n",
      "Epoch 17/100\n",
      "13/13 [==============================] - 1s 68ms/step - loss: 1.3049 - accuracy: 0.6005 - val_loss: 1.3315 - val_accuracy: 0.4950\n",
      "Epoch 18/100\n",
      "13/13 [==============================] - 1s 62ms/step - loss: 1.2729 - accuracy: 0.5980 - val_loss: 1.0013 - val_accuracy: 0.6634\n",
      "Epoch 19/100\n",
      "13/13 [==============================] - 1s 57ms/step - loss: 1.2344 - accuracy: 0.6250 - val_loss: 0.9005 - val_accuracy: 0.7228\n",
      "Epoch 20/100\n",
      "13/13 [==============================] - 1s 48ms/step - loss: 1.1146 - accuracy: 0.6667 - val_loss: 0.8942 - val_accuracy: 0.6931\n",
      "Epoch 21/100\n",
      "13/13 [==============================] - 1s 44ms/step - loss: 1.0667 - accuracy: 0.6912 - val_loss: 0.8607 - val_accuracy: 0.7327\n",
      "Epoch 22/100\n",
      "13/13 [==============================] - 1s 45ms/step - loss: 1.0949 - accuracy: 0.6471 - val_loss: 0.9537 - val_accuracy: 0.6436\n",
      "Epoch 23/100\n",
      "13/13 [==============================] - 1s 44ms/step - loss: 1.0242 - accuracy: 0.6814 - val_loss: 0.9232 - val_accuracy: 0.6535\n",
      "Epoch 24/100\n",
      "13/13 [==============================] - 1s 42ms/step - loss: 0.9675 - accuracy: 0.7034 - val_loss: 0.7572 - val_accuracy: 0.7822\n",
      "Epoch 25/100\n",
      "13/13 [==============================] - 1s 42ms/step - loss: 0.9463 - accuracy: 0.7426 - val_loss: 0.7558 - val_accuracy: 0.7624\n",
      "Epoch 26/100\n",
      "13/13 [==============================] - 1s 42ms/step - loss: 0.9337 - accuracy: 0.7402 - val_loss: 0.7493 - val_accuracy: 0.7624\n",
      "Epoch 27/100\n",
      "13/13 [==============================] - 1s 42ms/step - loss: 0.8474 - accuracy: 0.7475 - val_loss: 0.6895 - val_accuracy: 0.8317\n",
      "Epoch 28/100\n",
      "13/13 [==============================] - 1s 40ms/step - loss: 0.8615 - accuracy: 0.7279 - val_loss: 0.6960 - val_accuracy: 0.8119\n",
      "Epoch 29/100\n",
      "13/13 [==============================] - 1s 56ms/step - loss: 0.7750 - accuracy: 0.7623 - val_loss: 0.7504 - val_accuracy: 0.7426\n",
      "Epoch 30/100\n",
      "13/13 [==============================] - 1s 78ms/step - loss: 0.8142 - accuracy: 0.7647 - val_loss: 0.7680 - val_accuracy: 0.7327\n",
      "Epoch 31/100\n",
      "13/13 [==============================] - 1s 50ms/step - loss: 0.7615 - accuracy: 0.7672 - val_loss: 0.6870 - val_accuracy: 0.8218\n",
      "Epoch 32/100\n",
      "13/13 [==============================] - 1s 79ms/step - loss: 0.7665 - accuracy: 0.7843 - val_loss: 0.8034 - val_accuracy: 0.7426\n",
      "Epoch 33/100\n",
      "13/13 [==============================] - 1s 93ms/step - loss: 0.7338 - accuracy: 0.7819 - val_loss: 0.7375 - val_accuracy: 0.7525\n",
      "Epoch 34/100\n",
      "13/13 [==============================] - 1s 71ms/step - loss: 0.7628 - accuracy: 0.7549 - val_loss: 0.6595 - val_accuracy: 0.8119\n",
      "Epoch 35/100\n",
      "13/13 [==============================] - 1s 61ms/step - loss: 0.7142 - accuracy: 0.7672 - val_loss: 0.6245 - val_accuracy: 0.8416\n",
      "Epoch 36/100\n",
      "13/13 [==============================] - 1s 57ms/step - loss: 0.6870 - accuracy: 0.7868 - val_loss: 0.6614 - val_accuracy: 0.8218\n",
      "Epoch 37/100\n",
      "13/13 [==============================] - 1s 73ms/step - loss: 0.7390 - accuracy: 0.7696 - val_loss: 0.6400 - val_accuracy: 0.8317\n",
      "Epoch 38/100\n",
      "13/13 [==============================] - 1s 76ms/step - loss: 0.7266 - accuracy: 0.7721 - val_loss: 0.6004 - val_accuracy: 0.8416\n",
      "Epoch 39/100\n",
      "13/13 [==============================] - 1s 53ms/step - loss: 0.6453 - accuracy: 0.8015 - val_loss: 0.6876 - val_accuracy: 0.8119\n",
      "Epoch 40/100\n",
      "13/13 [==============================] - 1s 58ms/step - loss: 0.7110 - accuracy: 0.7647 - val_loss: 0.5857 - val_accuracy: 0.8614\n",
      "Epoch 41/100\n",
      "13/13 [==============================] - 1s 88ms/step - loss: 0.7120 - accuracy: 0.7794 - val_loss: 0.6403 - val_accuracy: 0.8218\n",
      "Epoch 42/100\n",
      "13/13 [==============================] - 1s 62ms/step - loss: 0.6822 - accuracy: 0.7990 - val_loss: 0.6896 - val_accuracy: 0.8218\n",
      "Epoch 43/100\n",
      "13/13 [==============================] - 1s 65ms/step - loss: 0.6043 - accuracy: 0.7990 - val_loss: 0.6513 - val_accuracy: 0.8317\n",
      "Epoch 44/100\n",
      "13/13 [==============================] - 1s 55ms/step - loss: 0.6293 - accuracy: 0.8235 - val_loss: 0.5991 - val_accuracy: 0.8317\n",
      "Epoch 45/100\n",
      "13/13 [==============================] - 1s 75ms/step - loss: 0.6529 - accuracy: 0.8064 - val_loss: 0.6275 - val_accuracy: 0.8515\n",
      "Epoch 46/100\n",
      "13/13 [==============================] - 1s 64ms/step - loss: 0.6322 - accuracy: 0.8309 - val_loss: 0.6209 - val_accuracy: 0.8416\n",
      "Epoch 47/100\n",
      "13/13 [==============================] - 1s 60ms/step - loss: 0.5847 - accuracy: 0.8333 - val_loss: 0.5893 - val_accuracy: 0.8614\n",
      "Epoch 48/100\n",
      "13/13 [==============================] - 1s 80ms/step - loss: 0.6480 - accuracy: 0.8064 - val_loss: 0.6196 - val_accuracy: 0.8416\n",
      "Epoch 49/100\n",
      "13/13 [==============================] - 1s 73ms/step - loss: 0.5254 - accuracy: 0.8676 - val_loss: 0.6137 - val_accuracy: 0.8614\n",
      "Epoch 50/100\n",
      "13/13 [==============================] - 1s 82ms/step - loss: 0.6165 - accuracy: 0.8113 - val_loss: 0.6160 - val_accuracy: 0.8416\n",
      "Epoch 51/100\n",
      "13/13 [==============================] - 1s 98ms/step - loss: 0.5403 - accuracy: 0.8235 - val_loss: 0.6103 - val_accuracy: 0.8416\n",
      "Epoch 52/100\n",
      "13/13 [==============================] - 1s 107ms/step - loss: 0.5682 - accuracy: 0.8162 - val_loss: 0.5566 - val_accuracy: 0.8713\n",
      "Epoch 53/100\n",
      "13/13 [==============================] - 1s 99ms/step - loss: 0.5673 - accuracy: 0.8284 - val_loss: 0.5725 - val_accuracy: 0.8614\n",
      "Epoch 54/100\n",
      "13/13 [==============================] - 1s 114ms/step - loss: 0.6088 - accuracy: 0.8260 - val_loss: 0.6522 - val_accuracy: 0.8416\n",
      "Epoch 55/100\n",
      "13/13 [==============================] - 2s 116ms/step - loss: 0.5421 - accuracy: 0.8456 - val_loss: 0.5706 - val_accuracy: 0.8713\n",
      "Epoch 56/100\n",
      "13/13 [==============================] - 2s 133ms/step - loss: 0.5775 - accuracy: 0.8333 - val_loss: 0.6458 - val_accuracy: 0.8317\n",
      "Epoch 57/100\n",
      "13/13 [==============================] - 1s 112ms/step - loss: 0.5097 - accuracy: 0.8505 - val_loss: 0.6409 - val_accuracy: 0.8416\n",
      "Epoch 58/100\n",
      "13/13 [==============================] - 1s 95ms/step - loss: 0.4800 - accuracy: 0.8652 - val_loss: 0.5570 - val_accuracy: 0.8713\n",
      "Epoch 59/100\n",
      "13/13 [==============================] - 1s 67ms/step - loss: 0.5921 - accuracy: 0.8186 - val_loss: 0.6303 - val_accuracy: 0.8614\n",
      "Epoch 60/100\n",
      "13/13 [==============================] - 1s 84ms/step - loss: 0.5817 - accuracy: 0.8358 - val_loss: 0.5483 - val_accuracy: 0.8713\n",
      "Epoch 61/100\n",
      "13/13 [==============================] - 2s 124ms/step - loss: 0.5299 - accuracy: 0.8652 - val_loss: 0.6435 - val_accuracy: 0.8515\n",
      "Epoch 62/100\n",
      "13/13 [==============================] - 1s 103ms/step - loss: 0.5228 - accuracy: 0.8407 - val_loss: 0.5584 - val_accuracy: 0.8713\n",
      "Epoch 63/100\n",
      "13/13 [==============================] - 1s 87ms/step - loss: 0.5455 - accuracy: 0.8260 - val_loss: 0.5834 - val_accuracy: 0.8614\n",
      "Epoch 64/100\n",
      "13/13 [==============================] - 1s 101ms/step - loss: 0.4862 - accuracy: 0.8456 - val_loss: 0.5822 - val_accuracy: 0.8614\n",
      "Epoch 65/100\n",
      "13/13 [==============================] - 1s 84ms/step - loss: 0.4677 - accuracy: 0.8775 - val_loss: 0.5623 - val_accuracy: 0.8713\n",
      "Epoch 66/100\n",
      "13/13 [==============================] - 1s 79ms/step - loss: 0.5017 - accuracy: 0.8652 - val_loss: 0.5419 - val_accuracy: 0.8812\n",
      "Epoch 67/100\n",
      "13/13 [==============================] - 1s 75ms/step - loss: 0.5441 - accuracy: 0.8333 - val_loss: 0.5922 - val_accuracy: 0.8812\n",
      "Epoch 68/100\n",
      "13/13 [==============================] - 1s 73ms/step - loss: 0.5170 - accuracy: 0.8382 - val_loss: 0.6061 - val_accuracy: 0.8515\n",
      "Epoch 69/100\n",
      "13/13 [==============================] - 1s 85ms/step - loss: 0.5272 - accuracy: 0.8309 - val_loss: 0.5617 - val_accuracy: 0.8812\n",
      "Epoch 70/100\n",
      "13/13 [==============================] - 1s 81ms/step - loss: 0.4937 - accuracy: 0.8652 - val_loss: 0.5229 - val_accuracy: 0.8812\n",
      "Epoch 71/100\n",
      "13/13 [==============================] - 1s 84ms/step - loss: 0.4762 - accuracy: 0.8456 - val_loss: 0.5360 - val_accuracy: 0.8713\n",
      "Epoch 72/100\n",
      "13/13 [==============================] - 1s 71ms/step - loss: 0.4770 - accuracy: 0.8260 - val_loss: 0.5128 - val_accuracy: 0.8911\n",
      "Epoch 73/100\n",
      "13/13 [==============================] - 1s 73ms/step - loss: 0.4819 - accuracy: 0.8480 - val_loss: 0.5343 - val_accuracy: 0.8911\n",
      "Epoch 74/100\n",
      "13/13 [==============================] - 1s 71ms/step - loss: 0.4371 - accuracy: 0.8652 - val_loss: 0.5747 - val_accuracy: 0.8614\n",
      "Epoch 75/100\n",
      "13/13 [==============================] - 1s 78ms/step - loss: 0.4024 - accuracy: 0.8701 - val_loss: 0.4959 - val_accuracy: 0.9109\n",
      "Epoch 76/100\n",
      "13/13 [==============================] - 1s 72ms/step - loss: 0.4043 - accuracy: 0.8750 - val_loss: 0.4931 - val_accuracy: 0.9208\n",
      "Epoch 77/100\n",
      "13/13 [==============================] - 1s 75ms/step - loss: 0.4063 - accuracy: 0.8701 - val_loss: 0.5309 - val_accuracy: 0.9109\n",
      "Epoch 78/100\n",
      "13/13 [==============================] - 1s 81ms/step - loss: 0.4858 - accuracy: 0.8505 - val_loss: 0.5320 - val_accuracy: 0.9010\n",
      "Epoch 79/100\n",
      "13/13 [==============================] - 1s 68ms/step - loss: 0.4178 - accuracy: 0.8676 - val_loss: 0.5569 - val_accuracy: 0.8911\n",
      "Epoch 80/100\n",
      "13/13 [==============================] - 1s 71ms/step - loss: 0.4290 - accuracy: 0.8725 - val_loss: 0.5359 - val_accuracy: 0.9109\n",
      "Epoch 81/100\n",
      "13/13 [==============================] - 1s 74ms/step - loss: 0.4549 - accuracy: 0.8897 - val_loss: 0.5569 - val_accuracy: 0.8812\n",
      "Epoch 82/100\n",
      "13/13 [==============================] - 1s 81ms/step - loss: 0.3973 - accuracy: 0.8750 - val_loss: 0.5522 - val_accuracy: 0.9010\n",
      "Epoch 83/100\n",
      "13/13 [==============================] - 1s 72ms/step - loss: 0.3695 - accuracy: 0.8799 - val_loss: 0.5360 - val_accuracy: 0.8911\n",
      "Epoch 84/100\n",
      "13/13 [==============================] - 1s 72ms/step - loss: 0.3625 - accuracy: 0.8873 - val_loss: 0.5574 - val_accuracy: 0.8812\n",
      "Epoch 85/100\n",
      "13/13 [==============================] - 1s 72ms/step - loss: 0.4263 - accuracy: 0.8848 - val_loss: 0.5494 - val_accuracy: 0.8713\n",
      "Epoch 86/100\n",
      "13/13 [==============================] - 1s 71ms/step - loss: 0.3718 - accuracy: 0.8922 - val_loss: 0.5219 - val_accuracy: 0.9109\n",
      "Epoch 87/100\n",
      "13/13 [==============================] - 1s 76ms/step - loss: 0.4514 - accuracy: 0.8946 - val_loss: 0.5812 - val_accuracy: 0.8911\n",
      "Epoch 88/100\n",
      "13/13 [==============================] - 1s 68ms/step - loss: 0.4270 - accuracy: 0.8824 - val_loss: 0.5120 - val_accuracy: 0.9109\n",
      "Epoch 89/100\n",
      "13/13 [==============================] - 1s 76ms/step - loss: 0.4233 - accuracy: 0.8529 - val_loss: 0.4820 - val_accuracy: 0.9109\n",
      "Epoch 90/100\n",
      "13/13 [==============================] - 1s 79ms/step - loss: 0.4174 - accuracy: 0.8824 - val_loss: 0.5990 - val_accuracy: 0.8812\n",
      "Epoch 91/100\n",
      "13/13 [==============================] - 1s 80ms/step - loss: 0.4356 - accuracy: 0.8676 - val_loss: 0.4750 - val_accuracy: 0.9208\n",
      "Epoch 92/100\n",
      "13/13 [==============================] - 1s 92ms/step - loss: 0.3629 - accuracy: 0.9044 - val_loss: 0.5282 - val_accuracy: 0.9010\n",
      "Epoch 93/100\n",
      "13/13 [==============================] - 1s 80ms/step - loss: 0.4650 - accuracy: 0.8578 - val_loss: 0.5200 - val_accuracy: 0.8911\n",
      "Epoch 94/100\n",
      "13/13 [==============================] - 1s 77ms/step - loss: 0.3496 - accuracy: 0.9020 - val_loss: 0.5679 - val_accuracy: 0.9010\n",
      "Epoch 95/100\n",
      "13/13 [==============================] - 1s 70ms/step - loss: 0.3861 - accuracy: 0.8946 - val_loss: 0.5117 - val_accuracy: 0.9010\n",
      "Epoch 96/100\n",
      "13/13 [==============================] - 1s 69ms/step - loss: 0.4057 - accuracy: 0.8799 - val_loss: 0.5409 - val_accuracy: 0.9109\n",
      "Epoch 97/100\n",
      "13/13 [==============================] - 1s 64ms/step - loss: 0.4140 - accuracy: 0.8775 - val_loss: 0.5705 - val_accuracy: 0.9010\n",
      "Epoch 98/100\n",
      "13/13 [==============================] - 1s 70ms/step - loss: 0.4361 - accuracy: 0.8627 - val_loss: 0.4729 - val_accuracy: 0.9307\n",
      "Epoch 99/100\n",
      "13/13 [==============================] - 1s 69ms/step - loss: 0.3946 - accuracy: 0.8824 - val_loss: 0.6427 - val_accuracy: 0.8515\n",
      "Epoch 100/100\n",
      "13/13 [==============================] - 1s 70ms/step - loss: 0.3967 - accuracy: 0.8799 - val_loss: 0.5099 - val_accuracy: 0.9208\n"
     ]
    }
   ],
   "source": [
    "history = model.fit(train, validation_data=val, epochs=100)"
   ]
  },
  {
   "cell_type": "markdown",
   "id": "b37fab1c-9e0a-4a17-8ae7-c9e2c31b7dad",
   "metadata": {},
   "source": [
    "### Debug training"
   ]
  },
  {
   "cell_type": "code",
   "execution_count": 11,
   "id": "24f6dd3d-3473-4c52-95e1-cba48f3d848e",
   "metadata": {},
   "outputs": [
    {
     "data": {
      "image/png": "[encoded data removed]",
      "text/plain": [
       "<Figure size 864x432 with 1 Axes>"
      ]
     },
     "metadata": {
      "needs_background": "light"
     },
     "output_type": "display_data"
    }
   ],
   "source": [
    "plot_learning_curve(history, indicator=\"loss\")"
   ]
  },
  {
   "cell_type": "code",
   "execution_count": 12,
   "id": "5654fecf-2c42-4ee4-9c2c-68cf02786ef8",
   "metadata": {},
   "outputs": [
    {
     "data": {
      "image/png": "[encoded data removed]",
      "text/plain": [
       "<Figure size 864x432 with 1 Axes>"
      ]
     },
     "metadata": {
      "needs_background": "light"
     },
     "output_type": "display_data"
    }
   ],
   "source": [
    "plot_learning_curve(history, indicator=\"accuracy\")"
   ]
  },
  {
   "cell_type": "markdown",
   "id": "6e8cdb92-81d9-4b6e-af5f-99e2f33a10c3",
   "metadata": {},
   "source": [
    "## Evaluate Model"
   ]
  },
  {
   "cell_type": "code",
   "execution_count": 13,
   "id": "5d9ad20c-eb89-4c0b-9949-ae1fd9a7ed97",
   "metadata": {},
   "outputs": [
    {
     "name": "stdout",
     "output_type": "stream",
     "text": [
      "4/4 [==============================] - 1s 10ms/step\n"
     ]
    },
    {
     "data": {
      "text/plain": [
       "array([2, 3, 3, 1, 7, 1, 0, 1, 3, 5, 4, 2, 4, 3, 9, 0, 4, 6, 7, 6, 6, 6,\n",
       "       3, 0, 4, 7, 5, 2, 5, 0, 7, 9, 9, 0, 6, 6, 1, 1, 3, 5, 7, 2, 2, 9,\n",
       "       7, 9, 6, 2, 5, 2, 3, 7, 5, 9, 0, 6, 5, 4, 4, 3, 8, 3, 0, 2, 8, 2,\n",
       "       1, 0, 6, 1, 3, 1, 1, 0, 0, 9, 3, 7, 8, 0, 0, 7, 2, 7, 4, 8, 7, 8,\n",
       "       2, 0, 9, 8, 8, 8, 6, 9, 9, 4, 8, 1, 2, 0, 5, 7, 4, 0, 8, 6, 0])"
      ]
     },
     "execution_count": 13,
     "metadata": {},
     "output_type": "execute_result"
    }
   ],
   "source": [
    "test_data = list(test)\n",
    "x_test = test_data[0][0].numpy()\n",
    "y_test = test_data[0][1].numpy()\n",
    "\n",
    "y_pred = model.predict(x_test)\n",
    "y_pred = np.argmax(y_pred, axis=1)\n",
    "y_pred"
   ]
  },
  {
   "cell_type": "markdown",
   "id": "51b1ac90-34bd-4632-a37e-83a01d61dc05",
   "metadata": {},
   "source": [
    "### Precision"
   ]
  },
  {
   "cell_type": "code",
   "execution_count": 14,
   "id": "3626826f-daa8-49d6-b422-7f8f5df647fc",
   "metadata": {},
   "outputs": [
    {
     "data": {
      "text/plain": [
       "array([2, 3, 3, 1, 7, 1, 0, 1, 3, 5, 4, 2, 4, 3, 9, 0, 4, 6, 7, 6, 6, 6,\n",
       "       3, 0, 4, 7, 5, 2, 5, 0, 7, 9, 9, 0, 6, 6, 1, 1, 3, 5, 7, 2, 2, 9,\n",
       "       7, 9, 6, 2, 5, 2, 3, 7, 5, 9, 0, 6, 5, 4, 4, 3, 8, 3, 0, 2, 8, 2,\n",
       "       1, 0, 6, 1, 3, 1, 1, 0, 0, 9, 3, 7, 8, 0, 0, 7, 2, 7, 4, 8, 7, 8,\n",
       "       2, 0, 9, 8, 8, 8, 6, 9, 9, 4, 8, 1, 2, 0, 5, 7, 4, 0, 8, 6, 0])"
      ]
     },
     "execution_count": 14,
     "metadata": {},
     "output_type": "execute_result"
    }
   ],
   "source": [
    "y_pred"
   ]
  },
  {
   "cell_type": "code",
   "execution_count": 15,
   "id": "88346034-c76a-48af-9d73-71fc59d6876b",
   "metadata": {},
   "outputs": [
    {
     "data": {
      "text/plain": [
       "array([2, 3, 3, 1, 7, 1, 0, 1, 3, 5, 4, 2, 4, 3, 9, 0, 4, 6, 7, 6, 6, 6,\n",
       "       3, 0, 4, 7, 5, 2, 5, 0, 5, 9, 9, 0, 6, 6, 1, 1, 5, 5, 7, 2, 2, 9,\n",
       "       7, 9, 6, 2, 7, 5, 3, 7, 5, 9, 0, 6, 5, 4, 4, 3, 8, 3, 0, 2, 8, 2,\n",
       "       1, 0, 6, 1, 3, 1, 1, 0, 0, 9, 3, 5, 8, 0, 0, 2, 2, 7, 4, 8, 7, 8,\n",
       "       5, 0, 9, 8, 8, 8, 6, 9, 9, 4, 8, 1, 2, 0, 5, 7, 4, 0, 8, 4, 0],\n",
       "      dtype=int32)"
      ]
     },
     "execution_count": 15,
     "metadata": {},
     "output_type": "execute_result"
    }
   ],
   "source": [
    "y_test"
   ]
  },
  {
   "cell_type": "code",
   "execution_count": 16,
   "id": "8adbba95-5fd3-4684-9ea3-859634353335",
   "metadata": {},
   "outputs": [
    {
     "data": {
      "text/plain": [
       "0.926605504587156"
      ]
     },
     "execution_count": 16,
     "metadata": {},
     "output_type": "execute_result"
    }
   ],
   "source": [
    "from sklearn.metrics import accuracy_score\n",
    "\n",
    "accuracy_score(y_test, y_pred)"
   ]
  },
  {
   "cell_type": "code",
   "execution_count": 17,
   "id": "71499aea-c93f-4439-bf90-19aac3c535e5",
   "metadata": {},
   "outputs": [
    {
     "data": {
      "text/plain": [
       "array([1.        , 1.        , 0.83333333, 0.90909091, 1.        ,\n",
       "       0.875     , 0.90909091, 0.75      , 1.        , 1.        ])"
      ]
     },
     "execution_count": 17,
     "metadata": {},
     "output_type": "execute_result"
    }
   ],
   "source": [
    "precision_score(y_test, y_pred, labels=[i for i in range(10)], average=None)"
   ]
  },
  {
   "cell_type": "markdown",
   "id": "67a7c593-fc74-4265-9709-4d85c0b0fb36",
   "metadata": {},
   "source": [
    "### Recall"
   ]
  },
  {
   "cell_type": "code",
   "execution_count": 18,
   "id": "fe3969e0-24d9-4cbf-b160-cc4a2cb3da6d",
   "metadata": {},
   "outputs": [
    {
     "data": {
      "text/plain": [
       "array([1.        , 1.        , 0.90909091, 1.        , 0.9       ,\n",
       "       0.58333333, 1.        , 0.9       , 1.        , 1.        ])"
      ]
     },
     "execution_count": 18,
     "metadata": {},
     "output_type": "execute_result"
    }
   ],
   "source": [
    "recall_score(y_test, y_pred, labels=[i for i in range(10)], average=None)"
   ]
  },
  {
   "cell_type": "markdown",
   "id": "7242f47a-cb81-44c7-98e4-294e68611f03",
   "metadata": {},
   "source": [
    "### Confusion Matrix"
   ]
  },
  {
   "cell_type": "code",
   "execution_count": 19,
   "id": "9d7c958e-fa48-4f35-a7f3-ffe37da6cf81",
   "metadata": {},
   "outputs": [
    {
     "data": {
      "image/png": "[encoded data removed]",
      "text/plain": [
       "<Figure size 720x576 with 2 Axes>"
      ]
     },
     "metadata": {
      "needs_background": "light"
     },
     "output_type": "display_data"
    }
   ],
   "source": [
    "cm = confusion_matrix(y_test, y_pred)\n",
    "\n",
    "fig, ax = plt.subplots(figsize=(10, 8))\n",
    "s = sns.heatmap(cm, annot=True, ax=ax)\n",
    "# TODO: check proper ordering y_pred-y_test y_axis-x_axis\n",
    "s.set(xlabel='y_pred', ylabel='y_test', title=\"Confusion Matrix\")\n",
    "plt.show()"
   ]
  },
  {
   "cell_type": "markdown",
   "id": "b47f60b5-205d-4b4b-a7ec-309f04f1d418",
   "metadata": {},
   "source": [
    "## Save Model"
   ]
  },
  {
   "cell_type": "code",
   "execution_count": 20,
   "id": "a60cc1be-be9c-4006-9b07-3942fe2ca4a1",
   "metadata": {},
   "outputs": [
    {
     "name": "stdout",
     "output_type": "stream",
     "text": [
      "WARNING:tensorflow:Using a while_loop for converting RngReadAndSkip\n"
     ]
    },
    {
     "name": "stderr",
     "output_type": "stream",
     "text": [
      "WARNING:tensorflow:Using a while_loop for converting RngReadAndSkip\n"
     ]
    },
    {
     "name": "stdout",
     "output_type": "stream",
     "text": [
      "WARNING:tensorflow:Using a while_loop for converting Bitcast\n"
     ]
    },
    {
     "name": "stderr",
     "output_type": "stream",
     "text": [
      "WARNING:tensorflow:Using a while_loop for converting Bitcast\n"
     ]
    },
    {
     "name": "stdout",
     "output_type": "stream",
     "text": [
      "WARNING:tensorflow:Using a while_loop for converting Bitcast\n"
     ]
    },
    {
     "name": "stderr",
     "output_type": "stream",
     "text": [
      "WARNING:tensorflow:Using a while_loop for converting Bitcast\n"
     ]
    },
    {
     "name": "stdout",
     "output_type": "stream",
     "text": [
      "WARNING:tensorflow:Using a while_loop for converting StatelessRandomUniformV2\n"
     ]
    },
    {
     "name": "stderr",
     "output_type": "stream",
     "text": [
      "WARNING:tensorflow:Using a while_loop for converting StatelessRandomUniformV2\n"
     ]
    },
    {
     "name": "stdout",
     "output_type": "stream",
     "text": [
      "WARNING:tensorflow:Using a while_loop for converting RngReadAndSkip\n"
     ]
    },
    {
     "name": "stderr",
     "output_type": "stream",
     "text": [
      "WARNING:tensorflow:Using a while_loop for converting RngReadAndSkip\n"
     ]
    },
    {
     "name": "stdout",
     "output_type": "stream",
     "text": [
      "WARNING:tensorflow:Using a while_loop for converting Bitcast\n"
     ]
    },
    {
     "name": "stderr",
     "output_type": "stream",
     "text": [
      "WARNING:tensorflow:Using a while_loop for converting Bitcast\n"
     ]
    },
    {
     "name": "stdout",
     "output_type": "stream",
     "text": [
      "WARNING:tensorflow:Using a while_loop for converting Bitcast\n"
     ]
    },
    {
     "name": "stderr",
     "output_type": "stream",
     "text": [
      "WARNING:tensorflow:Using a while_loop for converting Bitcast\n"
     ]
    },
    {
     "name": "stdout",
     "output_type": "stream",
     "text": [
      "WARNING:tensorflow:Using a while_loop for converting StatelessRandomUniformFullIntV2\n"
     ]
    },
    {
     "name": "stderr",
     "output_type": "stream",
     "text": [
      "WARNING:tensorflow:Using a while_loop for converting StatelessRandomUniformFullIntV2\n"
     ]
    },
    {
     "name": "stdout",
     "output_type": "stream",
     "text": [
      "WARNING:tensorflow:Using a while_loop for converting StatelessRandomGetKeyCounter\n"
     ]
    },
    {
     "name": "stderr",
     "output_type": "stream",
     "text": [
      "WARNING:tensorflow:Using a while_loop for converting StatelessRandomGetKeyCounter\n"
     ]
    },
    {
     "name": "stdout",
     "output_type": "stream",
     "text": [
      "WARNING:tensorflow:Using a while_loop for converting StatelessRandomUniformV2\n"
     ]
    },
    {
     "name": "stderr",
     "output_type": "stream",
     "text": [
      "WARNING:tensorflow:Using a while_loop for converting StatelessRandomUniformV2\n"
     ]
    },
    {
     "name": "stdout",
     "output_type": "stream",
     "text": [
      "WARNING:tensorflow:Using a while_loop for converting AdjustContrastv2\n"
     ]
    },
    {
     "name": "stderr",
     "output_type": "stream",
     "text": [
      "WARNING:tensorflow:Using a while_loop for converting AdjustContrastv2\n"
     ]
    },
    {
     "name": "stdout",
     "output_type": "stream",
     "text": [
      "WARNING:tensorflow:Using a while_loop for converting RngReadAndSkip\n"
     ]
    },
    {
     "name": "stderr",
     "output_type": "stream",
     "text": [
      "WARNING:tensorflow:Using a while_loop for converting RngReadAndSkip\n"
     ]
    },
    {
     "name": "stdout",
     "output_type": "stream",
     "text": [
      "WARNING:tensorflow:Using a while_loop for converting Bitcast\n"
     ]
    },
    {
     "name": "stderr",
     "output_type": "stream",
     "text": [
      "WARNING:tensorflow:Using a while_loop for converting Bitcast\n"
     ]
    },
    {
     "name": "stdout",
     "output_type": "stream",
     "text": [
      "WARNING:tensorflow:Using a while_loop for converting Bitcast\n"
     ]
    },
    {
     "name": "stderr",
     "output_type": "stream",
     "text": [
      "WARNING:tensorflow:Using a while_loop for converting Bitcast\n"
     ]
    },
    {
     "name": "stdout",
     "output_type": "stream",
     "text": [
      "WARNING:tensorflow:Using a while_loop for converting StatelessRandomUniformFullIntV2\n"
     ]
    },
    {
     "name": "stderr",
     "output_type": "stream",
     "text": [
      "WARNING:tensorflow:Using a while_loop for converting StatelessRandomUniformFullIntV2\n"
     ]
    },
    {
     "name": "stdout",
     "output_type": "stream",
     "text": [
      "WARNING:tensorflow:Using a while_loop for converting StatelessRandomGetKeyCounter\n"
     ]
    },
    {
     "name": "stderr",
     "output_type": "stream",
     "text": [
      "WARNING:tensorflow:Using a while_loop for converting StatelessRandomGetKeyCounter\n"
     ]
    },
    {
     "name": "stdout",
     "output_type": "stream",
     "text": [
      "WARNING:tensorflow:Using a while_loop for converting StatelessRandomUniformV2\n"
     ]
    },
    {
     "name": "stderr",
     "output_type": "stream",
     "text": [
      "WARNING:tensorflow:Using a while_loop for converting StatelessRandomUniformV2\n"
     ]
    },
    {
     "name": "stdout",
     "output_type": "stream",
     "text": [
      "WARNING:tensorflow:Using a while_loop for converting AdjustContrastv2\n"
     ]
    },
    {
     "name": "stderr",
     "output_type": "stream",
     "text": [
      "WARNING:tensorflow:Using a while_loop for converting AdjustContrastv2\n"
     ]
    },
    {
     "name": "stdout",
     "output_type": "stream",
     "text": [
      "WARNING:tensorflow:Using a while_loop for converting RngReadAndSkip\n"
     ]
    },
    {
     "name": "stderr",
     "output_type": "stream",
     "text": [
      "WARNING:tensorflow:Using a while_loop for converting RngReadAndSkip\n"
     ]
    },
    {
     "name": "stdout",
     "output_type": "stream",
     "text": [
      "WARNING:tensorflow:Using a while_loop for converting Bitcast\n"
     ]
    },
    {
     "name": "stderr",
     "output_type": "stream",
     "text": [
      "WARNING:tensorflow:Using a while_loop for converting Bitcast\n"
     ]
    },
    {
     "name": "stdout",
     "output_type": "stream",
     "text": [
      "WARNING:tensorflow:Using a while_loop for converting Bitcast\n"
     ]
    },
    {
     "name": "stderr",
     "output_type": "stream",
     "text": [
      "WARNING:tensorflow:Using a while_loop for converting Bitcast\n"
     ]
    },
    {
     "name": "stdout",
     "output_type": "stream",
     "text": [
      "WARNING:tensorflow:Using a while_loop for converting StatelessRandomUniformV2\n"
     ]
    },
    {
     "name": "stderr",
     "output_type": "stream",
     "text": [
      "WARNING:tensorflow:Using a while_loop for converting StatelessRandomUniformV2\n"
     ]
    },
    {
     "name": "stdout",
     "output_type": "stream",
     "text": [
      "WARNING:tensorflow:Using a while_loop for converting RngReadAndSkip\n"
     ]
    },
    {
     "name": "stderr",
     "output_type": "stream",
     "text": [
      "WARNING:tensorflow:Using a while_loop for converting RngReadAndSkip\n"
     ]
    },
    {
     "name": "stdout",
     "output_type": "stream",
     "text": [
      "WARNING:tensorflow:Using a while_loop for converting Bitcast\n"
     ]
    },
    {
     "name": "stderr",
     "output_type": "stream",
     "text": [
      "WARNING:tensorflow:Using a while_loop for converting Bitcast\n"
     ]
    },
    {
     "name": "stdout",
     "output_type": "stream",
     "text": [
      "WARNING:tensorflow:Using a while_loop for converting Bitcast\n"
     ]
    },
    {
     "name": "stderr",
     "output_type": "stream",
     "text": [
      "WARNING:tensorflow:Using a while_loop for converting Bitcast\n"
     ]
    },
    {
     "name": "stdout",
     "output_type": "stream",
     "text": [
      "WARNING:tensorflow:Using a while_loop for converting StatelessRandomUniformFullIntV2\n"
     ]
    },
    {
     "name": "stderr",
     "output_type": "stream",
     "text": [
      "WARNING:tensorflow:Using a while_loop for converting StatelessRandomUniformFullIntV2\n"
     ]
    },
    {
     "name": "stdout",
     "output_type": "stream",
     "text": [
      "WARNING:tensorflow:Using a while_loop for converting StatelessRandomGetKeyCounter\n"
     ]
    },
    {
     "name": "stderr",
     "output_type": "stream",
     "text": [
      "WARNING:tensorflow:Using a while_loop for converting StatelessRandomGetKeyCounter\n"
     ]
    },
    {
     "name": "stdout",
     "output_type": "stream",
     "text": [
      "WARNING:tensorflow:Using a while_loop for converting StatelessRandomUniformV2\n"
     ]
    },
    {
     "name": "stderr",
     "output_type": "stream",
     "text": [
      "WARNING:tensorflow:Using a while_loop for converting StatelessRandomUniformV2\n"
     ]
    },
    {
     "name": "stdout",
     "output_type": "stream",
     "text": [
      "WARNING:tensorflow:Using a while_loop for converting AdjustContrastv2\n"
     ]
    },
    {
     "name": "stderr",
     "output_type": "stream",
     "text": [
      "WARNING:tensorflow:Using a while_loop for converting AdjustContrastv2\n"
     ]
    },
    {
     "name": "stdout",
     "output_type": "stream",
     "text": [
      "WARNING:tensorflow:Using a while_loop for converting RngReadAndSkip\n"
     ]
    },
    {
     "name": "stderr",
     "output_type": "stream",
     "text": [
      "WARNING:tensorflow:Using a while_loop for converting RngReadAndSkip\n"
     ]
    },
    {
     "name": "stdout",
     "output_type": "stream",
     "text": [
      "WARNING:tensorflow:Using a while_loop for converting Bitcast\n"
     ]
    },
    {
     "name": "stderr",
     "output_type": "stream",
     "text": [
      "WARNING:tensorflow:Using a while_loop for converting Bitcast\n"
     ]
    },
    {
     "name": "stdout",
     "output_type": "stream",
     "text": [
      "WARNING:tensorflow:Using a while_loop for converting Bitcast\n"
     ]
    },
    {
     "name": "stderr",
     "output_type": "stream",
     "text": [
      "WARNING:tensorflow:Using a while_loop for converting Bitcast\n"
     ]
    },
    {
     "name": "stdout",
     "output_type": "stream",
     "text": [
      "WARNING:tensorflow:Using a while_loop for converting StatelessRandomUniformV2\n"
     ]
    },
    {
     "name": "stderr",
     "output_type": "stream",
     "text": [
      "WARNING:tensorflow:Using a while_loop for converting StatelessRandomUniformV2\n",
      "WARNING:absl:Found untraced functions such as _jit_compiled_convolution_op, _jit_compiled_convolution_op while saving (showing 2 of 2). These functions will not be directly callable after loading.\n"
     ]
    },
    {
     "name": "stdout",
     "output_type": "stream",
     "text": [
      "INFO:tensorflow:Assets written to: model/assets\n"
     ]
    },
    {
     "name": "stderr",
     "output_type": "stream",
     "text": [
      "INFO:tensorflow:Assets written to: model/assets\n"
     ]
    }
   ],
   "source": [
    "model.save(\"model\")"
   ]
  },
  {
   "cell_type": "code",
   "execution_count": null,
   "id": "0c5e5787-289a-420d-84d1-65466d10f041",
   "metadata": {},
   "outputs": [],
   "source": []
  }
 ],
 "metadata": {
  "kernelspec": {
   "display_name": "Python 3 (ipykernel)",
   "language": "python",
   "name": "python3"
  },
  "language_info": {
   "codemirror_mode": {
    "name": "ipython",
    "version": 3
   },
   "file_extension": ".py",
   "mimetype": "text/x-python",
   "name": "python",
   "nbconvert_exporter": "python",
   "pygments_lexer": "ipython3",
   "version": "3.9.12"
  }
 },
 "nbformat": 4,
 "nbformat_minor": 5
}
